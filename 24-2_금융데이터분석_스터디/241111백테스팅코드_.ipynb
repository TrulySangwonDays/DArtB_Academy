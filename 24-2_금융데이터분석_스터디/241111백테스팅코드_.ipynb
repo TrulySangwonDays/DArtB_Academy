{
 "cells": [
  {
   "cell_type": "code",
   "execution_count": 78,
   "metadata": {},
   "outputs": [
    {
     "name": "stdout",
     "output_type": "stream",
     "text": [
      "Requirement already satisfied: koreanize-matplotlib in /opt/anaconda3/lib/python3.12/site-packages (0.1.1)\n",
      "Requirement already satisfied: matplotlib in /opt/anaconda3/lib/python3.12/site-packages (from koreanize-matplotlib) (3.8.4)\n",
      "Requirement already satisfied: contourpy>=1.0.1 in /opt/anaconda3/lib/python3.12/site-packages (from matplotlib->koreanize-matplotlib) (1.2.0)\n",
      "Requirement already satisfied: cycler>=0.10 in /opt/anaconda3/lib/python3.12/site-packages (from matplotlib->koreanize-matplotlib) (0.11.0)\n",
      "Requirement already satisfied: fonttools>=4.22.0 in /opt/anaconda3/lib/python3.12/site-packages (from matplotlib->koreanize-matplotlib) (4.51.0)\n",
      "Requirement already satisfied: kiwisolver>=1.3.1 in /opt/anaconda3/lib/python3.12/site-packages (from matplotlib->koreanize-matplotlib) (1.4.4)\n",
      "Requirement already satisfied: numpy>=1.21 in /opt/anaconda3/lib/python3.12/site-packages (from matplotlib->koreanize-matplotlib) (1.26.4)\n",
      "Requirement already satisfied: packaging>=20.0 in /opt/anaconda3/lib/python3.12/site-packages (from matplotlib->koreanize-matplotlib) (23.2)\n",
      "Requirement already satisfied: pillow>=8 in /opt/anaconda3/lib/python3.12/site-packages (from matplotlib->koreanize-matplotlib) (10.3.0)\n",
      "Requirement already satisfied: pyparsing>=2.3.1 in /opt/anaconda3/lib/python3.12/site-packages (from matplotlib->koreanize-matplotlib) (3.0.9)\n",
      "Requirement already satisfied: python-dateutil>=2.7 in /opt/anaconda3/lib/python3.12/site-packages (from matplotlib->koreanize-matplotlib) (2.9.0.post0)\n",
      "Requirement already satisfied: six>=1.5 in /opt/anaconda3/lib/python3.12/site-packages (from python-dateutil>=2.7->matplotlib->koreanize-matplotlib) (1.16.0)\n"
     ]
    }
   ],
   "source": [
    "!pip install koreanize-matplotlib\n",
    "import koreanize_matplotlib"
   ]
  },
  {
   "cell_type": "code",
   "execution_count": 35,
   "metadata": {},
   "outputs": [],
   "source": [
    "import bt #백테스팅\n",
    "import yfinance as yf #주가크롤링\n",
    "\n",
    "import pandas as pd"
   ]
  },
  {
   "cell_type": "markdown",
   "metadata": {},
   "source": [
    "### 주가 데이터 로드"
   ]
  },
  {
   "cell_type": "code",
   "execution_count": 67,
   "metadata": {},
   "outputs": [],
   "source": [
    "# 백테스팅 날짜 선정\n",
    "start = '2015-01-01'\n",
    "end = '2020-12-31'"
   ]
  },
  {
   "cell_type": "code",
   "execution_count": 68,
   "metadata": {},
   "outputs": [
    {
     "name": "stderr",
     "output_type": "stream",
     "text": [
      "[*********************100%***********************]  5 of 5 completed\n"
     ]
    },
    {
     "data": {
      "text/html": [
       "<div>\n",
       "<style scoped>\n",
       "    .dataframe tbody tr th:only-of-type {\n",
       "        vertical-align: middle;\n",
       "    }\n",
       "\n",
       "    .dataframe tbody tr th {\n",
       "        vertical-align: top;\n",
       "    }\n",
       "\n",
       "    .dataframe thead th {\n",
       "        text-align: right;\n",
       "    }\n",
       "</style>\n",
       "<table border=\"1\" class=\"dataframe\">\n",
       "  <thead>\n",
       "    <tr style=\"text-align: right;\">\n",
       "      <th>Ticker</th>\n",
       "      <th>XLF</th>\n",
       "      <th>XLK</th>\n",
       "      <th>XLP</th>\n",
       "      <th>XLV</th>\n",
       "      <th>XLY</th>\n",
       "    </tr>\n",
       "    <tr>\n",
       "      <th>Date</th>\n",
       "      <th></th>\n",
       "      <th></th>\n",
       "      <th></th>\n",
       "      <th></th>\n",
       "      <th></th>\n",
       "    </tr>\n",
       "  </thead>\n",
       "  <tbody>\n",
       "    <tr>\n",
       "      <th>2015-01-02 00:00:00+00:00</th>\n",
       "      <td>16.656860</td>\n",
       "      <td>36.498814</td>\n",
       "      <td>37.333607</td>\n",
       "      <td>58.564083</td>\n",
       "      <td>64.070160</td>\n",
       "    </tr>\n",
       "    <tr>\n",
       "      <th>2015-01-05 00:00:00+00:00</th>\n",
       "      <td>16.306614</td>\n",
       "      <td>35.941647</td>\n",
       "      <td>37.071064</td>\n",
       "      <td>58.265423</td>\n",
       "      <td>62.844727</td>\n",
       "    </tr>\n",
       "    <tr>\n",
       "      <th>2015-01-06 00:00:00+00:00</th>\n",
       "      <td>16.057402</td>\n",
       "      <td>35.508305</td>\n",
       "      <td>37.024750</td>\n",
       "      <td>58.069164</td>\n",
       "      <td>62.218613</td>\n",
       "    </tr>\n",
       "    <tr>\n",
       "      <th>2015-01-07 00:00:00+00:00</th>\n",
       "      <td>16.225788</td>\n",
       "      <td>35.808994</td>\n",
       "      <td>37.657902</td>\n",
       "      <td>59.434471</td>\n",
       "      <td>63.202499</td>\n",
       "    </tr>\n",
       "    <tr>\n",
       "      <th>2015-01-08 00:00:00+00:00</th>\n",
       "      <td>16.468267</td>\n",
       "      <td>36.596100</td>\n",
       "      <td>38.229305</td>\n",
       "      <td>60.449947</td>\n",
       "      <td>64.150635</td>\n",
       "    </tr>\n",
       "    <tr>\n",
       "      <th>...</th>\n",
       "      <td>...</td>\n",
       "      <td>...</td>\n",
       "      <td>...</td>\n",
       "      <td>...</td>\n",
       "      <td>...</td>\n",
       "    </tr>\n",
       "    <tr>\n",
       "      <th>2020-12-23 00:00:00+00:00</th>\n",
       "      <td>27.000004</td>\n",
       "      <td>124.272270</td>\n",
       "      <td>60.260090</td>\n",
       "      <td>104.894226</td>\n",
       "      <td>152.933273</td>\n",
       "    </tr>\n",
       "    <tr>\n",
       "      <th>2020-12-24 00:00:00+00:00</th>\n",
       "      <td>27.037357</td>\n",
       "      <td>125.096176</td>\n",
       "      <td>60.559628</td>\n",
       "      <td>105.196220</td>\n",
       "      <td>153.253647</td>\n",
       "    </tr>\n",
       "    <tr>\n",
       "      <th>2020-12-28 00:00:00+00:00</th>\n",
       "      <td>27.168110</td>\n",
       "      <td>126.511337</td>\n",
       "      <td>61.040688</td>\n",
       "      <td>105.460442</td>\n",
       "      <td>155.000870</td>\n",
       "    </tr>\n",
       "    <tr>\n",
       "      <th>2020-12-29 00:00:00+00:00</th>\n",
       "      <td>27.074715</td>\n",
       "      <td>125.910370</td>\n",
       "      <td>60.859161</td>\n",
       "      <td>105.960617</td>\n",
       "      <td>155.049423</td>\n",
       "    </tr>\n",
       "    <tr>\n",
       "      <th>2020-12-30 00:00:00+00:00</th>\n",
       "      <td>27.196125</td>\n",
       "      <td>125.842529</td>\n",
       "      <td>60.795624</td>\n",
       "      <td>105.941742</td>\n",
       "      <td>155.981293</td>\n",
       "    </tr>\n",
       "  </tbody>\n",
       "</table>\n",
       "<p>1510 rows × 5 columns</p>\n",
       "</div>"
      ],
      "text/plain": [
       "Ticker                           XLF         XLK        XLP         XLV  \\\n",
       "Date                                                                      \n",
       "2015-01-02 00:00:00+00:00  16.656860   36.498814  37.333607   58.564083   \n",
       "2015-01-05 00:00:00+00:00  16.306614   35.941647  37.071064   58.265423   \n",
       "2015-01-06 00:00:00+00:00  16.057402   35.508305  37.024750   58.069164   \n",
       "2015-01-07 00:00:00+00:00  16.225788   35.808994  37.657902   59.434471   \n",
       "2015-01-08 00:00:00+00:00  16.468267   36.596100  38.229305   60.449947   \n",
       "...                              ...         ...        ...         ...   \n",
       "2020-12-23 00:00:00+00:00  27.000004  124.272270  60.260090  104.894226   \n",
       "2020-12-24 00:00:00+00:00  27.037357  125.096176  60.559628  105.196220   \n",
       "2020-12-28 00:00:00+00:00  27.168110  126.511337  61.040688  105.460442   \n",
       "2020-12-29 00:00:00+00:00  27.074715  125.910370  60.859161  105.960617   \n",
       "2020-12-30 00:00:00+00:00  27.196125  125.842529  60.795624  105.941742   \n",
       "\n",
       "Ticker                            XLY  \n",
       "Date                                   \n",
       "2015-01-02 00:00:00+00:00   64.070160  \n",
       "2015-01-05 00:00:00+00:00   62.844727  \n",
       "2015-01-06 00:00:00+00:00   62.218613  \n",
       "2015-01-07 00:00:00+00:00   63.202499  \n",
       "2015-01-08 00:00:00+00:00   64.150635  \n",
       "...                               ...  \n",
       "2020-12-23 00:00:00+00:00  152.933273  \n",
       "2020-12-24 00:00:00+00:00  153.253647  \n",
       "2020-12-28 00:00:00+00:00  155.000870  \n",
       "2020-12-29 00:00:00+00:00  155.049423  \n",
       "2020-12-30 00:00:00+00:00  155.981293  \n",
       "\n",
       "[1510 rows x 5 columns]"
      ]
     },
     "execution_count": 68,
     "metadata": {},
     "output_type": "execute_result"
    }
   ],
   "source": [
    "symbol = ['XLF', 'XLY', 'XLP', 'XLK', 'XLV']\n",
    "# 금융, 임의소비재, 필수소비재, 정보기술, 헬스케어\n",
    "\n",
    "df = yf.download(symbol, start, end)\n",
    "df = df['Adj Close']\n",
    "df"
   ]
  },
  {
   "cell_type": "code",
   "execution_count": 69,
   "metadata": {},
   "outputs": [
    {
     "data": {
      "text/plain": [
       "<Axes: xlabel='Date'>"
      ]
     },
     "execution_count": 69,
     "metadata": {},
     "output_type": "execute_result"
    },
    {
     "data": {
      "image/png": "[encoded data removed]",
      "text/plain": [
       "<Figure size 640x480 with 1 Axes>"
      ]
     },
     "metadata": {},
     "output_type": "display_data"
    }
   ],
   "source": [
    "df.plot()"
   ]
  },
  {
   "cell_type": "code",
   "execution_count": 70,
   "metadata": {},
   "outputs": [
    {
     "data": {
      "text/plain": [
       "Ticker\n",
       "XLF    0\n",
       "XLK    0\n",
       "XLP    0\n",
       "XLV    0\n",
       "XLY    0\n",
       "dtype: int64"
      ]
     },
     "execution_count": 70,
     "metadata": {},
     "output_type": "execute_result"
    }
   ],
   "source": [
    "df.isnull().sum()"
   ]
  },
  {
   "cell_type": "code",
   "execution_count": 71,
   "metadata": {},
   "outputs": [],
   "source": [
    "df = df.dropna()"
   ]
  },
  {
   "cell_type": "code",
   "execution_count": 72,
   "metadata": {},
   "outputs": [
    {
     "data": {
      "text/html": [
       "<div>\n",
       "<style scoped>\n",
       "    .dataframe tbody tr th:only-of-type {\n",
       "        vertical-align: middle;\n",
       "    }\n",
       "\n",
       "    .dataframe tbody tr th {\n",
       "        vertical-align: top;\n",
       "    }\n",
       "\n",
       "    .dataframe thead th {\n",
       "        text-align: right;\n",
       "    }\n",
       "</style>\n",
       "<table border=\"1\" class=\"dataframe\">\n",
       "  <thead>\n",
       "    <tr style=\"text-align: right;\">\n",
       "      <th></th>\n",
       "      <th>count</th>\n",
       "      <th>mean</th>\n",
       "      <th>std</th>\n",
       "      <th>min</th>\n",
       "      <th>25%</th>\n",
       "      <th>50%</th>\n",
       "      <th>75%</th>\n",
       "      <th>max</th>\n",
       "    </tr>\n",
       "    <tr>\n",
       "      <th>Ticker</th>\n",
       "      <th></th>\n",
       "      <th></th>\n",
       "      <th></th>\n",
       "      <th></th>\n",
       "      <th></th>\n",
       "      <th></th>\n",
       "      <th></th>\n",
       "      <th></th>\n",
       "    </tr>\n",
       "  </thead>\n",
       "  <tbody>\n",
       "    <tr>\n",
       "      <th>XLF</th>\n",
       "      <td>1510.0</td>\n",
       "      <td>21.126101</td>\n",
       "      <td>3.829529</td>\n",
       "      <td>13.498845</td>\n",
       "      <td>16.745662</td>\n",
       "      <td>21.738541</td>\n",
       "      <td>24.300930</td>\n",
       "      <td>28.373857</td>\n",
       "    </tr>\n",
       "    <tr>\n",
       "      <th>XLK</th>\n",
       "      <td>1510.0</td>\n",
       "      <td>61.751760</td>\n",
       "      <td>22.825961</td>\n",
       "      <td>33.628635</td>\n",
       "      <td>40.296474</td>\n",
       "      <td>59.487360</td>\n",
       "      <td>74.202951</td>\n",
       "      <td>126.511337</td>\n",
       "    </tr>\n",
       "    <tr>\n",
       "      <th>XLP</th>\n",
       "      <td>1510.0</td>\n",
       "      <td>46.057415</td>\n",
       "      <td>6.025622</td>\n",
       "      <td>35.723537</td>\n",
       "      <td>41.968844</td>\n",
       "      <td>44.986275</td>\n",
       "      <td>50.454062</td>\n",
       "      <td>61.344002</td>\n",
       "    </tr>\n",
       "    <tr>\n",
       "      <th>XLV</th>\n",
       "      <td>1510.0</td>\n",
       "      <td>75.046163</td>\n",
       "      <td>13.070643</td>\n",
       "      <td>54.972000</td>\n",
       "      <td>62.926123</td>\n",
       "      <td>73.591724</td>\n",
       "      <td>83.509773</td>\n",
       "      <td>106.202225</td>\n",
       "    </tr>\n",
       "    <tr>\n",
       "      <th>XLY</th>\n",
       "      <td>1510.0</td>\n",
       "      <td>94.172948</td>\n",
       "      <td>23.029341</td>\n",
       "      <td>61.503029</td>\n",
       "      <td>72.572069</td>\n",
       "      <td>91.034977</td>\n",
       "      <td>110.568806</td>\n",
       "      <td>155.981293</td>\n",
       "    </tr>\n",
       "  </tbody>\n",
       "</table>\n",
       "</div>"
      ],
      "text/plain": [
       "         count       mean        std        min        25%        50%  \\\n",
       "Ticker                                                                  \n",
       "XLF     1510.0  21.126101   3.829529  13.498845  16.745662  21.738541   \n",
       "XLK     1510.0  61.751760  22.825961  33.628635  40.296474  59.487360   \n",
       "XLP     1510.0  46.057415   6.025622  35.723537  41.968844  44.986275   \n",
       "XLV     1510.0  75.046163  13.070643  54.972000  62.926123  73.591724   \n",
       "XLY     1510.0  94.172948  23.029341  61.503029  72.572069  91.034977   \n",
       "\n",
       "               75%         max  \n",
       "Ticker                          \n",
       "XLF      24.300930   28.373857  \n",
       "XLK      74.202951  126.511337  \n",
       "XLP      50.454062   61.344002  \n",
       "XLV      83.509773  106.202225  \n",
       "XLY     110.568806  155.981293  "
      ]
     },
     "execution_count": 72,
     "metadata": {},
     "output_type": "execute_result"
    }
   ],
   "source": [
    "df.describe().T"
   ]
  },
  {
   "cell_type": "markdown",
   "metadata": {},
   "source": [
    "### 알고리즘 로직 정의"
   ]
  },
  {
   "cell_type": "code",
   "execution_count": null,
   "metadata": {},
   "outputs": [],
   "source": [
    "import bt\n",
    "import pandas as pd\n",
    "\n",
    "# 금리 변화와 자산 상관 분석 데이터 로드\n",
    "rate_data = pd.read_csv('금리변화와 각 자산간의 상관분석데이터.csv', index_col='Date', parse_dates=True)\n",
    "\n",
    "# 커스텀 알고리즘: 금리 변화에 따라 리밸런싱\n",
    "class InterestRateRebalance(bt.Algo):\n",
    "    def __init__(self, rate_col):\n",
    "        self.rate_col = rate_col\n",
    "\n",
    "    def __call__(self, target):\n",
    "        # 가장 최근의 금리 데이터를 가져옴\n",
    "        latest_rate_change = target.get_data(self.rate_col).iloc[-1]\n",
    "\n",
    "        # 금리 변화에 따른 리밸런싱 로직 작성\n",
    "        if latest_rate_change != 0:  # 금리 변화가 발생한 경우\n",
    "            print(f\"금리 변화 발생: {latest_rate_change}\")\n",
    "            target.rebalance()  # 리밸런싱 수행\n",
    "\n",
    "        return True\n",
    "\n",
    "# 전략 설정\n",
    "df_port = bt.Strategy('df_port', [\n",
    "    bt.algos.SelectAll(),\n",
    "    bt.algos.WeighSpecified(**{\n",
    "        'XLF': 0.20,\n",
    "        'XLK': 0.20,\n",
    "        'XLP': 0.20,\n",
    "        'XLV': 0.20,\n",
    "        'XLY': 0.20\n",
    "    }),\n",
    "    InterestRateRebalance('InterestRateChange'),  # 커스텀 알고리즘 추가\n",
    "    bt.algos.Rebalance()\n",
    "])\n",
    "\n",
    "# 백테스트 실행\n",
    "test = bt.Backtest(df_port, rate_data)\n",
    "res = bt.run(test)\n",
    "\n",
    "# 결과 출력\n",
    "res.display()\n",
    "res.plot()"
   ]
  },
  {
   "cell_type": "code",
   "execution_count": null,
   "metadata": {},
   "outputs": [],
   "source": [
    "import bt\n",
    "import pandas as pd\n",
    "\n",
    "# 금리 변화와 자산 상관 분석 데이터 로드\n",
    "rate_data = pd.read_csv('금리데이터.csv')\n",
    "\n",
    "# 커스텀 알고리즘: 금리 변화에 따라 리밸런싱\n",
    "class InterestRateRebalance(bt.Algo):\n",
    "    def __init__(self, rate_col):\n",
    "\n",
    "    def __call__(self, target):\n",
    "\n",
    "        # 금리 변화에 따른 리밸런싱 로직 작성\n",
    "\n",
    "        return True\n",
    "\n",
    "# 전략 설정\n",
    "df_port = bt.Strategy('df_port', [\n",
    "    bt.algos.SelectAll(),\n",
    "    bt.algos.WeighSpecified(**{\n",
    "        'XLF': 0.20,\n",
    "        'XLK': 0.20,\n",
    "        'XLP': 0.20,\n",
    "        'XLV': 0.20,\n",
    "        'XLY': 0.20\n",
    "    }),\n",
    "    InterestRateRebalance('InterestRateChange'),  # 커스텀 알고리즘 추가\n",
    "    bt.algos.Rebalance()\n",
    "])\n",
    "\n",
    "# 백테스트 실행\n",
    "test = bt.Backtest(df_port, rate_data)\n",
    "res = bt.run(test)\n",
    "\n",
    "# 결과 출력\n",
    "res.display()\n",
    "res.plot()\n",
    "\n",
    "위 코드를 참고해서 \"금리변화에 따른 리밸런싱\" 로직을 만들고자 함.\n",
    "금리데이터csv는 '날짜(일 단위)', '금리' 두 칼럼으로 이뤄져있고, 변홯"
   ]
  },
  {
   "cell_type": "code",
   "execution_count": null,
   "metadata": {},
   "outputs": [],
   "source": []
  },
  {
   "cell_type": "code",
   "execution_count": null,
   "metadata": {},
   "outputs": [],
   "source": []
  },
  {
   "cell_type": "code",
   "execution_count": null,
   "metadata": {},
   "outputs": [],
   "source": []
  },
  {
   "cell_type": "markdown",
   "metadata": {},
   "source": [
    "### 전략 설정 및 백테스팅"
   ]
  },
  {
   "cell_type": "code",
   "execution_count": 82,
   "metadata": {},
   "outputs": [],
   "source": [
    "# 전략 설정\n",
    "df_port = bt.Strategy('df_port', [\n",
    "    bt.algos.SelectAll(),\n",
    "    # bt.algos.WeighSpecified(**{\n",
    "    #     'XLF': 0.20,\n",
    "    #     'XLK': 0.20,\n",
    "    #     'XLP': 0.20,\n",
    "    #     'XLV': 0.20,\n",
    "    #     'XLY': 0.20\n",
    "\n",
    "    # }),\n",
    "    bt.algos.WeighEqually(),\n",
    "    #bt.algos.RunQuarterly(),\n",
    "    bt.algos.Rebalance()\n",
    "])"
   ]
  },
  {
   "cell_type": "code",
   "execution_count": 83,
   "metadata": {},
   "outputs": [],
   "source": [
    "# 백테스트 생성\n",
    "backtest_df = bt.Backtest(df_port, df)  # 파라미터 = 전략, 주가데이터"
   ]
  },
  {
   "cell_type": "code",
   "execution_count": 84,
   "metadata": {},
   "outputs": [
    {
     "name": "stderr",
     "output_type": "stream",
     "text": [
      "100%|██████████| 1/1 [00:00<00:00,  2.54it/s]\n"
     ]
    },
    {
     "data": {
      "text/plain": [
       "{'df_port': <ffn.core.PerformanceStats at 0x168ade6c0>}"
      ]
     },
     "execution_count": 84,
     "metadata": {},
     "output_type": "execute_result"
    }
   ],
   "source": [
    "# 백테스트 실행\n",
    "result = bt.run(backtest_df) # 두종류 이상의 포트폴리오 넣을 수 있음\n",
    "result"
   ]
  },
  {
   "cell_type": "code",
   "execution_count": 85,
   "metadata": {},
   "outputs": [
    {
     "data": {
      "text/html": [
       "<div>\n",
       "<style scoped>\n",
       "    .dataframe tbody tr th:only-of-type {\n",
       "        vertical-align: middle;\n",
       "    }\n",
       "\n",
       "    .dataframe tbody tr th {\n",
       "        vertical-align: top;\n",
       "    }\n",
       "\n",
       "    .dataframe thead th {\n",
       "        text-align: right;\n",
       "    }\n",
       "</style>\n",
       "<table border=\"1\" class=\"dataframe\">\n",
       "  <thead>\n",
       "    <tr style=\"text-align: right;\">\n",
       "      <th></th>\n",
       "      <th>df_port</th>\n",
       "    </tr>\n",
       "  </thead>\n",
       "  <tbody>\n",
       "    <tr>\n",
       "      <th>2015-01-01 00:00:00+00:00</th>\n",
       "      <td>100.000000</td>\n",
       "    </tr>\n",
       "    <tr>\n",
       "      <th>2015-01-02 00:00:00+00:00</th>\n",
       "      <td>100.000000</td>\n",
       "    </tr>\n",
       "    <tr>\n",
       "      <th>2015-01-05 00:00:00+00:00</th>\n",
       "      <td>98.649093</td>\n",
       "    </tr>\n",
       "    <tr>\n",
       "      <th>2015-01-06 00:00:00+00:00</th>\n",
       "      <td>97.822071</td>\n",
       "    </tr>\n",
       "    <tr>\n",
       "      <th>2015-01-07 00:00:00+00:00</th>\n",
       "      <td>99.296746</td>\n",
       "    </tr>\n",
       "    <tr>\n",
       "      <th>...</th>\n",
       "      <td>...</td>\n",
       "    </tr>\n",
       "    <tr>\n",
       "      <th>2020-12-23 00:00:00+00:00</th>\n",
       "      <td>212.629267</td>\n",
       "    </tr>\n",
       "    <tr>\n",
       "      <th>2020-12-24 00:00:00+00:00</th>\n",
       "      <td>213.392833</td>\n",
       "    </tr>\n",
       "    <tr>\n",
       "      <th>2020-12-28 00:00:00+00:00</th>\n",
       "      <td>215.014562</td>\n",
       "    </tr>\n",
       "    <tr>\n",
       "      <th>2020-12-29 00:00:00+00:00</th>\n",
       "      <td>214.751990</td>\n",
       "    </tr>\n",
       "    <tr>\n",
       "      <th>2020-12-30 00:00:00+00:00</th>\n",
       "      <td>215.127082</td>\n",
       "    </tr>\n",
       "  </tbody>\n",
       "</table>\n",
       "<p>1511 rows × 1 columns</p>\n",
       "</div>"
      ],
      "text/plain": [
       "                              df_port\n",
       "2015-01-01 00:00:00+00:00  100.000000\n",
       "2015-01-02 00:00:00+00:00  100.000000\n",
       "2015-01-05 00:00:00+00:00   98.649093\n",
       "2015-01-06 00:00:00+00:00   97.822071\n",
       "2015-01-07 00:00:00+00:00   99.296746\n",
       "...                               ...\n",
       "2020-12-23 00:00:00+00:00  212.629267\n",
       "2020-12-24 00:00:00+00:00  213.392833\n",
       "2020-12-28 00:00:00+00:00  215.014562\n",
       "2020-12-29 00:00:00+00:00  214.751990\n",
       "2020-12-30 00:00:00+00:00  215.127082\n",
       "\n",
       "[1511 rows x 1 columns]"
      ]
     },
     "execution_count": 85,
     "metadata": {},
     "output_type": "execute_result"
    }
   ],
   "source": [
    "result.prices"
   ]
  },
  {
   "cell_type": "code",
   "execution_count": 86,
   "metadata": {},
   "outputs": [
    {
     "data": {
      "text/html": [
       "<div>\n",
       "<style scoped>\n",
       "    .dataframe tbody tr th:only-of-type {\n",
       "        vertical-align: middle;\n",
       "    }\n",
       "\n",
       "    .dataframe tbody tr th {\n",
       "        vertical-align: top;\n",
       "    }\n",
       "\n",
       "    .dataframe thead th {\n",
       "        text-align: right;\n",
       "    }\n",
       "</style>\n",
       "<table border=\"1\" class=\"dataframe\">\n",
       "  <thead>\n",
       "    <tr style=\"text-align: right;\">\n",
       "      <th></th>\n",
       "      <th>df_port</th>\n",
       "    </tr>\n",
       "  </thead>\n",
       "  <tbody>\n",
       "    <tr>\n",
       "      <th>2015-01-01 00:00:00+00:00</th>\n",
       "      <td>NaN</td>\n",
       "    </tr>\n",
       "    <tr>\n",
       "      <th>2015-01-02 00:00:00+00:00</th>\n",
       "      <td>0.000000</td>\n",
       "    </tr>\n",
       "    <tr>\n",
       "      <th>2015-01-05 00:00:00+00:00</th>\n",
       "      <td>-0.013509</td>\n",
       "    </tr>\n",
       "    <tr>\n",
       "      <th>2015-01-06 00:00:00+00:00</th>\n",
       "      <td>-0.008383</td>\n",
       "    </tr>\n",
       "    <tr>\n",
       "      <th>2015-01-07 00:00:00+00:00</th>\n",
       "      <td>0.015075</td>\n",
       "    </tr>\n",
       "    <tr>\n",
       "      <th>...</th>\n",
       "      <td>...</td>\n",
       "    </tr>\n",
       "    <tr>\n",
       "      <th>2020-12-23 00:00:00+00:00</th>\n",
       "      <td>0.003030</td>\n",
       "    </tr>\n",
       "    <tr>\n",
       "      <th>2020-12-24 00:00:00+00:00</th>\n",
       "      <td>0.003591</td>\n",
       "    </tr>\n",
       "    <tr>\n",
       "      <th>2020-12-28 00:00:00+00:00</th>\n",
       "      <td>0.007600</td>\n",
       "    </tr>\n",
       "    <tr>\n",
       "      <th>2020-12-29 00:00:00+00:00</th>\n",
       "      <td>-0.001221</td>\n",
       "    </tr>\n",
       "    <tr>\n",
       "      <th>2020-12-30 00:00:00+00:00</th>\n",
       "      <td>0.001747</td>\n",
       "    </tr>\n",
       "  </tbody>\n",
       "</table>\n",
       "<p>1511 rows × 1 columns</p>\n",
       "</div>"
      ],
      "text/plain": [
       "                            df_port\n",
       "2015-01-01 00:00:00+00:00       NaN\n",
       "2015-01-02 00:00:00+00:00  0.000000\n",
       "2015-01-05 00:00:00+00:00 -0.013509\n",
       "2015-01-06 00:00:00+00:00 -0.008383\n",
       "2015-01-07 00:00:00+00:00  0.015075\n",
       "...                             ...\n",
       "2020-12-23 00:00:00+00:00  0.003030\n",
       "2020-12-24 00:00:00+00:00  0.003591\n",
       "2020-12-28 00:00:00+00:00  0.007600\n",
       "2020-12-29 00:00:00+00:00 -0.001221\n",
       "2020-12-30 00:00:00+00:00  0.001747\n",
       "\n",
       "[1511 rows x 1 columns]"
      ]
     },
     "execution_count": 86,
     "metadata": {},
     "output_type": "execute_result"
    }
   ],
   "source": [
    "# 결과에 대한 평가\n",
    "result.prices.to_returns() #-> 수익률 환산"
   ]
  },
  {
   "cell_type": "code",
   "execution_count": 88,
   "metadata": {},
   "outputs": [
    {
     "name": "stdout",
     "output_type": "stream",
     "text": [
      "Stat                 df_port\n",
      "-------------------  ----------\n",
      "Start                2015-01-01\n",
      "End                  2020-12-30\n",
      "Risk-free rate       0.00%\n",
      "\n",
      "Total Return         115.13%\n",
      "Daily Sharpe         0.80\n",
      "Daily Sortino        1.20\n",
      "CAGR                 13.63%\n",
      "Max Drawdown         -32.02%\n",
      "Calmar Ratio         0.43\n",
      "\n",
      "MTD                  3.30%\n",
      "3m                   11.04%\n",
      "6m                   21.78%\n",
      "YTD                  18.46%\n",
      "1Y                   18.71%\n",
      "3Y (ann.)            14.66%\n",
      "5Y (ann.)            14.99%\n",
      "10Y (ann.)           -\n",
      "Since Incep. (ann.)  13.63%\n",
      "\n",
      "Daily Sharpe         0.80\n",
      "Daily Sortino        1.20\n",
      "Daily Mean (ann.)    14.43%\n",
      "Daily Vol (ann.)     18.06%\n",
      "Daily Skew           -0.61\n",
      "Daily Kurt           19.22\n",
      "Best Day             9.30%\n",
      "Worst Day            -11.37%\n",
      "\n",
      "Monthly Sharpe       1.00\n",
      "Monthly Sortino      1.80\n",
      "Monthly Mean (ann.)  14.47%\n",
      "Monthly Vol (ann.)   14.43%\n",
      "Monthly Skew         -0.33\n",
      "Monthly Kurt         1.18\n",
      "Best Month           12.42%\n",
      "Worst Month          -10.75%\n",
      "\n",
      "Yearly Sharpe        1.20\n",
      "Yearly Sortino       12.62\n",
      "Yearly Mean          15.87%\n",
      "Yearly Vol           13.22%\n",
      "Yearly Skew          -0.46\n",
      "Yearly Kurt          -0.29\n",
      "Best Year            31.65%\n",
      "Worst Year           -2.81%\n",
      "\n",
      "Avg. Drawdown        -1.53%\n",
      "Avg. Drawdown Days   16.16\n",
      "Avg. Up Month        3.23%\n",
      "Avg. Down Month      -3.31%\n",
      "Win Year %           80.00%\n",
      "Win 12m %            93.44%\n"
     ]
    }
   ],
   "source": [
    "result.display()"
   ]
  },
  {
   "cell_type": "code",
   "execution_count": 80,
   "metadata": {},
   "outputs": [
    {
     "data": {
      "image/png": "[encoded data removed]",
      "text/plain": [
       "<Figure size 1500x500 with 1 Axes>"
      ]
     },
     "metadata": {},
     "output_type": "display_data"
    }
   ],
   "source": [
    "result.plot_histogram()"
   ]
  },
  {
   "cell_type": "code",
   "execution_count": 81,
   "metadata": {},
   "outputs": [
    {
     "data": {
      "image/png": "[encoded data removed]",
      "text/plain": [
       "<Figure size 1500x500 with 1 Axes>"
      ]
     },
     "metadata": {},
     "output_type": "display_data"
    }
   ],
   "source": [
    "result.plot_security_weights()"
   ]
  },
  {
   "cell_type": "code",
   "execution_count": null,
   "metadata": {},
   "outputs": [],
   "source": []
  },
  {
   "cell_type": "code",
   "execution_count": null,
   "metadata": {},
   "outputs": [],
   "source": []
  },
  {
   "cell_type": "code",
   "execution_count": null,
   "metadata": {},
   "outputs": [],
   "source": []
  },
  {
   "cell_type": "code",
   "execution_count": null,
   "metadata": {},
   "outputs": [],
   "source": []
  },
  {
   "cell_type": "code",
   "execution_count": null,
   "metadata": {},
   "outputs": [],
   "source": []
  },
  {
   "cell_type": "code",
   "execution_count": null,
   "metadata": {},
   "outputs": [],
   "source": []
  },
  {
   "cell_type": "code",
   "execution_count": null,
   "metadata": {},
   "outputs": [],
   "source": []
  }
 ],
 "metadata": {
  "kernelspec": {
   "display_name": "base",
   "language": "python",
   "name": "python3"
  },
  "language_info": {
   "codemirror_mode": {
    "name": "ipython",
    "version": 3
   },
   "file_extension": ".py",
   "mimetype": "text/x-python",
   "name": "python",
   "nbconvert_exporter": "python",
   "pygments_lexer": "ipython3",
   "version": "3.12.4"
  }
 },
 "nbformat": 4,
 "nbformat_minor": 2
}
