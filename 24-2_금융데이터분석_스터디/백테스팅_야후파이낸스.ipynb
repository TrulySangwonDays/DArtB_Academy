{
 "cells": [
  {
   "cell_type": "code",
   "execution_count": 2,
   "metadata": {},
   "outputs": [
    {
     "name": "stdout",
     "output_type": "stream",
     "text": [
      "Collecting bt\n",
      "  Downloading bt-1.1.0-cp312-cp312-macosx_11_0_arm64.whl.metadata (6.3 kB)\n",
      "Collecting ffn>=1.1.0 (from bt)\n",
      "  Downloading ffn-1.1.0-py3-none-any.whl.metadata (3.5 kB)\n",
      "Collecting pyprind>=2.11 (from bt)\n",
      "  Downloading PyPrind-2.11.3-py2.py3-none-any.whl.metadata (1.1 kB)\n",
      "Requirement already satisfied: tqdm>=4 in /opt/anaconda3/lib/python3.12/site-packages (from bt) (4.66.4)\n",
      "Requirement already satisfied: decorator>=5.0.7 in /opt/anaconda3/lib/python3.12/site-packages (from ffn>=1.1.0->bt) (5.1.1)\n",
      "Requirement already satisfied: matplotlib>=1 in /opt/anaconda3/lib/python3.12/site-packages (from ffn>=1.1.0->bt) (3.8.4)\n",
      "Requirement already satisfied: numpy in /opt/anaconda3/lib/python3.12/site-packages (from ffn>=1.1.0->bt) (1.26.4)\n",
      "Requirement already satisfied: pandas>=0.19 in /opt/anaconda3/lib/python3.12/site-packages (from ffn>=1.1.0->bt) (2.2.2)\n",
      "Requirement already satisfied: scikit-learn>=0.15 in /opt/anaconda3/lib/python3.12/site-packages (from ffn>=1.1.0->bt) (1.4.2)\n",
      "Requirement already satisfied: scipy>=0.15 in /opt/anaconda3/lib/python3.12/site-packages (from ffn>=1.1.0->bt) (1.13.1)\n",
      "Requirement already satisfied: tabulate>=0.7.5 in /opt/anaconda3/lib/python3.12/site-packages (from ffn>=1.1.0->bt) (0.9.0)\n",
      "Collecting yfinance>=0.2 (from ffn>=1.1.0->bt)\n",
      "  Downloading yfinance-0.2.44-py2.py3-none-any.whl.metadata (13 kB)\n",
      "Requirement already satisfied: contourpy>=1.0.1 in /opt/anaconda3/lib/python3.12/site-packages (from matplotlib>=1->ffn>=1.1.0->bt) (1.2.0)\n",
      "Requirement already satisfied: cycler>=0.10 in /opt/anaconda3/lib/python3.12/site-packages (from matplotlib>=1->ffn>=1.1.0->bt) (0.11.0)\n",
      "Requirement already satisfied: fonttools>=4.22.0 in /opt/anaconda3/lib/python3.12/site-packages (from matplotlib>=1->ffn>=1.1.0->bt) (4.51.0)\n",
      "Requirement already satisfied: kiwisolver>=1.3.1 in /opt/anaconda3/lib/python3.12/site-packages (from matplotlib>=1->ffn>=1.1.0->bt) (1.4.4)\n",
      "Requirement already satisfied: packaging>=20.0 in /opt/anaconda3/lib/python3.12/site-packages (from matplotlib>=1->ffn>=1.1.0->bt) (23.2)\n",
      "Requirement already satisfied: pillow>=8 in /opt/anaconda3/lib/python3.12/site-packages (from matplotlib>=1->ffn>=1.1.0->bt) (10.3.0)\n",
      "Requirement already satisfied: pyparsing>=2.3.1 in /opt/anaconda3/lib/python3.12/site-packages (from matplotlib>=1->ffn>=1.1.0->bt) (3.0.9)\n",
      "Requirement already satisfied: python-dateutil>=2.7 in /opt/anaconda3/lib/python3.12/site-packages (from matplotlib>=1->ffn>=1.1.0->bt) (2.9.0.post0)\n",
      "Requirement already satisfied: pytz>=2020.1 in /opt/anaconda3/lib/python3.12/site-packages (from pandas>=0.19->ffn>=1.1.0->bt) (2024.1)\n",
      "Requirement already satisfied: tzdata>=2022.7 in /opt/anaconda3/lib/python3.12/site-packages (from pandas>=0.19->ffn>=1.1.0->bt) (2023.3)\n",
      "Requirement already satisfied: joblib>=1.2.0 in /opt/anaconda3/lib/python3.12/site-packages (from scikit-learn>=0.15->ffn>=1.1.0->bt) (1.4.2)\n",
      "Requirement already satisfied: threadpoolctl>=2.0.0 in /opt/anaconda3/lib/python3.12/site-packages (from scikit-learn>=0.15->ffn>=1.1.0->bt) (2.2.0)\n",
      "Requirement already satisfied: requests>=2.31 in /opt/anaconda3/lib/python3.12/site-packages (from yfinance>=0.2->ffn>=1.1.0->bt) (2.32.2)\n",
      "Collecting multitasking>=0.0.7 (from yfinance>=0.2->ffn>=1.1.0->bt)\n",
      "  Using cached multitasking-0.0.11-py3-none-any.whl.metadata (5.5 kB)\n",
      "Requirement already satisfied: lxml>=4.9.1 in /opt/anaconda3/lib/python3.12/site-packages (from yfinance>=0.2->ffn>=1.1.0->bt) (5.2.1)\n",
      "Requirement already satisfied: platformdirs>=2.0.0 in /opt/anaconda3/lib/python3.12/site-packages (from yfinance>=0.2->ffn>=1.1.0->bt) (3.10.0)\n",
      "Requirement already satisfied: frozendict>=2.3.4 in /opt/anaconda3/lib/python3.12/site-packages (from yfinance>=0.2->ffn>=1.1.0->bt) (2.4.2)\n",
      "Collecting peewee>=3.16.2 (from yfinance>=0.2->ffn>=1.1.0->bt)\n",
      "  Using cached peewee-3.17.6.tar.gz (3.0 MB)\n",
      "  Installing build dependencies ... \u001b[?25ldone\n",
      "\u001b[?25h  Getting requirements to build wheel ... \u001b[?25ldone\n",
      "\u001b[?25h  Preparing metadata (pyproject.toml) ... \u001b[?25ldone\n",
      "\u001b[?25hRequirement already satisfied: beautifulsoup4>=4.11.1 in /opt/anaconda3/lib/python3.12/site-packages (from yfinance>=0.2->ffn>=1.1.0->bt) (4.12.3)\n",
      "Collecting html5lib>=1.1 (from yfinance>=0.2->ffn>=1.1.0->bt)\n",
      "  Using cached html5lib-1.1-py2.py3-none-any.whl.metadata (16 kB)\n",
      "Requirement already satisfied: soupsieve>1.2 in /opt/anaconda3/lib/python3.12/site-packages (from beautifulsoup4>=4.11.1->yfinance>=0.2->ffn>=1.1.0->bt) (2.5)\n",
      "Requirement already satisfied: six>=1.9 in /opt/anaconda3/lib/python3.12/site-packages (from html5lib>=1.1->yfinance>=0.2->ffn>=1.1.0->bt) (1.16.0)\n",
      "Requirement already satisfied: webencodings in /opt/anaconda3/lib/python3.12/site-packages (from html5lib>=1.1->yfinance>=0.2->ffn>=1.1.0->bt) (0.5.1)\n",
      "Requirement already satisfied: charset-normalizer<4,>=2 in /opt/anaconda3/lib/python3.12/site-packages (from requests>=2.31->yfinance>=0.2->ffn>=1.1.0->bt) (2.0.4)\n",
      "Requirement already satisfied: idna<4,>=2.5 in /opt/anaconda3/lib/python3.12/site-packages (from requests>=2.31->yfinance>=0.2->ffn>=1.1.0->bt) (3.7)\n",
      "Requirement already satisfied: urllib3<3,>=1.21.1 in /opt/anaconda3/lib/python3.12/site-packages (from requests>=2.31->yfinance>=0.2->ffn>=1.1.0->bt) (2.2.2)\n",
      "Requirement already satisfied: certifi>=2017.4.17 in /opt/anaconda3/lib/python3.12/site-packages (from requests>=2.31->yfinance>=0.2->ffn>=1.1.0->bt) (2024.7.4)\n",
      "Downloading bt-1.1.0-cp312-cp312-macosx_11_0_arm64.whl (240 kB)\n",
      "\u001b[2K   \u001b[90m━━━━━━━━━━━━━━━━━━━━━━━━━━━━━━━━━━━━━━━━\u001b[0m \u001b[32m240.6/240.6 kB\u001b[0m \u001b[31m3.7 MB/s\u001b[0m eta \u001b[36m0:00:00\u001b[0ma \u001b[36m0:00:01\u001b[0m\n",
      "\u001b[?25hDownloading ffn-1.1.0-py3-none-any.whl (26 kB)\n",
      "Downloading PyPrind-2.11.3-py2.py3-none-any.whl (8.4 kB)\n",
      "Downloading yfinance-0.2.44-py2.py3-none-any.whl (94 kB)\n",
      "\u001b[2K   \u001b[90m━━━━━━━━━━━━━━━━━━━━━━━━━━━━━━━━━━━━━━━━\u001b[0m \u001b[32m94.6/94.6 kB\u001b[0m \u001b[31m6.0 MB/s\u001b[0m eta \u001b[36m0:00:00\u001b[0m\n",
      "\u001b[?25hUsing cached html5lib-1.1-py2.py3-none-any.whl (112 kB)\n",
      "Using cached multitasking-0.0.11-py3-none-any.whl (8.5 kB)\n",
      "Building wheels for collected packages: peewee\n",
      "  Building wheel for peewee (pyproject.toml) ... \u001b[?25ldone\n",
      "\u001b[?25h  Created wheel for peewee: filename=peewee-3.17.6-py3-none-any.whl size=138891 sha256=54f2e244a0c058420e6639a9f43923ef6b3a3f8171c8f4e3ef69a8fb12c48bec\n",
      "  Stored in directory: /Users/leesangwon/Library/Caches/pip/wheels/a6/5e/0f/8319805c4115320e0d3e8fb5799b114a2e4c4a3d6c7e523b06\n",
      "Successfully built peewee\n",
      "Installing collected packages: pyprind, peewee, multitasking, html5lib, yfinance, ffn, bt\n",
      "Successfully installed bt-1.1.0 ffn-1.1.0 html5lib-1.1 multitasking-0.0.11 peewee-3.17.6 pyprind-2.11.3 yfinance-0.2.44\n"
     ]
    }
   ],
   "source": [
    "!pip install bt"
   ]
  },
  {
   "cell_type": "code",
   "execution_count": 1,
   "metadata": {},
   "outputs": [],
   "source": [
    "import bt #백테스팅\n",
    "import yfinance as yf #주가크롤링\n",
    "\n",
    "import pandas as pd"
   ]
  },
  {
   "cell_type": "code",
   "execution_count": 2,
   "metadata": {},
   "outputs": [],
   "source": [
    "# 백테스팅 날짜 선정\n",
    "start = '2020-03-10'\n",
    "end = '2024-10-05'"
   ]
  },
  {
   "cell_type": "markdown",
   "metadata": {},
   "source": [
    "# 상원쓰 포트폴리오"
   ]
  },
  {
   "cell_type": "code",
   "execution_count": 3,
   "metadata": {},
   "outputs": [
    {
     "name": "stderr",
     "output_type": "stream",
     "text": [
      "[*********************100%***********************]  2 of 2 completed\n"
     ]
    },
    {
     "data": {
      "text/html": [
       "<div>\n",
       "<style scoped>\n",
       "    .dataframe tbody tr th:only-of-type {\n",
       "        vertical-align: middle;\n",
       "    }\n",
       "\n",
       "    .dataframe tbody tr th {\n",
       "        vertical-align: top;\n",
       "    }\n",
       "\n",
       "    .dataframe thead th {\n",
       "        text-align: right;\n",
       "    }\n",
       "</style>\n",
       "<table border=\"1\" class=\"dataframe\">\n",
       "  <thead>\n",
       "    <tr style=\"text-align: right;\">\n",
       "      <th>Ticker</th>\n",
       "      <th>SPY</th>\n",
       "      <th>^KS11</th>\n",
       "    </tr>\n",
       "    <tr>\n",
       "      <th>Date</th>\n",
       "      <th></th>\n",
       "      <th></th>\n",
       "    </tr>\n",
       "  </thead>\n",
       "  <tbody>\n",
       "    <tr>\n",
       "      <th>2001-01-02 00:00:00+00:00</th>\n",
       "      <td>83.239754</td>\n",
       "      <td>520.950012</td>\n",
       "    </tr>\n",
       "    <tr>\n",
       "      <th>2001-01-03 00:00:00+00:00</th>\n",
       "      <td>87.238205</td>\n",
       "      <td>521.429993</td>\n",
       "    </tr>\n",
       "    <tr>\n",
       "      <th>2001-01-04 00:00:00+00:00</th>\n",
       "      <td>86.299156</td>\n",
       "      <td>558.020020</td>\n",
       "    </tr>\n",
       "    <tr>\n",
       "      <th>2001-01-05 00:00:00+00:00</th>\n",
       "      <td>83.482109</td>\n",
       "      <td>580.849976</td>\n",
       "    </tr>\n",
       "    <tr>\n",
       "      <th>2001-01-08 00:00:00+00:00</th>\n",
       "      <td>84.128319</td>\n",
       "      <td>586.650024</td>\n",
       "    </tr>\n",
       "    <tr>\n",
       "      <th>...</th>\n",
       "      <td>...</td>\n",
       "      <td>...</td>\n",
       "    </tr>\n",
       "    <tr>\n",
       "      <th>2024-09-24 00:00:00+00:00</th>\n",
       "      <td>571.299988</td>\n",
       "      <td>2631.679932</td>\n",
       "    </tr>\n",
       "    <tr>\n",
       "      <th>2024-09-25 00:00:00+00:00</th>\n",
       "      <td>570.039978</td>\n",
       "      <td>2596.320068</td>\n",
       "    </tr>\n",
       "    <tr>\n",
       "      <th>2024-09-26 00:00:00+00:00</th>\n",
       "      <td>572.299988</td>\n",
       "      <td>2671.570068</td>\n",
       "    </tr>\n",
       "    <tr>\n",
       "      <th>2024-09-27 00:00:00+00:00</th>\n",
       "      <td>571.469971</td>\n",
       "      <td>2649.780029</td>\n",
       "    </tr>\n",
       "    <tr>\n",
       "      <th>2024-09-30 00:00:00+00:00</th>\n",
       "      <td>573.760010</td>\n",
       "      <td>2593.270020</td>\n",
       "    </tr>\n",
       "  </tbody>\n",
       "</table>\n",
       "<p>6158 rows × 2 columns</p>\n",
       "</div>"
      ],
      "text/plain": [
       "Ticker                            SPY        ^KS11\n",
       "Date                                              \n",
       "2001-01-02 00:00:00+00:00   83.239754   520.950012\n",
       "2001-01-03 00:00:00+00:00   87.238205   521.429993\n",
       "2001-01-04 00:00:00+00:00   86.299156   558.020020\n",
       "2001-01-05 00:00:00+00:00   83.482109   580.849976\n",
       "2001-01-08 00:00:00+00:00   84.128319   586.650024\n",
       "...                               ...          ...\n",
       "2024-09-24 00:00:00+00:00  571.299988  2631.679932\n",
       "2024-09-25 00:00:00+00:00  570.039978  2596.320068\n",
       "2024-09-26 00:00:00+00:00  572.299988  2671.570068\n",
       "2024-09-27 00:00:00+00:00  571.469971  2649.780029\n",
       "2024-09-30 00:00:00+00:00  573.760010  2593.270020\n",
       "\n",
       "[6158 rows x 2 columns]"
      ]
     },
     "execution_count": 3,
     "metadata": {},
     "output_type": "execute_result"
    }
   ],
   "source": [
    "start = '2001-01-01'\n",
    "end = '2024-10-01'\n",
    "\n",
    "symbol = ['^KS11', \"SPY\"]\n",
    "\n",
    "samsung = yf.download(symbol, start, end)\n",
    "samsung = samsung['Adj Close']\n",
    "samsung"
   ]
  },
  {
   "cell_type": "code",
   "execution_count": 4,
   "metadata": {},
   "outputs": [
    {
     "data": {
      "text/plain": [
       "<Axes: xlabel='Date'>"
      ]
     },
     "execution_count": 4,
     "metadata": {},
     "output_type": "execute_result"
    },
    {
     "data": {
      "image/png": "[encoded data removed]",
      "text/plain": [
       "<Figure size 640x480 with 1 Axes>"
      ]
     },
     "metadata": {},
     "output_type": "display_data"
    }
   ],
   "source": [
    "samsung.plot()"
   ]
  },
  {
   "cell_type": "code",
   "execution_count": 5,
   "metadata": {},
   "outputs": [
    {
     "name": "stderr",
     "output_type": "stream",
     "text": [
      "[*********************100%***********************]  11 of 11 completed\n"
     ]
    }
   ],
   "source": [
    "symbol = ['005930.KS', '132030.KS', '138230.KS',\n",
    "          '138910.KS', '261220.KS', '271060.KS',\n",
    "          '292560.KS', '294400.KS', '305080.KS',\n",
    "          '360200.KS', '367380.KS']\n",
    "\n",
    "df1 = yf.download(symbol, start, end)\n",
    "df1 = df1['Adj Close']"
   ]
  },
  {
   "cell_type": "code",
   "execution_count": 6,
   "metadata": {},
   "outputs": [
    {
     "data": {
      "text/html": [
       "<div>\n",
       "<style scoped>\n",
       "    .dataframe tbody tr th:only-of-type {\n",
       "        vertical-align: middle;\n",
       "    }\n",
       "\n",
       "    .dataframe tbody tr th {\n",
       "        vertical-align: top;\n",
       "    }\n",
       "\n",
       "    .dataframe thead th {\n",
       "        text-align: right;\n",
       "    }\n",
       "</style>\n",
       "<table border=\"1\" class=\"dataframe\">\n",
       "  <thead>\n",
       "    <tr style=\"text-align: right;\">\n",
       "      <th>Ticker</th>\n",
       "      <th>005930.KS</th>\n",
       "      <th>132030.KS</th>\n",
       "      <th>138230.KS</th>\n",
       "      <th>138910.KS</th>\n",
       "      <th>261220.KS</th>\n",
       "      <th>271060.KS</th>\n",
       "      <th>292560.KS</th>\n",
       "      <th>294400.KS</th>\n",
       "      <th>305080.KS</th>\n",
       "      <th>360200.KS</th>\n",
       "      <th>367380.KS</th>\n",
       "    </tr>\n",
       "    <tr>\n",
       "      <th>Date</th>\n",
       "      <th></th>\n",
       "      <th></th>\n",
       "      <th></th>\n",
       "      <th></th>\n",
       "      <th></th>\n",
       "      <th></th>\n",
       "      <th></th>\n",
       "      <th></th>\n",
       "      <th></th>\n",
       "      <th></th>\n",
       "      <th></th>\n",
       "    </tr>\n",
       "  </thead>\n",
       "  <tbody>\n",
       "    <tr>\n",
       "      <th>2001-01-01 00:00:00+00:00</th>\n",
       "      <td>2278.320312</td>\n",
       "      <td>NaN</td>\n",
       "      <td>NaN</td>\n",
       "      <td>NaN</td>\n",
       "      <td>NaN</td>\n",
       "      <td>NaN</td>\n",
       "      <td>NaN</td>\n",
       "      <td>NaN</td>\n",
       "      <td>NaN</td>\n",
       "      <td>NaN</td>\n",
       "      <td>NaN</td>\n",
       "    </tr>\n",
       "    <tr>\n",
       "      <th>2001-01-02 00:00:00+00:00</th>\n",
       "      <td>2415.309326</td>\n",
       "      <td>NaN</td>\n",
       "      <td>NaN</td>\n",
       "      <td>NaN</td>\n",
       "      <td>NaN</td>\n",
       "      <td>NaN</td>\n",
       "      <td>NaN</td>\n",
       "      <td>NaN</td>\n",
       "      <td>NaN</td>\n",
       "      <td>NaN</td>\n",
       "      <td>NaN</td>\n",
       "    </tr>\n",
       "    <tr>\n",
       "      <th>2001-01-03 00:00:00+00:00</th>\n",
       "      <td>2429.728271</td>\n",
       "      <td>NaN</td>\n",
       "      <td>NaN</td>\n",
       "      <td>NaN</td>\n",
       "      <td>NaN</td>\n",
       "      <td>NaN</td>\n",
       "      <td>NaN</td>\n",
       "      <td>NaN</td>\n",
       "      <td>NaN</td>\n",
       "      <td>NaN</td>\n",
       "      <td>NaN</td>\n",
       "    </tr>\n",
       "    <tr>\n",
       "      <th>2001-01-04 00:00:00+00:00</th>\n",
       "      <td>2725.333008</td>\n",
       "      <td>NaN</td>\n",
       "      <td>NaN</td>\n",
       "      <td>NaN</td>\n",
       "      <td>NaN</td>\n",
       "      <td>NaN</td>\n",
       "      <td>NaN</td>\n",
       "      <td>NaN</td>\n",
       "      <td>NaN</td>\n",
       "      <td>NaN</td>\n",
       "      <td>NaN</td>\n",
       "    </tr>\n",
       "    <tr>\n",
       "      <th>2001-01-05 00:00:00+00:00</th>\n",
       "      <td>2811.851807</td>\n",
       "      <td>NaN</td>\n",
       "      <td>NaN</td>\n",
       "      <td>NaN</td>\n",
       "      <td>NaN</td>\n",
       "      <td>NaN</td>\n",
       "      <td>NaN</td>\n",
       "      <td>NaN</td>\n",
       "      <td>NaN</td>\n",
       "      <td>NaN</td>\n",
       "      <td>NaN</td>\n",
       "    </tr>\n",
       "    <tr>\n",
       "      <th>...</th>\n",
       "      <td>...</td>\n",
       "      <td>...</td>\n",
       "      <td>...</td>\n",
       "      <td>...</td>\n",
       "      <td>...</td>\n",
       "      <td>...</td>\n",
       "      <td>...</td>\n",
       "      <td>...</td>\n",
       "      <td>...</td>\n",
       "      <td>...</td>\n",
       "      <td>...</td>\n",
       "    </tr>\n",
       "    <tr>\n",
       "      <th>2024-09-24 00:00:00+00:00</th>\n",
       "      <td>62847.371094</td>\n",
       "      <td>16120.0</td>\n",
       "      <td>14730.0</td>\n",
       "      <td>7555.0</td>\n",
       "      <td>14520.0</td>\n",
       "      <td>8615.0</td>\n",
       "      <td>8790.0</td>\n",
       "      <td>44460.0</td>\n",
       "      <td>12135.0</td>\n",
       "      <td>19183.621094</td>\n",
       "      <td>20287.134766</td>\n",
       "    </tr>\n",
       "    <tr>\n",
       "      <th>2024-09-25 00:00:00+00:00</th>\n",
       "      <td>61852.949219</td>\n",
       "      <td>16285.0</td>\n",
       "      <td>14685.0</td>\n",
       "      <td>7710.0</td>\n",
       "      <td>14520.0</td>\n",
       "      <td>8595.0</td>\n",
       "      <td>8815.0</td>\n",
       "      <td>43825.0</td>\n",
       "      <td>12125.0</td>\n",
       "      <td>19123.812500</td>\n",
       "      <td>20207.263672</td>\n",
       "    </tr>\n",
       "    <tr>\n",
       "      <th>2024-09-26 00:00:00+00:00</th>\n",
       "      <td>64339.000000</td>\n",
       "      <td>16310.0</td>\n",
       "      <td>14640.0</td>\n",
       "      <td>7765.0</td>\n",
       "      <td>13840.0</td>\n",
       "      <td>8710.0</td>\n",
       "      <td>8710.0</td>\n",
       "      <td>45335.0</td>\n",
       "      <td>12060.0</td>\n",
       "      <td>19223.492188</td>\n",
       "      <td>20516.763672</td>\n",
       "    </tr>\n",
       "    <tr>\n",
       "      <th>2024-09-27 00:00:00+00:00</th>\n",
       "      <td>64200.000000</td>\n",
       "      <td>16340.0</td>\n",
       "      <td>14595.0</td>\n",
       "      <td>7900.0</td>\n",
       "      <td>13835.0</td>\n",
       "      <td>8660.0</td>\n",
       "      <td>8695.0</td>\n",
       "      <td>45115.0</td>\n",
       "      <td>11965.0</td>\n",
       "      <td>19029.115234</td>\n",
       "      <td>20207.263672</td>\n",
       "    </tr>\n",
       "    <tr>\n",
       "      <th>2024-09-30 00:00:00+00:00</th>\n",
       "      <td>61500.000000</td>\n",
       "      <td>16290.0</td>\n",
       "      <td>14425.0</td>\n",
       "      <td>7970.0</td>\n",
       "      <td>14065.0</td>\n",
       "      <td>8735.0</td>\n",
       "      <td>8750.0</td>\n",
       "      <td>44080.0</td>\n",
       "      <td>11885.0</td>\n",
       "      <td>18844.705078</td>\n",
       "      <td>19932.708984</td>\n",
       "    </tr>\n",
       "  </tbody>\n",
       "</table>\n",
       "<p>5941 rows × 11 columns</p>\n",
       "</div>"
      ],
      "text/plain": [
       "Ticker                        005930.KS  132030.KS  138230.KS  138910.KS  \\\n",
       "Date                                                                       \n",
       "2001-01-01 00:00:00+00:00   2278.320312        NaN        NaN        NaN   \n",
       "2001-01-02 00:00:00+00:00   2415.309326        NaN        NaN        NaN   \n",
       "2001-01-03 00:00:00+00:00   2429.728271        NaN        NaN        NaN   \n",
       "2001-01-04 00:00:00+00:00   2725.333008        NaN        NaN        NaN   \n",
       "2001-01-05 00:00:00+00:00   2811.851807        NaN        NaN        NaN   \n",
       "...                                 ...        ...        ...        ...   \n",
       "2024-09-24 00:00:00+00:00  62847.371094    16120.0    14730.0     7555.0   \n",
       "2024-09-25 00:00:00+00:00  61852.949219    16285.0    14685.0     7710.0   \n",
       "2024-09-26 00:00:00+00:00  64339.000000    16310.0    14640.0     7765.0   \n",
       "2024-09-27 00:00:00+00:00  64200.000000    16340.0    14595.0     7900.0   \n",
       "2024-09-30 00:00:00+00:00  61500.000000    16290.0    14425.0     7970.0   \n",
       "\n",
       "Ticker                     261220.KS  271060.KS  292560.KS  294400.KS  \\\n",
       "Date                                                                    \n",
       "2001-01-01 00:00:00+00:00        NaN        NaN        NaN        NaN   \n",
       "2001-01-02 00:00:00+00:00        NaN        NaN        NaN        NaN   \n",
       "2001-01-03 00:00:00+00:00        NaN        NaN        NaN        NaN   \n",
       "2001-01-04 00:00:00+00:00        NaN        NaN        NaN        NaN   \n",
       "2001-01-05 00:00:00+00:00        NaN        NaN        NaN        NaN   \n",
       "...                              ...        ...        ...        ...   \n",
       "2024-09-24 00:00:00+00:00    14520.0     8615.0     8790.0    44460.0   \n",
       "2024-09-25 00:00:00+00:00    14520.0     8595.0     8815.0    43825.0   \n",
       "2024-09-26 00:00:00+00:00    13840.0     8710.0     8710.0    45335.0   \n",
       "2024-09-27 00:00:00+00:00    13835.0     8660.0     8695.0    45115.0   \n",
       "2024-09-30 00:00:00+00:00    14065.0     8735.0     8750.0    44080.0   \n",
       "\n",
       "Ticker                     305080.KS     360200.KS     367380.KS  \n",
       "Date                                                              \n",
       "2001-01-01 00:00:00+00:00        NaN           NaN           NaN  \n",
       "2001-01-02 00:00:00+00:00        NaN           NaN           NaN  \n",
       "2001-01-03 00:00:00+00:00        NaN           NaN           NaN  \n",
       "2001-01-04 00:00:00+00:00        NaN           NaN           NaN  \n",
       "2001-01-05 00:00:00+00:00        NaN           NaN           NaN  \n",
       "...                              ...           ...           ...  \n",
       "2024-09-24 00:00:00+00:00    12135.0  19183.621094  20287.134766  \n",
       "2024-09-25 00:00:00+00:00    12125.0  19123.812500  20207.263672  \n",
       "2024-09-26 00:00:00+00:00    12060.0  19223.492188  20516.763672  \n",
       "2024-09-27 00:00:00+00:00    11965.0  19029.115234  20207.263672  \n",
       "2024-09-30 00:00:00+00:00    11885.0  18844.705078  19932.708984  \n",
       "\n",
       "[5941 rows x 11 columns]"
      ]
     },
     "execution_count": 6,
     "metadata": {},
     "output_type": "execute_result"
    }
   ],
   "source": [
    "df1"
   ]
  },
  {
   "cell_type": "code",
   "execution_count": 7,
   "metadata": {},
   "outputs": [
    {
     "data": {
      "text/plain": [
       "Ticker\n",
       "005930.KS       0\n",
       "132030.KS    2521\n",
       "138230.KS    2621\n",
       "138910.KS    2634\n",
       "261220.KS    4065\n",
       "271060.KS    4177\n",
       "292560.KS    4378\n",
       "294400.KS    4382\n",
       "305080.KS    4469\n",
       "360200.KS    4942\n",
       "367380.KS    4996\n",
       "dtype: int64"
      ]
     },
     "execution_count": 7,
     "metadata": {},
     "output_type": "execute_result"
    }
   ],
   "source": [
    "df1.isnull().sum()"
   ]
  },
  {
   "cell_type": "code",
   "execution_count": 8,
   "metadata": {},
   "outputs": [],
   "source": [
    "df1 = df1.dropna()"
   ]
  },
  {
   "cell_type": "code",
   "execution_count": 9,
   "metadata": {},
   "outputs": [],
   "source": [
    "# 전략 설정\n",
    "sangwons = bt.Strategy('상원쓰', [\n",
    "    bt.algos.SelectAll(),\n",
    "    bt.algos.WeighSpecified(**{\n",
    "        '005930.KS': 0.02, '132030.KS': 0.15, '138230.KS': 0.14,\n",
    "        '138910.KS': 0.04, '261220.KS': 0.04, '271060.KS': 0.03,\n",
    "        '292560.KS': 0.04, '294400.KS': 0.06, '305080.KS': 0.34,\n",
    "        '360200.KS': 0.10, '367380.KS': 0.04\n",
    "    }),\n",
    "    #bt.algos.RunQuarterly(),\n",
    "    bt.algos.Rebalance()\n",
    "])"
   ]
  },
  {
   "cell_type": "markdown",
   "metadata": {},
   "source": [
    "# 전략2"
   ]
  },
  {
   "cell_type": "code",
   "execution_count": 10,
   "metadata": {},
   "outputs": [
    {
     "name": "stderr",
     "output_type": "stream",
     "text": [
      "[*********************100%***********************]  7 of 7 completed\n"
     ]
    }
   ],
   "source": [
    "symbol = ['132030.KS', '138230.KS', '305080.KS',\n",
    "          '329200.KS', '293940.KS', '294400.KS',\n",
    "          '360200.KS']\n",
    "\n",
    "df2 = yf.download(symbol, start, end)\n",
    "df2 = df2['Adj Close']"
   ]
  },
  {
   "cell_type": "code",
   "execution_count": 11,
   "metadata": {},
   "outputs": [
    {
     "data": {
      "text/html": [
       "<div>\n",
       "<style scoped>\n",
       "    .dataframe tbody tr th:only-of-type {\n",
       "        vertical-align: middle;\n",
       "    }\n",
       "\n",
       "    .dataframe tbody tr th {\n",
       "        vertical-align: top;\n",
       "    }\n",
       "\n",
       "    .dataframe thead th {\n",
       "        text-align: right;\n",
       "    }\n",
       "</style>\n",
       "<table border=\"1\" class=\"dataframe\">\n",
       "  <thead>\n",
       "    <tr style=\"text-align: right;\">\n",
       "      <th>Ticker</th>\n",
       "      <th>132030.KS</th>\n",
       "      <th>138230.KS</th>\n",
       "      <th>293940.KS</th>\n",
       "      <th>294400.KS</th>\n",
       "      <th>305080.KS</th>\n",
       "      <th>329200.KS</th>\n",
       "      <th>360200.KS</th>\n",
       "    </tr>\n",
       "    <tr>\n",
       "      <th>Date</th>\n",
       "      <th></th>\n",
       "      <th></th>\n",
       "      <th></th>\n",
       "      <th></th>\n",
       "      <th></th>\n",
       "      <th></th>\n",
       "      <th></th>\n",
       "    </tr>\n",
       "  </thead>\n",
       "  <tbody>\n",
       "    <tr>\n",
       "      <th>2010-10-01 00:00:00+00:00</th>\n",
       "      <td>9995.0</td>\n",
       "      <td>NaN</td>\n",
       "      <td>NaN</td>\n",
       "      <td>NaN</td>\n",
       "      <td>NaN</td>\n",
       "      <td>NaN</td>\n",
       "      <td>NaN</td>\n",
       "    </tr>\n",
       "    <tr>\n",
       "      <th>2010-10-04 00:00:00+00:00</th>\n",
       "      <td>10065.0</td>\n",
       "      <td>NaN</td>\n",
       "      <td>NaN</td>\n",
       "      <td>NaN</td>\n",
       "      <td>NaN</td>\n",
       "      <td>NaN</td>\n",
       "      <td>NaN</td>\n",
       "    </tr>\n",
       "    <tr>\n",
       "      <th>2010-10-05 00:00:00+00:00</th>\n",
       "      <td>10065.0</td>\n",
       "      <td>NaN</td>\n",
       "      <td>NaN</td>\n",
       "      <td>NaN</td>\n",
       "      <td>NaN</td>\n",
       "      <td>NaN</td>\n",
       "      <td>NaN</td>\n",
       "    </tr>\n",
       "    <tr>\n",
       "      <th>2010-10-06 00:00:00+00:00</th>\n",
       "      <td>10285.0</td>\n",
       "      <td>NaN</td>\n",
       "      <td>NaN</td>\n",
       "      <td>NaN</td>\n",
       "      <td>NaN</td>\n",
       "      <td>NaN</td>\n",
       "      <td>NaN</td>\n",
       "    </tr>\n",
       "    <tr>\n",
       "      <th>2010-10-07 00:00:00+00:00</th>\n",
       "      <td>10335.0</td>\n",
       "      <td>NaN</td>\n",
       "      <td>NaN</td>\n",
       "      <td>NaN</td>\n",
       "      <td>NaN</td>\n",
       "      <td>NaN</td>\n",
       "      <td>NaN</td>\n",
       "    </tr>\n",
       "    <tr>\n",
       "      <th>...</th>\n",
       "      <td>...</td>\n",
       "      <td>...</td>\n",
       "      <td>...</td>\n",
       "      <td>...</td>\n",
       "      <td>...</td>\n",
       "      <td>...</td>\n",
       "      <td>...</td>\n",
       "    </tr>\n",
       "    <tr>\n",
       "      <th>2024-09-24 00:00:00+00:00</th>\n",
       "      <td>16120.0</td>\n",
       "      <td>14730.0</td>\n",
       "      <td>6205.546875</td>\n",
       "      <td>44460.0</td>\n",
       "      <td>12135.0</td>\n",
       "      <td>4618.400391</td>\n",
       "      <td>19183.621094</td>\n",
       "    </tr>\n",
       "    <tr>\n",
       "      <th>2024-09-25 00:00:00+00:00</th>\n",
       "      <td>16285.0</td>\n",
       "      <td>14685.0</td>\n",
       "      <td>6215.273438</td>\n",
       "      <td>43825.0</td>\n",
       "      <td>12125.0</td>\n",
       "      <td>4583.971680</td>\n",
       "      <td>19123.812500</td>\n",
       "    </tr>\n",
       "    <tr>\n",
       "      <th>2024-09-26 00:00:00+00:00</th>\n",
       "      <td>16310.0</td>\n",
       "      <td>14640.0</td>\n",
       "      <td>6225.000000</td>\n",
       "      <td>45335.0</td>\n",
       "      <td>12060.0</td>\n",
       "      <td>4579.053223</td>\n",
       "      <td>19223.492188</td>\n",
       "    </tr>\n",
       "    <tr>\n",
       "      <th>2024-09-27 00:00:00+00:00</th>\n",
       "      <td>16340.0</td>\n",
       "      <td>14595.0</td>\n",
       "      <td>6190.000000</td>\n",
       "      <td>45115.0</td>\n",
       "      <td>11965.0</td>\n",
       "      <td>4564.153809</td>\n",
       "      <td>19029.115234</td>\n",
       "    </tr>\n",
       "    <tr>\n",
       "      <th>2024-09-30 00:00:00+00:00</th>\n",
       "      <td>16290.0</td>\n",
       "      <td>14425.0</td>\n",
       "      <td>6120.000000</td>\n",
       "      <td>44080.0</td>\n",
       "      <td>11885.0</td>\n",
       "      <td>4504.556641</td>\n",
       "      <td>18844.705078</td>\n",
       "    </tr>\n",
       "  </tbody>\n",
       "</table>\n",
       "<p>3442 rows × 7 columns</p>\n",
       "</div>"
      ],
      "text/plain": [
       "Ticker                     132030.KS  138230.KS    293940.KS  294400.KS  \\\n",
       "Date                                                                      \n",
       "2010-10-01 00:00:00+00:00     9995.0        NaN          NaN        NaN   \n",
       "2010-10-04 00:00:00+00:00    10065.0        NaN          NaN        NaN   \n",
       "2010-10-05 00:00:00+00:00    10065.0        NaN          NaN        NaN   \n",
       "2010-10-06 00:00:00+00:00    10285.0        NaN          NaN        NaN   \n",
       "2010-10-07 00:00:00+00:00    10335.0        NaN          NaN        NaN   \n",
       "...                              ...        ...          ...        ...   \n",
       "2024-09-24 00:00:00+00:00    16120.0    14730.0  6205.546875    44460.0   \n",
       "2024-09-25 00:00:00+00:00    16285.0    14685.0  6215.273438    43825.0   \n",
       "2024-09-26 00:00:00+00:00    16310.0    14640.0  6225.000000    45335.0   \n",
       "2024-09-27 00:00:00+00:00    16340.0    14595.0  6190.000000    45115.0   \n",
       "2024-09-30 00:00:00+00:00    16290.0    14425.0  6120.000000    44080.0   \n",
       "\n",
       "Ticker                     305080.KS    329200.KS     360200.KS  \n",
       "Date                                                             \n",
       "2010-10-01 00:00:00+00:00        NaN          NaN           NaN  \n",
       "2010-10-04 00:00:00+00:00        NaN          NaN           NaN  \n",
       "2010-10-05 00:00:00+00:00        NaN          NaN           NaN  \n",
       "2010-10-06 00:00:00+00:00        NaN          NaN           NaN  \n",
       "2010-10-07 00:00:00+00:00        NaN          NaN           NaN  \n",
       "...                              ...          ...           ...  \n",
       "2024-09-24 00:00:00+00:00    12135.0  4618.400391  19183.621094  \n",
       "2024-09-25 00:00:00+00:00    12125.0  4583.971680  19123.812500  \n",
       "2024-09-26 00:00:00+00:00    12060.0  4579.053223  19223.492188  \n",
       "2024-09-27 00:00:00+00:00    11965.0  4564.153809  19029.115234  \n",
       "2024-09-30 00:00:00+00:00    11885.0  4504.556641  18844.705078  \n",
       "\n",
       "[3442 rows x 7 columns]"
      ]
     },
     "execution_count": 11,
     "metadata": {},
     "output_type": "execute_result"
    }
   ],
   "source": [
    "df2"
   ]
  },
  {
   "cell_type": "code",
   "execution_count": 12,
   "metadata": {},
   "outputs": [
    {
     "data": {
      "text/plain": [
       "Ticker\n",
       "132030.KS      22\n",
       "138230.KS     122\n",
       "293940.KS    1932\n",
       "294400.KS    1883\n",
       "305080.KS    1970\n",
       "329200.KS    2184\n",
       "360200.KS    2443\n",
       "dtype: int64"
      ]
     },
     "execution_count": 12,
     "metadata": {},
     "output_type": "execute_result"
    }
   ],
   "source": [
    "df2.isnull().sum()"
   ]
  },
  {
   "cell_type": "code",
   "execution_count": 13,
   "metadata": {},
   "outputs": [],
   "source": [
    "df2 = df2.dropna()"
   ]
  },
  {
   "cell_type": "code",
   "execution_count": 14,
   "metadata": {},
   "outputs": [],
   "source": [
    "# 전략 설정\n",
    "str2 = bt.Strategy('전략2', [\n",
    "    bt.algos.SelectAll(),\n",
    "    bt.algos.WeighSpecified(**{\n",
    "        '132030.KS': 0.20, '138230.KS': 0.10, '305080.KS': 0.25,\n",
    "        '329200.KS': 0.10, '293940.KS': 0.05, '294400.KS': 0.10,\n",
    "        '360200.KS': 0.15\n",
    "    }),\n",
    "    #bt.algos.RunQuarterly(),\n",
    "    bt.algos.Rebalance()\n",
    "])"
   ]
  },
  {
   "cell_type": "markdown",
   "metadata": {},
   "source": [
    "# 시장 인덱스\n",
    "- 코스피\n",
    "- S&P500"
   ]
  },
  {
   "cell_type": "code",
   "execution_count": 15,
   "metadata": {},
   "outputs": [
    {
     "name": "stderr",
     "output_type": "stream",
     "text": [
      "[*********************100%***********************]  2 of 2 completed\n"
     ]
    }
   ],
   "source": [
    "symbol = ['294400.KS', '360200.KS']\n",
    "\n",
    "df3 = yf.download(symbol, start, end)\n",
    "kospi = df3['Adj Close']['294400.KS']\n",
    "snp = df3['Adj Close']['360200.KS']"
   ]
  },
  {
   "cell_type": "code",
   "execution_count": 16,
   "metadata": {},
   "outputs": [
    {
     "data": {
      "text/plain": [
       "Price      Ticker   \n",
       "Adj Close  294400.KS      1\n",
       "           360200.KS    561\n",
       "Close      294400.KS      1\n",
       "           360200.KS    561\n",
       "High       294400.KS      1\n",
       "           360200.KS    561\n",
       "Low        294400.KS      1\n",
       "           360200.KS    561\n",
       "Open       294400.KS      1\n",
       "           360200.KS    561\n",
       "Volume     294400.KS      1\n",
       "           360200.KS    561\n",
       "dtype: int64"
      ]
     },
     "execution_count": 16,
     "metadata": {},
     "output_type": "execute_result"
    }
   ],
   "source": [
    "df3.isnull().sum()"
   ]
  },
  {
   "cell_type": "code",
   "execution_count": 17,
   "metadata": {},
   "outputs": [],
   "source": [
    "df3 = df3.dropna()"
   ]
  },
  {
   "cell_type": "code",
   "execution_count": 18,
   "metadata": {},
   "outputs": [],
   "source": [
    "# 전략 설정\n",
    "kos = bt.Strategy('코스피', [\n",
    "    bt.algos.SelectAll(),\n",
    "    bt.algos.WeighSpecified(**{\n",
    "        '294400.KS': 0.95\n",
    "    }),\n",
    "    #bt.algos.RunQuarterly(),\n",
    "    bt.algos.Rebalance()\n",
    "])\n",
    "\n",
    "# 전략 설정\n",
    "sn = bt.Strategy('S&P500', [\n",
    "    bt.algos.SelectAll(),\n",
    "    bt.algos.WeighSpecified(**{\n",
    "        '360200.KS': 0.95\n",
    "    }),\n",
    "    #bt.algos.RunQuarterly(),\n",
    "    bt.algos.Rebalance()\n",
    "])"
   ]
  },
  {
   "cell_type": "markdown",
   "metadata": {},
   "source": [
    "# 백테스트 생성"
   ]
  },
  {
   "cell_type": "code",
   "execution_count": 19,
   "metadata": {},
   "outputs": [],
   "source": [
    "# 백테스트 생성\n",
    "backtest_sangwons = bt.Backtest(sangwons, df1)  # 파라미터 = 전략, 주가데이터\n",
    "\n",
    "# 백테스트 생성\n",
    "backtest_str2 = bt.Backtest(str2, df2)  # 파라미터 = 전략, 주가데이터\n",
    "\n",
    "# 백테스트 생성\n",
    "backtest_kospi = bt.Backtest(kos, df3)  # 파라미터 = 전략, 주가데이터\n",
    "\n",
    "# 백테스트 생성\n",
    "backtest_snp = bt.Backtest(sn, df3)  # 파라미터 = 전략, 주가데이터"
   ]
  },
  {
   "cell_type": "code",
   "execution_count": 20,
   "metadata": {},
   "outputs": [
    {
     "name": "stderr",
     "output_type": "stream",
     "text": [
      "  0%|          | 0/2 [00:00<?, ?it/s]"
     ]
    },
    {
     "name": "stderr",
     "output_type": "stream",
     "text": [
      "100%|██████████| 2/2 [00:00<00:00,  4.56it/s]\n"
     ]
    },
    {
     "data": {
      "text/plain": [
       "{'상원쓰': <ffn.core.PerformanceStats at 0x15ed42180>,\n",
       " '전략2': <ffn.core.PerformanceStats at 0x15ed43b60>}"
      ]
     },
     "execution_count": 20,
     "metadata": {},
     "output_type": "execute_result"
    }
   ],
   "source": [
    "# 백테스트 실행\n",
    "result = bt.run(backtest_sangwons, backtest_str2) # 두종류 이상의 포트폴리오 넣을 수 있음\n",
    "result"
   ]
  },
  {
   "cell_type": "markdown",
   "metadata": {},
   "source": [
    "# 전략 평가"
   ]
  },
  {
   "cell_type": "code",
   "execution_count": 51,
   "metadata": {},
   "outputs": [
    {
     "data": {
      "text/html": [
       "<div>\n",
       "<style scoped>\n",
       "    .dataframe tbody tr th:only-of-type {\n",
       "        vertical-align: middle;\n",
       "    }\n",
       "\n",
       "    .dataframe tbody tr th {\n",
       "        vertical-align: top;\n",
       "    }\n",
       "\n",
       "    .dataframe thead th {\n",
       "        text-align: right;\n",
       "    }\n",
       "</style>\n",
       "<table border=\"1\" class=\"dataframe\">\n",
       "  <thead>\n",
       "    <tr style=\"text-align: right;\">\n",
       "      <th></th>\n",
       "      <th>상원쓰</th>\n",
       "      <th>전략2</th>\n",
       "    </tr>\n",
       "  </thead>\n",
       "  <tbody>\n",
       "    <tr>\n",
       "      <th>2020-10-28 00:00:00+00:00</th>\n",
       "      <td>100.000000</td>\n",
       "      <td>97.403485</td>\n",
       "    </tr>\n",
       "    <tr>\n",
       "      <th>2020-10-29 00:00:00+00:00</th>\n",
       "      <td>100.000000</td>\n",
       "      <td>96.797423</td>\n",
       "    </tr>\n",
       "    <tr>\n",
       "      <th>2020-10-30 00:00:00+00:00</th>\n",
       "      <td>99.365607</td>\n",
       "      <td>96.150768</td>\n",
       "    </tr>\n",
       "    <tr>\n",
       "      <th>2020-11-02 00:00:00+00:00</th>\n",
       "      <td>99.368215</td>\n",
       "      <td>96.528105</td>\n",
       "    </tr>\n",
       "    <tr>\n",
       "      <th>2020-11-03 00:00:00+00:00</th>\n",
       "      <td>99.991822</td>\n",
       "      <td>97.080092</td>\n",
       "    </tr>\n",
       "    <tr>\n",
       "      <th>...</th>\n",
       "      <td>...</td>\n",
       "      <td>...</td>\n",
       "    </tr>\n",
       "    <tr>\n",
       "      <th>2024-09-26 00:00:00+00:00</th>\n",
       "      <td>126.635956</td>\n",
       "      <td>124.448852</td>\n",
       "    </tr>\n",
       "    <tr>\n",
       "      <th>2024-09-27 00:00:00+00:00</th>\n",
       "      <td>126.133456</td>\n",
       "      <td>123.772852</td>\n",
       "    </tr>\n",
       "    <tr>\n",
       "      <th>2024-09-30 00:00:00+00:00</th>\n",
       "      <td>125.493456</td>\n",
       "      <td>122.769352</td>\n",
       "    </tr>\n",
       "    <tr>\n",
       "      <th>2024-10-02 00:00:00+00:00</th>\n",
       "      <td>126.101956</td>\n",
       "      <td>122.711852</td>\n",
       "    </tr>\n",
       "    <tr>\n",
       "      <th>2024-10-04 00:00:00+00:00</th>\n",
       "      <td>126.857456</td>\n",
       "      <td>123.230352</td>\n",
       "    </tr>\n",
       "  </tbody>\n",
       "</table>\n",
       "<p>947 rows × 2 columns</p>\n",
       "</div>"
      ],
      "text/plain": [
       "                                  상원쓰         전략2\n",
       "2020-10-28 00:00:00+00:00  100.000000   97.403485\n",
       "2020-10-29 00:00:00+00:00  100.000000   96.797423\n",
       "2020-10-30 00:00:00+00:00   99.365607   96.150768\n",
       "2020-11-02 00:00:00+00:00   99.368215   96.528105\n",
       "2020-11-03 00:00:00+00:00   99.991822   97.080092\n",
       "...                               ...         ...\n",
       "2024-09-26 00:00:00+00:00  126.635956  124.448852\n",
       "2024-09-27 00:00:00+00:00  126.133456  123.772852\n",
       "2024-09-30 00:00:00+00:00  125.493456  122.769352\n",
       "2024-10-02 00:00:00+00:00  126.101956  122.711852\n",
       "2024-10-04 00:00:00+00:00  126.857456  123.230352\n",
       "\n",
       "[947 rows x 2 columns]"
      ]
     },
     "execution_count": 51,
     "metadata": {},
     "output_type": "execute_result"
    }
   ],
   "source": [
    "# 결과에 대한 평가\n",
    "result.prices #-> 시작시점:100"
   ]
  },
  {
   "cell_type": "code",
   "execution_count": 52,
   "metadata": {},
   "outputs": [
    {
     "data": {
      "text/html": [
       "<div>\n",
       "<style scoped>\n",
       "    .dataframe tbody tr th:only-of-type {\n",
       "        vertical-align: middle;\n",
       "    }\n",
       "\n",
       "    .dataframe tbody tr th {\n",
       "        vertical-align: top;\n",
       "    }\n",
       "\n",
       "    .dataframe thead th {\n",
       "        text-align: right;\n",
       "    }\n",
       "</style>\n",
       "<table border=\"1\" class=\"dataframe\">\n",
       "  <thead>\n",
       "    <tr style=\"text-align: right;\">\n",
       "      <th></th>\n",
       "      <th>상원쓰</th>\n",
       "      <th>전략2</th>\n",
       "    </tr>\n",
       "  </thead>\n",
       "  <tbody>\n",
       "    <tr>\n",
       "      <th>2020-10-28 00:00:00+00:00</th>\n",
       "      <td>NaN</td>\n",
       "      <td>NaN</td>\n",
       "    </tr>\n",
       "    <tr>\n",
       "      <th>2020-10-29 00:00:00+00:00</th>\n",
       "      <td>0.000000</td>\n",
       "      <td>-0.006222</td>\n",
       "    </tr>\n",
       "    <tr>\n",
       "      <th>2020-10-30 00:00:00+00:00</th>\n",
       "      <td>-0.006344</td>\n",
       "      <td>-0.006680</td>\n",
       "    </tr>\n",
       "    <tr>\n",
       "      <th>2020-11-02 00:00:00+00:00</th>\n",
       "      <td>0.000026</td>\n",
       "      <td>0.003924</td>\n",
       "    </tr>\n",
       "    <tr>\n",
       "      <th>2020-11-03 00:00:00+00:00</th>\n",
       "      <td>0.006276</td>\n",
       "      <td>0.005718</td>\n",
       "    </tr>\n",
       "    <tr>\n",
       "      <th>...</th>\n",
       "      <td>...</td>\n",
       "      <td>...</td>\n",
       "    </tr>\n",
       "    <tr>\n",
       "      <th>2024-09-26 00:00:00+00:00</th>\n",
       "      <td>-0.001250</td>\n",
       "      <td>0.001828</td>\n",
       "    </tr>\n",
       "    <tr>\n",
       "      <th>2024-09-27 00:00:00+00:00</th>\n",
       "      <td>-0.003968</td>\n",
       "      <td>-0.005432</td>\n",
       "    </tr>\n",
       "    <tr>\n",
       "      <th>2024-09-30 00:00:00+00:00</th>\n",
       "      <td>-0.005074</td>\n",
       "      <td>-0.008108</td>\n",
       "    </tr>\n",
       "    <tr>\n",
       "      <th>2024-10-02 00:00:00+00:00</th>\n",
       "      <td>0.004849</td>\n",
       "      <td>-0.000468</td>\n",
       "    </tr>\n",
       "    <tr>\n",
       "      <th>2024-10-04 00:00:00+00:00</th>\n",
       "      <td>0.005991</td>\n",
       "      <td>0.004225</td>\n",
       "    </tr>\n",
       "  </tbody>\n",
       "</table>\n",
       "<p>947 rows × 2 columns</p>\n",
       "</div>"
      ],
      "text/plain": [
       "                                상원쓰       전략2\n",
       "2020-10-28 00:00:00+00:00       NaN       NaN\n",
       "2020-10-29 00:00:00+00:00  0.000000 -0.006222\n",
       "2020-10-30 00:00:00+00:00 -0.006344 -0.006680\n",
       "2020-11-02 00:00:00+00:00  0.000026  0.003924\n",
       "2020-11-03 00:00:00+00:00  0.006276  0.005718\n",
       "...                             ...       ...\n",
       "2024-09-26 00:00:00+00:00 -0.001250  0.001828\n",
       "2024-09-27 00:00:00+00:00 -0.003968 -0.005432\n",
       "2024-09-30 00:00:00+00:00 -0.005074 -0.008108\n",
       "2024-10-02 00:00:00+00:00  0.004849 -0.000468\n",
       "2024-10-04 00:00:00+00:00  0.005991  0.004225\n",
       "\n",
       "[947 rows x 2 columns]"
      ]
     },
     "execution_count": 52,
     "metadata": {},
     "output_type": "execute_result"
    }
   ],
   "source": [
    "# 결과에 대한 평가\n",
    "result.prices.to_returns() #-> 수익률 환산"
   ]
  },
  {
   "cell_type": "code",
   "execution_count": 53,
   "metadata": {},
   "outputs": [
    {
     "name": "stdout",
     "output_type": "stream",
     "text": [
      "Requirement already satisfied: koreanize-matplotlib in /opt/anaconda3/lib/python3.12/site-packages (0.1.1)\n",
      "Requirement already satisfied: matplotlib in /opt/anaconda3/lib/python3.12/site-packages (from koreanize-matplotlib) (3.8.4)\n",
      "Requirement already satisfied: contourpy>=1.0.1 in /opt/anaconda3/lib/python3.12/site-packages (from matplotlib->koreanize-matplotlib) (1.2.0)\n",
      "Requirement already satisfied: cycler>=0.10 in /opt/anaconda3/lib/python3.12/site-packages (from matplotlib->koreanize-matplotlib) (0.11.0)\n",
      "Requirement already satisfied: fonttools>=4.22.0 in /opt/anaconda3/lib/python3.12/site-packages (from matplotlib->koreanize-matplotlib) (4.51.0)\n",
      "Requirement already satisfied: kiwisolver>=1.3.1 in /opt/anaconda3/lib/python3.12/site-packages (from matplotlib->koreanize-matplotlib) (1.4.4)\n",
      "Requirement already satisfied: numpy>=1.21 in /opt/anaconda3/lib/python3.12/site-packages (from matplotlib->koreanize-matplotlib) (1.26.4)\n",
      "Requirement already satisfied: packaging>=20.0 in /opt/anaconda3/lib/python3.12/site-packages (from matplotlib->koreanize-matplotlib) (23.2)\n",
      "Requirement already satisfied: pillow>=8 in /opt/anaconda3/lib/python3.12/site-packages (from matplotlib->koreanize-matplotlib) (10.3.0)\n",
      "Requirement already satisfied: pyparsing>=2.3.1 in /opt/anaconda3/lib/python3.12/site-packages (from matplotlib->koreanize-matplotlib) (3.0.9)\n",
      "Requirement already satisfied: python-dateutil>=2.7 in /opt/anaconda3/lib/python3.12/site-packages (from matplotlib->koreanize-matplotlib) (2.9.0.post0)\n",
      "Requirement already satisfied: six>=1.5 in /opt/anaconda3/lib/python3.12/site-packages (from python-dateutil>=2.7->matplotlib->koreanize-matplotlib) (1.16.0)\n"
     ]
    }
   ],
   "source": [
    "!pip install koreanize-matplotlib\n",
    "import koreanize_matplotlib"
   ]
  },
  {
   "cell_type": "code",
   "execution_count": 54,
   "metadata": {},
   "outputs": [
    {
     "data": {
      "text/plain": [
       "<Axes: title={'center': 'Equity Progression'}>"
      ]
     },
     "execution_count": 54,
     "metadata": {},
     "output_type": "execute_result"
    },
    {
     "data": {
      "image/png": "[encoded data removed]",
      "text/plain": [
       "<Figure size 1500x500 with 1 Axes>"
      ]
     },
     "metadata": {},
     "output_type": "display_data"
    }
   ],
   "source": [
    "result.plot()"
   ]
  },
  {
   "cell_type": "code",
   "execution_count": 55,
   "metadata": {},
   "outputs": [
    {
     "name": "stdout",
     "output_type": "stream",
     "text": [
      "Stat                 상원쓰      전략2\n",
      "-------------------  ----------  ----------\n",
      "Start                2020-10-28  2020-10-28\n",
      "End                  2024-10-04  2024-10-04\n",
      "Risk-free rate       0.00%       0.00%\n",
      "\n",
      "Total Return         26.86%      26.52%\n",
      "Daily Sharpe         1.26        1.26\n",
      "Daily Sortino        2.17        2.10\n",
      "CAGR                 6.23%       6.16%\n",
      "Max Drawdown         -8.41%      -8.30%\n",
      "Calmar Ratio         0.74        0.74\n",
      "\n",
      "MTD                  1.09%       0.38%\n",
      "3m                   0.63%       0.92%\n",
      "6m                   3.74%       3.84%\n",
      "YTD                  8.88%       10.65%\n",
      "1Y                   12.18%      16.55%\n",
      "3Y (ann.)            4.76%       4.84%\n",
      "5Y (ann.)            6.23%       6.16%\n",
      "10Y (ann.)           -           -\n",
      "Since Incep. (ann.)  6.23%       6.16%\n",
      "\n",
      "Daily Sharpe         1.26        1.26\n",
      "Daily Sortino        2.17        2.10\n",
      "Daily Mean (ann.)    6.47%       6.40%\n",
      "Daily Vol (ann.)     5.15%       5.08%\n",
      "Daily Skew           0.04        -0.34\n",
      "Daily Kurt           1.73        2.02\n",
      "Best Day             1.63%       1.33%\n",
      "Worst Day            -1.20%      -1.60%\n",
      "\n",
      "Monthly Sharpe       1.38        1.25\n",
      "Monthly Sortino      2.88        2.63\n",
      "Monthly Mean (ann.)  6.22%       6.35%\n",
      "Monthly Vol (ann.)   4.50%       5.09%\n",
      "Monthly Skew         -0.27       -0.17\n",
      "Monthly Kurt         0.33        -0.23\n",
      "Best Month           3.43%       4.21%\n",
      "Worst Month          -2.71%      -2.56%\n",
      "\n",
      "Yearly Sharpe        0.80        0.65\n",
      "Yearly Sortino       2.37        1.55\n",
      "Yearly Mean          5.90%       5.92%\n",
      "Yearly Vol           7.33%       9.05%\n",
      "Yearly Skew          -1.86       -1.99\n",
      "Yearly Kurt          3.60        3.97\n",
      "Best Year            11.08%      10.73%\n",
      "Worst Year           -4.97%      -7.64%\n",
      "\n",
      "Avg. Drawdown        -0.72%      -0.74%\n",
      "Avg. Drawdown Days   27.93       24.51\n",
      "Avg. Up Month        1.19%       1.39%\n",
      "Avg. Down Month      -0.95%      -1.19%\n",
      "Win Year %           75.00%      75.00%\n",
      "Win 12m %            86.84%      73.68%\n"
     ]
    }
   ],
   "source": [
    "result.display()"
   ]
  },
  {
   "cell_type": "code",
   "execution_count": 56,
   "metadata": {},
   "outputs": [
    {
     "data": {
      "text/html": [
       "<div>\n",
       "<style scoped>\n",
       "    .dataframe tbody tr th:only-of-type {\n",
       "        vertical-align: middle;\n",
       "    }\n",
       "\n",
       "    .dataframe tbody tr th {\n",
       "        vertical-align: top;\n",
       "    }\n",
       "\n",
       "    .dataframe thead th {\n",
       "        text-align: right;\n",
       "    }\n",
       "</style>\n",
       "<table border=\"1\" class=\"dataframe\">\n",
       "  <thead>\n",
       "    <tr style=\"text-align: right;\">\n",
       "      <th></th>\n",
       "      <th>005930.KS</th>\n",
       "      <th>132030.KS</th>\n",
       "      <th>138230.KS</th>\n",
       "      <th>138910.KS</th>\n",
       "      <th>261220.KS</th>\n",
       "      <th>271060.KS</th>\n",
       "      <th>292560.KS</th>\n",
       "      <th>294400.KS</th>\n",
       "      <th>305080.KS</th>\n",
       "      <th>360200.KS</th>\n",
       "      <th>367380.KS</th>\n",
       "    </tr>\n",
       "  </thead>\n",
       "  <tbody>\n",
       "    <tr>\n",
       "      <th>2020-10-28 00:00:00+00:00</th>\n",
       "      <td>0.0</td>\n",
       "      <td>0.000000</td>\n",
       "      <td>0.000000</td>\n",
       "      <td>0.000000</td>\n",
       "      <td>0.000000</td>\n",
       "      <td>0.000000</td>\n",
       "      <td>0.000000</td>\n",
       "      <td>0.000000</td>\n",
       "      <td>0.000000</td>\n",
       "      <td>0.000000</td>\n",
       "      <td>0.000000</td>\n",
       "    </tr>\n",
       "    <tr>\n",
       "      <th>2020-10-29 00:00:00+00:00</th>\n",
       "      <td>0.0</td>\n",
       "      <td>0.142725</td>\n",
       "      <td>0.136714</td>\n",
       "      <td>0.034770</td>\n",
       "      <td>0.034920</td>\n",
       "      <td>0.024555</td>\n",
       "      <td>0.032130</td>\n",
       "      <td>0.036100</td>\n",
       "      <td>0.336000</td>\n",
       "      <td>0.091393</td>\n",
       "      <td>0.038775</td>\n",
       "    </tr>\n",
       "    <tr>\n",
       "      <th>2020-10-30 00:00:00+00:00</th>\n",
       "      <td>0.0</td>\n",
       "      <td>0.142474</td>\n",
       "      <td>0.137816</td>\n",
       "      <td>0.034388</td>\n",
       "      <td>0.039028</td>\n",
       "      <td>0.024485</td>\n",
       "      <td>0.032426</td>\n",
       "      <td>0.035395</td>\n",
       "      <td>0.338427</td>\n",
       "      <td>0.099269</td>\n",
       "      <td>0.038389</td>\n",
       "    </tr>\n",
       "    <tr>\n",
       "      <th>2020-11-02 00:00:00+00:00</th>\n",
       "      <td>0.0</td>\n",
       "      <td>0.143632</td>\n",
       "      <td>0.137869</td>\n",
       "      <td>0.034448</td>\n",
       "      <td>0.037582</td>\n",
       "      <td>0.024288</td>\n",
       "      <td>0.032304</td>\n",
       "      <td>0.035902</td>\n",
       "      <td>0.337432</td>\n",
       "      <td>0.091156</td>\n",
       "      <td>0.038368</td>\n",
       "    </tr>\n",
       "    <tr>\n",
       "      <th>2020-11-03 00:00:00+00:00</th>\n",
       "      <td>0.0</td>\n",
       "      <td>0.143397</td>\n",
       "      <td>0.137066</td>\n",
       "      <td>0.034773</td>\n",
       "      <td>0.039868</td>\n",
       "      <td>0.024362</td>\n",
       "      <td>0.032118</td>\n",
       "      <td>0.036393</td>\n",
       "      <td>0.335327</td>\n",
       "      <td>0.091974</td>\n",
       "      <td>0.038247</td>\n",
       "    </tr>\n",
       "    <tr>\n",
       "      <th>2020-11-04 00:00:00+00:00</th>\n",
       "      <td>0.0</td>\n",
       "      <td>0.142786</td>\n",
       "      <td>0.136199</td>\n",
       "      <td>0.039987</td>\n",
       "      <td>0.035464</td>\n",
       "      <td>0.024272</td>\n",
       "      <td>0.031896</td>\n",
       "      <td>0.036286</td>\n",
       "      <td>0.334601</td>\n",
       "      <td>0.093117</td>\n",
       "      <td>0.039514</td>\n",
       "    </tr>\n",
       "    <tr>\n",
       "      <th>2020-11-05 00:00:00+00:00</th>\n",
       "      <td>0.0</td>\n",
       "      <td>0.143124</td>\n",
       "      <td>0.134935</td>\n",
       "      <td>0.034552</td>\n",
       "      <td>0.035234</td>\n",
       "      <td>0.024741</td>\n",
       "      <td>0.031821</td>\n",
       "      <td>0.037040</td>\n",
       "      <td>0.332455</td>\n",
       "      <td>0.094212</td>\n",
       "      <td>0.030280</td>\n",
       "    </tr>\n",
       "    <tr>\n",
       "      <th>2020-11-06 00:00:00+00:00</th>\n",
       "      <td>0.0</td>\n",
       "      <td>0.145621</td>\n",
       "      <td>0.134276</td>\n",
       "      <td>0.034598</td>\n",
       "      <td>0.034717</td>\n",
       "      <td>0.024855</td>\n",
       "      <td>0.031861</td>\n",
       "      <td>0.037216</td>\n",
       "      <td>0.330411</td>\n",
       "      <td>0.094372</td>\n",
       "      <td>0.030244</td>\n",
       "    </tr>\n",
       "    <tr>\n",
       "      <th>2020-11-09 00:00:00+00:00</th>\n",
       "      <td>0.0</td>\n",
       "      <td>0.146985</td>\n",
       "      <td>0.133178</td>\n",
       "      <td>0.035200</td>\n",
       "      <td>0.035111</td>\n",
       "      <td>0.024655</td>\n",
       "      <td>0.031636</td>\n",
       "      <td>0.037611</td>\n",
       "      <td>0.339121</td>\n",
       "      <td>0.095558</td>\n",
       "      <td>0.030960</td>\n",
       "    </tr>\n",
       "    <tr>\n",
       "      <th>2020-11-10 00:00:00+00:00</th>\n",
       "      <td>0.0</td>\n",
       "      <td>0.142351</td>\n",
       "      <td>0.134687</td>\n",
       "      <td>0.035119</td>\n",
       "      <td>0.036709</td>\n",
       "      <td>0.024892</td>\n",
       "      <td>0.031520</td>\n",
       "      <td>0.037988</td>\n",
       "      <td>0.328619</td>\n",
       "      <td>0.095761</td>\n",
       "      <td>0.039689</td>\n",
       "    </tr>\n",
       "  </tbody>\n",
       "</table>\n",
       "</div>"
      ],
      "text/plain": [
       "                           005930.KS  132030.KS  138230.KS  138910.KS  \\\n",
       "2020-10-28 00:00:00+00:00        0.0   0.000000   0.000000   0.000000   \n",
       "2020-10-29 00:00:00+00:00        0.0   0.142725   0.136714   0.034770   \n",
       "2020-10-30 00:00:00+00:00        0.0   0.142474   0.137816   0.034388   \n",
       "2020-11-02 00:00:00+00:00        0.0   0.143632   0.137869   0.034448   \n",
       "2020-11-03 00:00:00+00:00        0.0   0.143397   0.137066   0.034773   \n",
       "2020-11-04 00:00:00+00:00        0.0   0.142786   0.136199   0.039987   \n",
       "2020-11-05 00:00:00+00:00        0.0   0.143124   0.134935   0.034552   \n",
       "2020-11-06 00:00:00+00:00        0.0   0.145621   0.134276   0.034598   \n",
       "2020-11-09 00:00:00+00:00        0.0   0.146985   0.133178   0.035200   \n",
       "2020-11-10 00:00:00+00:00        0.0   0.142351   0.134687   0.035119   \n",
       "\n",
       "                           261220.KS  271060.KS  292560.KS  294400.KS  \\\n",
       "2020-10-28 00:00:00+00:00   0.000000   0.000000   0.000000   0.000000   \n",
       "2020-10-29 00:00:00+00:00   0.034920   0.024555   0.032130   0.036100   \n",
       "2020-10-30 00:00:00+00:00   0.039028   0.024485   0.032426   0.035395   \n",
       "2020-11-02 00:00:00+00:00   0.037582   0.024288   0.032304   0.035902   \n",
       "2020-11-03 00:00:00+00:00   0.039868   0.024362   0.032118   0.036393   \n",
       "2020-11-04 00:00:00+00:00   0.035464   0.024272   0.031896   0.036286   \n",
       "2020-11-05 00:00:00+00:00   0.035234   0.024741   0.031821   0.037040   \n",
       "2020-11-06 00:00:00+00:00   0.034717   0.024855   0.031861   0.037216   \n",
       "2020-11-09 00:00:00+00:00   0.035111   0.024655   0.031636   0.037611   \n",
       "2020-11-10 00:00:00+00:00   0.036709   0.024892   0.031520   0.037988   \n",
       "\n",
       "                           305080.KS  360200.KS  367380.KS  \n",
       "2020-10-28 00:00:00+00:00   0.000000   0.000000   0.000000  \n",
       "2020-10-29 00:00:00+00:00   0.336000   0.091393   0.038775  \n",
       "2020-10-30 00:00:00+00:00   0.338427   0.099269   0.038389  \n",
       "2020-11-02 00:00:00+00:00   0.337432   0.091156   0.038368  \n",
       "2020-11-03 00:00:00+00:00   0.335327   0.091974   0.038247  \n",
       "2020-11-04 00:00:00+00:00   0.334601   0.093117   0.039514  \n",
       "2020-11-05 00:00:00+00:00   0.332455   0.094212   0.030280  \n",
       "2020-11-06 00:00:00+00:00   0.330411   0.094372   0.030244  \n",
       "2020-11-09 00:00:00+00:00   0.339121   0.095558   0.030960  \n",
       "2020-11-10 00:00:00+00:00   0.328619   0.095761   0.039689  "
      ]
     },
     "execution_count": 56,
     "metadata": {},
     "output_type": "execute_result"
    }
   ],
   "source": [
    "wt = result.get_security_weights() # 비중변화 시각화\n",
    "wt.head(10)"
   ]
  },
  {
   "cell_type": "code",
   "execution_count": null,
   "metadata": {},
   "outputs": [],
   "source": []
  },
  {
   "cell_type": "code",
   "execution_count": 127,
   "metadata": {},
   "outputs": [
    {
     "ename": "NameError",
     "evalue": "name 'strategy' is not defined",
     "output_type": "error",
     "traceback": [
      "\u001b[0;31m---------------------------------------------------------------------------\u001b[0m",
      "\u001b[0;31mNameError\u001b[0m                                 Traceback (most recent call last)",
      "Cell \u001b[0;32mIn[127], line 2\u001b[0m\n\u001b[1;32m      1\u001b[0m \u001b[38;5;66;03m# 포트폴리오 생성 (수수료포함)\u001b[39;00m\n\u001b[0;32m----> 2\u001b[0m backtest_net \u001b[38;5;241m=\u001b[39m bt\u001b[38;5;241m.\u001b[39mBacktest(strategy, df,\n\u001b[1;32m      3\u001b[0m                            name\u001b[38;5;241m=\u001b[39m\u001b[38;5;124m'\u001b[39m\u001b[38;5;124mstrategy_net\u001b[39m\u001b[38;5;124m'\u001b[39m,\n\u001b[1;32m      4\u001b[0m                            commissions\u001b[38;5;241m=\u001b[39m\u001b[38;5;28;01mlambda\u001b[39;00m q, p: \u001b[38;5;28mabs\u001b[39m(q) \u001b[38;5;241m*\u001b[39m p \u001b[38;5;241m*\u001b[39m \u001b[38;5;241m0.003\u001b[39m)\n",
      "\u001b[0;31mNameError\u001b[0m: name 'strategy' is not defined"
     ]
    }
   ],
   "source": [
    "# 포트폴리오 생성 (수수료포함)\n",
    "backtest_net = bt.Backtest(strategy, df,\n",
    "                           name='strategy_net',\n",
    "                           commissions=lambda q, p: abs(q) * p * 0.003) # 파라미터 = 전략, 주가데이터, 이름, 수수료계산등.."
   ]
  },
  {
   "cell_type": "code",
   "execution_count": 64,
   "metadata": {},
   "outputs": [
    {
     "data": {
      "text/plain": [
       "<Axes: >"
      ]
     },
     "execution_count": 64,
     "metadata": {},
     "output_type": "execute_result"
    },
    {
     "data": {
      "image/png": "[encoded data removed]",
      "text/plain": [
       "<Figure size 640x480 with 1 Axes>"
      ]
     },
     "metadata": {},
     "output_type": "display_data"
    }
   ],
   "source": [
    "wt.plot.area()"
   ]
  },
  {
   "cell_type": "code",
   "execution_count": null,
   "metadata": {},
   "outputs": [],
   "source": [
    "\n"
   ]
  },
  {
   "cell_type": "code",
   "execution_count": null,
   "metadata": {},
   "outputs": [],
   "source": []
  },
  {
   "cell_type": "code",
   "execution_count": null,
   "metadata": {},
   "outputs": [],
   "source": []
  },
  {
   "cell_type": "code",
   "execution_count": null,
   "metadata": {},
   "outputs": [],
   "source": []
  },
  {
   "cell_type": "code",
   "execution_count": null,
   "metadata": {},
   "outputs": [],
   "source": []
  },
  {
   "cell_type": "code",
   "execution_count": null,
   "metadata": {},
   "outputs": [],
   "source": []
  },
  {
   "cell_type": "code",
   "execution_count": null,
   "metadata": {},
   "outputs": [],
   "source": []
  },
  {
   "cell_type": "code",
   "execution_count": null,
   "metadata": {},
   "outputs": [],
   "source": []
  },
  {
   "cell_type": "code",
   "execution_count": null,
   "metadata": {},
   "outputs": [],
   "source": []
  },
  {
   "cell_type": "code",
   "execution_count": null,
   "metadata": {},
   "outputs": [],
   "source": []
  },
  {
   "cell_type": "code",
   "execution_count": null,
   "metadata": {},
   "outputs": [],
   "source": []
  },
  {
   "cell_type": "code",
   "execution_count": null,
   "metadata": {},
   "outputs": [],
   "source": []
  },
  {
   "cell_type": "code",
   "execution_count": null,
   "metadata": {},
   "outputs": [],
   "source": []
  },
  {
   "cell_type": "code",
   "execution_count": null,
   "metadata": {},
   "outputs": [],
   "source": []
  },
  {
   "cell_type": "code",
   "execution_count": null,
   "metadata": {},
   "outputs": [],
   "source": []
  },
  {
   "cell_type": "code",
   "execution_count": null,
   "metadata": {},
   "outputs": [],
   "source": []
  },
  {
   "cell_type": "code",
   "execution_count": null,
   "metadata": {},
   "outputs": [],
   "source": []
  },
  {
   "cell_type": "code",
   "execution_count": null,
   "metadata": {},
   "outputs": [],
   "source": []
  },
  {
   "cell_type": "code",
   "execution_count": null,
   "metadata": {},
   "outputs": [],
   "source": []
  },
  {
   "cell_type": "code",
   "execution_count": null,
   "metadata": {},
   "outputs": [],
   "source": []
  },
  {
   "cell_type": "code",
   "execution_count": null,
   "metadata": {},
   "outputs": [],
   "source": []
  },
  {
   "cell_type": "code",
   "execution_count": null,
   "metadata": {},
   "outputs": [],
   "source": []
  },
  {
   "cell_type": "code",
   "execution_count": null,
   "metadata": {},
   "outputs": [],
   "source": []
  },
  {
   "cell_type": "code",
   "execution_count": null,
   "metadata": {},
   "outputs": [],
   "source": []
  },
  {
   "cell_type": "code",
   "execution_count": null,
   "metadata": {},
   "outputs": [],
   "source": []
  },
  {
   "cell_type": "code",
   "execution_count": null,
   "metadata": {},
   "outputs": [],
   "source": []
  },
  {
   "cell_type": "code",
   "execution_count": null,
   "metadata": {},
   "outputs": [],
   "source": []
  }
 ],
 "metadata": {
  "kernelspec": {
   "display_name": "base",
   "language": "python",
   "name": "python3"
  },
  "language_info": {
   "codemirror_mode": {
    "name": "ipython",
    "version": 3
   },
   "file_extension": ".py",
   "mimetype": "text/x-python",
   "name": "python",
   "nbconvert_exporter": "python",
   "pygments_lexer": "ipython3",
   "version": "3.12.4"
  }
 },
 "nbformat": 4,
 "nbformat_minor": 2
}
