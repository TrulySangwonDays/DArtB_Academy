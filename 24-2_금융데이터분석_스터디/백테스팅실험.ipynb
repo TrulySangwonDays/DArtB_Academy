{
 "cells": [
  {
   "cell_type": "code",
   "execution_count": 2,
   "metadata": {},
   "outputs": [
    {
     "name": "stdout",
     "output_type": "stream",
     "text": [
      "Collecting bt\n",
      "  Downloading bt-1.1.0-cp312-cp312-macosx_11_0_arm64.whl.metadata (6.3 kB)\n",
      "Collecting ffn>=1.1.0 (from bt)\n",
      "  Downloading ffn-1.1.0-py3-none-any.whl.metadata (3.5 kB)\n",
      "Collecting pyprind>=2.11 (from bt)\n",
      "  Downloading PyPrind-2.11.3-py2.py3-none-any.whl.metadata (1.1 kB)\n",
      "Requirement already satisfied: tqdm>=4 in /opt/anaconda3/lib/python3.12/site-packages (from bt) (4.66.4)\n",
      "Requirement already satisfied: decorator>=5.0.7 in /opt/anaconda3/lib/python3.12/site-packages (from ffn>=1.1.0->bt) (5.1.1)\n",
      "Requirement already satisfied: matplotlib>=1 in /opt/anaconda3/lib/python3.12/site-packages (from ffn>=1.1.0->bt) (3.8.4)\n",
      "Requirement already satisfied: numpy in /opt/anaconda3/lib/python3.12/site-packages (from ffn>=1.1.0->bt) (1.26.4)\n",
      "Requirement already satisfied: pandas>=0.19 in /opt/anaconda3/lib/python3.12/site-packages (from ffn>=1.1.0->bt) (2.2.2)\n",
      "Requirement already satisfied: scikit-learn>=0.15 in /opt/anaconda3/lib/python3.12/site-packages (from ffn>=1.1.0->bt) (1.4.2)\n",
      "Requirement already satisfied: scipy>=0.15 in /opt/anaconda3/lib/python3.12/site-packages (from ffn>=1.1.0->bt) (1.13.1)\n",
      "Requirement already satisfied: tabulate>=0.7.5 in /opt/anaconda3/lib/python3.12/site-packages (from ffn>=1.1.0->bt) (0.9.0)\n",
      "Collecting yfinance>=0.2 (from ffn>=1.1.0->bt)\n",
      "  Downloading yfinance-0.2.44-py2.py3-none-any.whl.metadata (13 kB)\n",
      "Requirement already satisfied: contourpy>=1.0.1 in /opt/anaconda3/lib/python3.12/site-packages (from matplotlib>=1->ffn>=1.1.0->bt) (1.2.0)\n",
      "Requirement already satisfied: cycler>=0.10 in /opt/anaconda3/lib/python3.12/site-packages (from matplotlib>=1->ffn>=1.1.0->bt) (0.11.0)\n",
      "Requirement already satisfied: fonttools>=4.22.0 in /opt/anaconda3/lib/python3.12/site-packages (from matplotlib>=1->ffn>=1.1.0->bt) (4.51.0)\n",
      "Requirement already satisfied: kiwisolver>=1.3.1 in /opt/anaconda3/lib/python3.12/site-packages (from matplotlib>=1->ffn>=1.1.0->bt) (1.4.4)\n",
      "Requirement already satisfied: packaging>=20.0 in /opt/anaconda3/lib/python3.12/site-packages (from matplotlib>=1->ffn>=1.1.0->bt) (23.2)\n",
      "Requirement already satisfied: pillow>=8 in /opt/anaconda3/lib/python3.12/site-packages (from matplotlib>=1->ffn>=1.1.0->bt) (10.3.0)\n",
      "Requirement already satisfied: pyparsing>=2.3.1 in /opt/anaconda3/lib/python3.12/site-packages (from matplotlib>=1->ffn>=1.1.0->bt) (3.0.9)\n",
      "Requirement already satisfied: python-dateutil>=2.7 in /opt/anaconda3/lib/python3.12/site-packages (from matplotlib>=1->ffn>=1.1.0->bt) (2.9.0.post0)\n",
      "Requirement already satisfied: pytz>=2020.1 in /opt/anaconda3/lib/python3.12/site-packages (from pandas>=0.19->ffn>=1.1.0->bt) (2024.1)\n",
      "Requirement already satisfied: tzdata>=2022.7 in /opt/anaconda3/lib/python3.12/site-packages (from pandas>=0.19->ffn>=1.1.0->bt) (2023.3)\n",
      "Requirement already satisfied: joblib>=1.2.0 in /opt/anaconda3/lib/python3.12/site-packages (from scikit-learn>=0.15->ffn>=1.1.0->bt) (1.4.2)\n",
      "Requirement already satisfied: threadpoolctl>=2.0.0 in /opt/anaconda3/lib/python3.12/site-packages (from scikit-learn>=0.15->ffn>=1.1.0->bt) (2.2.0)\n",
      "Requirement already satisfied: requests>=2.31 in /opt/anaconda3/lib/python3.12/site-packages (from yfinance>=0.2->ffn>=1.1.0->bt) (2.32.2)\n",
      "Collecting multitasking>=0.0.7 (from yfinance>=0.2->ffn>=1.1.0->bt)\n",
      "  Using cached multitasking-0.0.11-py3-none-any.whl.metadata (5.5 kB)\n",
      "Requirement already satisfied: lxml>=4.9.1 in /opt/anaconda3/lib/python3.12/site-packages (from yfinance>=0.2->ffn>=1.1.0->bt) (5.2.1)\n",
      "Requirement already satisfied: platformdirs>=2.0.0 in /opt/anaconda3/lib/python3.12/site-packages (from yfinance>=0.2->ffn>=1.1.0->bt) (3.10.0)\n",
      "Requirement already satisfied: frozendict>=2.3.4 in /opt/anaconda3/lib/python3.12/site-packages (from yfinance>=0.2->ffn>=1.1.0->bt) (2.4.2)\n",
      "Collecting peewee>=3.16.2 (from yfinance>=0.2->ffn>=1.1.0->bt)\n",
      "  Using cached peewee-3.17.6.tar.gz (3.0 MB)\n",
      "  Installing build dependencies ... \u001b[?25ldone\n",
      "\u001b[?25h  Getting requirements to build wheel ... \u001b[?25ldone\n",
      "\u001b[?25h  Preparing metadata (pyproject.toml) ... \u001b[?25ldone\n",
      "\u001b[?25hRequirement already satisfied: beautifulsoup4>=4.11.1 in /opt/anaconda3/lib/python3.12/site-packages (from yfinance>=0.2->ffn>=1.1.0->bt) (4.12.3)\n",
      "Collecting html5lib>=1.1 (from yfinance>=0.2->ffn>=1.1.0->bt)\n",
      "  Using cached html5lib-1.1-py2.py3-none-any.whl.metadata (16 kB)\n",
      "Requirement already satisfied: soupsieve>1.2 in /opt/anaconda3/lib/python3.12/site-packages (from beautifulsoup4>=4.11.1->yfinance>=0.2->ffn>=1.1.0->bt) (2.5)\n",
      "Requirement already satisfied: six>=1.9 in /opt/anaconda3/lib/python3.12/site-packages (from html5lib>=1.1->yfinance>=0.2->ffn>=1.1.0->bt) (1.16.0)\n",
      "Requirement already satisfied: webencodings in /opt/anaconda3/lib/python3.12/site-packages (from html5lib>=1.1->yfinance>=0.2->ffn>=1.1.0->bt) (0.5.1)\n",
      "Requirement already satisfied: charset-normalizer<4,>=2 in /opt/anaconda3/lib/python3.12/site-packages (from requests>=2.31->yfinance>=0.2->ffn>=1.1.0->bt) (2.0.4)\n",
      "Requirement already satisfied: idna<4,>=2.5 in /opt/anaconda3/lib/python3.12/site-packages (from requests>=2.31->yfinance>=0.2->ffn>=1.1.0->bt) (3.7)\n",
      "Requirement already satisfied: urllib3<3,>=1.21.1 in /opt/anaconda3/lib/python3.12/site-packages (from requests>=2.31->yfinance>=0.2->ffn>=1.1.0->bt) (2.2.2)\n",
      "Requirement already satisfied: certifi>=2017.4.17 in /opt/anaconda3/lib/python3.12/site-packages (from requests>=2.31->yfinance>=0.2->ffn>=1.1.0->bt) (2024.7.4)\n",
      "Downloading bt-1.1.0-cp312-cp312-macosx_11_0_arm64.whl (240 kB)\n",
      "\u001b[2K   \u001b[90m━━━━━━━━━━━━━━━━━━━━━━━━━━━━━━━━━━━━━━━━\u001b[0m \u001b[32m240.6/240.6 kB\u001b[0m \u001b[31m3.7 MB/s\u001b[0m eta \u001b[36m0:00:00\u001b[0ma \u001b[36m0:00:01\u001b[0m\n",
      "\u001b[?25hDownloading ffn-1.1.0-py3-none-any.whl (26 kB)\n",
      "Downloading PyPrind-2.11.3-py2.py3-none-any.whl (8.4 kB)\n",
      "Downloading yfinance-0.2.44-py2.py3-none-any.whl (94 kB)\n",
      "\u001b[2K   \u001b[90m━━━━━━━━━━━━━━━━━━━━━━━━━━━━━━━━━━━━━━━━\u001b[0m \u001b[32m94.6/94.6 kB\u001b[0m \u001b[31m6.0 MB/s\u001b[0m eta \u001b[36m0:00:00\u001b[0m\n",
      "\u001b[?25hUsing cached html5lib-1.1-py2.py3-none-any.whl (112 kB)\n",
      "Using cached multitasking-0.0.11-py3-none-any.whl (8.5 kB)\n",
      "Building wheels for collected packages: peewee\n",
      "  Building wheel for peewee (pyproject.toml) ... \u001b[?25ldone\n",
      "\u001b[?25h  Created wheel for peewee: filename=peewee-3.17.6-py3-none-any.whl size=138891 sha256=54f2e244a0c058420e6639a9f43923ef6b3a3f8171c8f4e3ef69a8fb12c48bec\n",
      "  Stored in directory: /Users/leesangwon/Library/Caches/pip/wheels/a6/5e/0f/8319805c4115320e0d3e8fb5799b114a2e4c4a3d6c7e523b06\n",
      "Successfully built peewee\n",
      "Installing collected packages: pyprind, peewee, multitasking, html5lib, yfinance, ffn, bt\n",
      "Successfully installed bt-1.1.0 ffn-1.1.0 html5lib-1.1 multitasking-0.0.11 peewee-3.17.6 pyprind-2.11.3 yfinance-0.2.44\n"
     ]
    }
   ],
   "source": [
    "!pip install bt"
   ]
  },
  {
   "cell_type": "code",
   "execution_count": 93,
   "metadata": {},
   "outputs": [],
   "source": [
    "import bt #백테스팅\n",
    "import yfinance as yf #주가크롤링\n",
    "\n",
    "import pandas as pd"
   ]
  },
  {
   "cell_type": "code",
   "execution_count": 133,
   "metadata": {},
   "outputs": [
    {
     "name": "stderr",
     "output_type": "stream",
     "text": [
      "[*********************100%***********************]  12 of 12 completed\n"
     ]
    }
   ],
   "source": [
    "start = '2024-01-01'\n",
    "end = '2024-10-05'\n",
    "\n",
    "symbol = ['005930.KS', '132030.KS', '138230.KS',\n",
    "          '138910.KS', '261220.KS', '271060.KS',\n",
    "          '292560.KS', '294400.KS', '305080.KS',\n",
    "          '360200.KS', '367380.KS', '453850.KS']\n",
    "\n",
    "df = yf.download(symbol, start, end)\n",
    "df = df['Adj Close']"
   ]
  },
  {
   "cell_type": "code",
   "execution_count": 134,
   "metadata": {},
   "outputs": [
    {
     "data": {
      "text/html": [
       "<div>\n",
       "<style scoped>\n",
       "    .dataframe tbody tr th:only-of-type {\n",
       "        vertical-align: middle;\n",
       "    }\n",
       "\n",
       "    .dataframe tbody tr th {\n",
       "        vertical-align: top;\n",
       "    }\n",
       "\n",
       "    .dataframe thead th {\n",
       "        text-align: right;\n",
       "    }\n",
       "</style>\n",
       "<table border=\"1\" class=\"dataframe\">\n",
       "  <thead>\n",
       "    <tr style=\"text-align: right;\">\n",
       "      <th>Ticker</th>\n",
       "      <th>005930.KS</th>\n",
       "      <th>132030.KS</th>\n",
       "      <th>138230.KS</th>\n",
       "      <th>138910.KS</th>\n",
       "      <th>261220.KS</th>\n",
       "      <th>271060.KS</th>\n",
       "      <th>292560.KS</th>\n",
       "      <th>294400.KS</th>\n",
       "      <th>305080.KS</th>\n",
       "      <th>360200.KS</th>\n",
       "      <th>367380.KS</th>\n",
       "      <th>453850.KS</th>\n",
       "    </tr>\n",
       "    <tr>\n",
       "      <th>Date</th>\n",
       "      <th></th>\n",
       "      <th></th>\n",
       "      <th></th>\n",
       "      <th></th>\n",
       "      <th></th>\n",
       "      <th></th>\n",
       "      <th></th>\n",
       "      <th></th>\n",
       "      <th></th>\n",
       "      <th></th>\n",
       "      <th></th>\n",
       "      <th></th>\n",
       "    </tr>\n",
       "  </thead>\n",
       "  <tbody>\n",
       "    <tr>\n",
       "      <th>2024-01-02 00:00:00+00:00</th>\n",
       "      <td>78888.054688</td>\n",
       "      <td>13115.0</td>\n",
       "      <td>13900.0</td>\n",
       "      <td>6780.0</td>\n",
       "      <td>13760.0</td>\n",
       "      <td>10610.0</td>\n",
       "      <td>8815.0</td>\n",
       "      <td>45380.0</td>\n",
       "      <td>11510.0</td>\n",
       "      <td>15550.652344</td>\n",
       "      <td>16724.503906</td>\n",
       "      <td>8861.770508</td>\n",
       "    </tr>\n",
       "    <tr>\n",
       "      <th>2024-01-03 00:00:00+00:00</th>\n",
       "      <td>76311.304688</td>\n",
       "      <td>13050.0</td>\n",
       "      <td>13935.0</td>\n",
       "      <td>6735.0</td>\n",
       "      <td>13285.0</td>\n",
       "      <td>10440.0</td>\n",
       "      <td>8805.0</td>\n",
       "      <td>44150.0</td>\n",
       "      <td>11535.0</td>\n",
       "      <td>15491.260742</td>\n",
       "      <td>16490.560547</td>\n",
       "      <td>8808.327148</td>\n",
       "    </tr>\n",
       "    <tr>\n",
       "      <th>2024-01-04 00:00:00+00:00</th>\n",
       "      <td>75914.882812</td>\n",
       "      <td>12925.0</td>\n",
       "      <td>14000.0</td>\n",
       "      <td>6690.0</td>\n",
       "      <td>13855.0</td>\n",
       "      <td>10400.0</td>\n",
       "      <td>8740.0</td>\n",
       "      <td>43765.0</td>\n",
       "      <td>11610.0</td>\n",
       "      <td>15456.616211</td>\n",
       "      <td>16410.917969</td>\n",
       "      <td>8842.334961</td>\n",
       "    </tr>\n",
       "    <tr>\n",
       "      <th>2024-01-05 00:00:00+00:00</th>\n",
       "      <td>75914.882812</td>\n",
       "      <td>12905.0</td>\n",
       "      <td>14050.0</td>\n",
       "      <td>6720.0</td>\n",
       "      <td>13740.0</td>\n",
       "      <td>10435.0</td>\n",
       "      <td>8695.0</td>\n",
       "      <td>43665.0</td>\n",
       "      <td>11580.0</td>\n",
       "      <td>15446.717773</td>\n",
       "      <td>16351.190430</td>\n",
       "      <td>8686.868164</td>\n",
       "    </tr>\n",
       "    <tr>\n",
       "      <th>2024-01-08 00:00:00+00:00</th>\n",
       "      <td>75815.781250</td>\n",
       "      <td>12830.0</td>\n",
       "      <td>14060.0</td>\n",
       "      <td>6645.0</td>\n",
       "      <td>13730.0</td>\n",
       "      <td>10335.0</td>\n",
       "      <td>8740.0</td>\n",
       "      <td>43480.0</td>\n",
       "      <td>11560.0</td>\n",
       "      <td>15471.463867</td>\n",
       "      <td>16386.031250</td>\n",
       "      <td>8618.847656</td>\n",
       "    </tr>\n",
       "    <tr>\n",
       "      <th>...</th>\n",
       "      <td>...</td>\n",
       "      <td>...</td>\n",
       "      <td>...</td>\n",
       "      <td>...</td>\n",
       "      <td>...</td>\n",
       "      <td>...</td>\n",
       "      <td>...</td>\n",
       "      <td>...</td>\n",
       "      <td>...</td>\n",
       "      <td>...</td>\n",
       "      <td>...</td>\n",
       "      <td>...</td>\n",
       "    </tr>\n",
       "    <tr>\n",
       "      <th>2024-09-26 00:00:00+00:00</th>\n",
       "      <td>64700.000000</td>\n",
       "      <td>16310.0</td>\n",
       "      <td>14640.0</td>\n",
       "      <td>7765.0</td>\n",
       "      <td>13840.0</td>\n",
       "      <td>8710.0</td>\n",
       "      <td>8710.0</td>\n",
       "      <td>45335.0</td>\n",
       "      <td>12060.0</td>\n",
       "      <td>19285.000000</td>\n",
       "      <td>20550.000000</td>\n",
       "      <td>8832.000000</td>\n",
       "    </tr>\n",
       "    <tr>\n",
       "      <th>2024-09-27 00:00:00+00:00</th>\n",
       "      <td>64200.000000</td>\n",
       "      <td>16340.0</td>\n",
       "      <td>14595.0</td>\n",
       "      <td>7900.0</td>\n",
       "      <td>13835.0</td>\n",
       "      <td>8660.0</td>\n",
       "      <td>8695.0</td>\n",
       "      <td>45115.0</td>\n",
       "      <td>11965.0</td>\n",
       "      <td>19090.000000</td>\n",
       "      <td>20240.000000</td>\n",
       "      <td>8835.000000</td>\n",
       "    </tr>\n",
       "    <tr>\n",
       "      <th>2024-09-30 00:00:00+00:00</th>\n",
       "      <td>61500.000000</td>\n",
       "      <td>16290.0</td>\n",
       "      <td>14425.0</td>\n",
       "      <td>7970.0</td>\n",
       "      <td>14065.0</td>\n",
       "      <td>8735.0</td>\n",
       "      <td>8750.0</td>\n",
       "      <td>44080.0</td>\n",
       "      <td>11885.0</td>\n",
       "      <td>18905.000000</td>\n",
       "      <td>19965.000000</td>\n",
       "      <td>8865.000000</td>\n",
       "    </tr>\n",
       "    <tr>\n",
       "      <th>2024-10-02 00:00:00+00:00</th>\n",
       "      <td>61300.000000</td>\n",
       "      <td>16225.0</td>\n",
       "      <td>14595.0</td>\n",
       "      <td>7810.0</td>\n",
       "      <td>14485.0</td>\n",
       "      <td>8925.0</td>\n",
       "      <td>8740.0</td>\n",
       "      <td>43520.0</td>\n",
       "      <td>12005.0</td>\n",
       "      <td>18940.000000</td>\n",
       "      <td>19915.000000</td>\n",
       "      <td>8905.000000</td>\n",
       "    </tr>\n",
       "    <tr>\n",
       "      <th>2024-10-04 00:00:00+00:00</th>\n",
       "      <td>60600.000000</td>\n",
       "      <td>16315.0</td>\n",
       "      <td>14735.0</td>\n",
       "      <td>7760.0</td>\n",
       "      <td>15030.0</td>\n",
       "      <td>8845.0</td>\n",
       "      <td>8680.0</td>\n",
       "      <td>43620.0</td>\n",
       "      <td>12065.0</td>\n",
       "      <td>19165.000000</td>\n",
       "      <td>20225.000000</td>\n",
       "      <td>8785.000000</td>\n",
       "    </tr>\n",
       "  </tbody>\n",
       "</table>\n",
       "<p>185 rows × 12 columns</p>\n",
       "</div>"
      ],
      "text/plain": [
       "Ticker                        005930.KS  132030.KS  138230.KS  138910.KS  \\\n",
       "Date                                                                       \n",
       "2024-01-02 00:00:00+00:00  78888.054688    13115.0    13900.0     6780.0   \n",
       "2024-01-03 00:00:00+00:00  76311.304688    13050.0    13935.0     6735.0   \n",
       "2024-01-04 00:00:00+00:00  75914.882812    12925.0    14000.0     6690.0   \n",
       "2024-01-05 00:00:00+00:00  75914.882812    12905.0    14050.0     6720.0   \n",
       "2024-01-08 00:00:00+00:00  75815.781250    12830.0    14060.0     6645.0   \n",
       "...                                 ...        ...        ...        ...   \n",
       "2024-09-26 00:00:00+00:00  64700.000000    16310.0    14640.0     7765.0   \n",
       "2024-09-27 00:00:00+00:00  64200.000000    16340.0    14595.0     7900.0   \n",
       "2024-09-30 00:00:00+00:00  61500.000000    16290.0    14425.0     7970.0   \n",
       "2024-10-02 00:00:00+00:00  61300.000000    16225.0    14595.0     7810.0   \n",
       "2024-10-04 00:00:00+00:00  60600.000000    16315.0    14735.0     7760.0   \n",
       "\n",
       "Ticker                     261220.KS  271060.KS  292560.KS  294400.KS  \\\n",
       "Date                                                                    \n",
       "2024-01-02 00:00:00+00:00    13760.0    10610.0     8815.0    45380.0   \n",
       "2024-01-03 00:00:00+00:00    13285.0    10440.0     8805.0    44150.0   \n",
       "2024-01-04 00:00:00+00:00    13855.0    10400.0     8740.0    43765.0   \n",
       "2024-01-05 00:00:00+00:00    13740.0    10435.0     8695.0    43665.0   \n",
       "2024-01-08 00:00:00+00:00    13730.0    10335.0     8740.0    43480.0   \n",
       "...                              ...        ...        ...        ...   \n",
       "2024-09-26 00:00:00+00:00    13840.0     8710.0     8710.0    45335.0   \n",
       "2024-09-27 00:00:00+00:00    13835.0     8660.0     8695.0    45115.0   \n",
       "2024-09-30 00:00:00+00:00    14065.0     8735.0     8750.0    44080.0   \n",
       "2024-10-02 00:00:00+00:00    14485.0     8925.0     8740.0    43520.0   \n",
       "2024-10-04 00:00:00+00:00    15030.0     8845.0     8680.0    43620.0   \n",
       "\n",
       "Ticker                     305080.KS     360200.KS     367380.KS    453850.KS  \n",
       "Date                                                                           \n",
       "2024-01-02 00:00:00+00:00    11510.0  15550.652344  16724.503906  8861.770508  \n",
       "2024-01-03 00:00:00+00:00    11535.0  15491.260742  16490.560547  8808.327148  \n",
       "2024-01-04 00:00:00+00:00    11610.0  15456.616211  16410.917969  8842.334961  \n",
       "2024-01-05 00:00:00+00:00    11580.0  15446.717773  16351.190430  8686.868164  \n",
       "2024-01-08 00:00:00+00:00    11560.0  15471.463867  16386.031250  8618.847656  \n",
       "...                              ...           ...           ...          ...  \n",
       "2024-09-26 00:00:00+00:00    12060.0  19285.000000  20550.000000  8832.000000  \n",
       "2024-09-27 00:00:00+00:00    11965.0  19090.000000  20240.000000  8835.000000  \n",
       "2024-09-30 00:00:00+00:00    11885.0  18905.000000  19965.000000  8865.000000  \n",
       "2024-10-02 00:00:00+00:00    12005.0  18940.000000  19915.000000  8905.000000  \n",
       "2024-10-04 00:00:00+00:00    12065.0  19165.000000  20225.000000  8785.000000  \n",
       "\n",
       "[185 rows x 12 columns]"
      ]
     },
     "execution_count": 134,
     "metadata": {},
     "output_type": "execute_result"
    }
   ],
   "source": [
    "df"
   ]
  },
  {
   "cell_type": "code",
   "execution_count": 135,
   "metadata": {},
   "outputs": [
    {
     "data": {
      "text/plain": [
       "Ticker\n",
       "005930.KS    0\n",
       "132030.KS    2\n",
       "138230.KS    2\n",
       "138910.KS    2\n",
       "261220.KS    2\n",
       "271060.KS    2\n",
       "292560.KS    2\n",
       "294400.KS    2\n",
       "305080.KS    2\n",
       "360200.KS    2\n",
       "367380.KS    2\n",
       "453850.KS    2\n",
       "dtype: int64"
      ]
     },
     "execution_count": 135,
     "metadata": {},
     "output_type": "execute_result"
    }
   ],
   "source": [
    "df.isnull().sum()"
   ]
  },
  {
   "cell_type": "code",
   "execution_count": 136,
   "metadata": {},
   "outputs": [],
   "source": [
    "df = df.dropna()"
   ]
  },
  {
   "cell_type": "code",
   "execution_count": 137,
   "metadata": {},
   "outputs": [],
   "source": [
    "# 전략 설정\n",
    "strategy = bt.Strategy('Kevin_lee', [\n",
    "    bt.algos.SelectAll(),\n",
    "    bt.algos.WeighSpecified(**{\n",
    "        '005930.KS': 0.02, '132030.KS': 0.15, '138230.KS': 0.14,\n",
    "        '138910.KS': 0.04, '261220.KS': 0.04, '271060.KS': 0.03,\n",
    "        '292560.KS': 0.04, '294400.KS': 0.06, '305080.KS': 0.27,\n",
    "        '360200.KS': 0.10, '367380.KS': 0.04, '453850.KS': 0.07\n",
    "    }),\n",
    "    #bt.algos.RunQuarterly(),\n",
    "    bt.algos.Rebalance()\n",
    "])"
   ]
  },
  {
   "cell_type": "code",
   "execution_count": 138,
   "metadata": {},
   "outputs": [],
   "source": [
    "# 백테스팅 시 필요한 것 = 1.주가(수익률), 2.투자비중"
   ]
  },
  {
   "cell_type": "code",
   "execution_count": 139,
   "metadata": {},
   "outputs": [],
   "source": [
    "# 포트폴리오 생성\n",
    "backtest = bt.Backtest(strategy, df)  # 파라미터 = 전략, 주가데이터\n",
    "\n",
    "# 포트폴리오 생성 (수수료포함)\n",
    "backtest_net = bt.Backtest(strategy, df,\n",
    "                           name='strategy_net',\n",
    "                           commissions=lambda q, p: abs(q) * p * 0.003) # 파라미터 = 전략, 주가데이터, 이름, 수수료계산등.."
   ]
  },
  {
   "cell_type": "code",
   "execution_count": 140,
   "metadata": {},
   "outputs": [
    {
     "name": "stderr",
     "output_type": "stream",
     "text": [
      "100%|██████████| 2/2 [00:00<00:00, 18.04it/s]\n"
     ]
    },
    {
     "data": {
      "text/plain": [
       "{'Kevin_lee': <ffn.core.PerformanceStats at 0x164bc4dd0>,\n",
       " 'strategy_net': <ffn.core.PerformanceStats at 0x1642608f0>}"
      ]
     },
     "execution_count": 140,
     "metadata": {},
     "output_type": "execute_result"
    }
   ],
   "source": [
    "# 백테스트 실행\n",
    "result = bt.run(backtest, backtest_net) # 두종류 이상의 포트폴리오 넣을 수 있음\n",
    "result"
   ]
  },
  {
   "cell_type": "code",
   "execution_count": 141,
   "metadata": {},
   "outputs": [
    {
     "data": {
      "text/html": [
       "<div>\n",
       "<style scoped>\n",
       "    .dataframe tbody tr th:only-of-type {\n",
       "        vertical-align: middle;\n",
       "    }\n",
       "\n",
       "    .dataframe tbody tr th {\n",
       "        vertical-align: top;\n",
       "    }\n",
       "\n",
       "    .dataframe thead th {\n",
       "        text-align: right;\n",
       "    }\n",
       "</style>\n",
       "<table border=\"1\" class=\"dataframe\">\n",
       "  <thead>\n",
       "    <tr style=\"text-align: right;\">\n",
       "      <th></th>\n",
       "      <th>Kevin_lee</th>\n",
       "      <th>strategy_net</th>\n",
       "    </tr>\n",
       "  </thead>\n",
       "  <tbody>\n",
       "    <tr>\n",
       "      <th>2024-01-01 00:00:00+00:00</th>\n",
       "      <td>100.000000</td>\n",
       "      <td>100.000000</td>\n",
       "    </tr>\n",
       "    <tr>\n",
       "      <th>2024-01-02 00:00:00+00:00</th>\n",
       "      <td>100.000000</td>\n",
       "      <td>99.729982</td>\n",
       "    </tr>\n",
       "    <tr>\n",
       "      <th>2024-01-03 00:00:00+00:00</th>\n",
       "      <td>99.622666</td>\n",
       "      <td>99.348467</td>\n",
       "    </tr>\n",
       "    <tr>\n",
       "      <th>2024-01-04 00:00:00+00:00</th>\n",
       "      <td>99.728756</td>\n",
       "      <td>99.448058</td>\n",
       "    </tr>\n",
       "    <tr>\n",
       "      <th>2024-01-05 00:00:00+00:00</th>\n",
       "      <td>99.527045</td>\n",
       "      <td>99.246346</td>\n",
       "    </tr>\n",
       "    <tr>\n",
       "      <th>...</th>\n",
       "      <td>...</td>\n",
       "      <td>...</td>\n",
       "    </tr>\n",
       "    <tr>\n",
       "      <th>2024-09-26 00:00:00+00:00</th>\n",
       "      <td>108.578898</td>\n",
       "      <td>107.867209</td>\n",
       "    </tr>\n",
       "    <tr>\n",
       "      <th>2024-09-27 00:00:00+00:00</th>\n",
       "      <td>108.198798</td>\n",
       "      <td>107.487109</td>\n",
       "    </tr>\n",
       "    <tr>\n",
       "      <th>2024-09-30 00:00:00+00:00</th>\n",
       "      <td>107.713298</td>\n",
       "      <td>107.001609</td>\n",
       "    </tr>\n",
       "    <tr>\n",
       "      <th>2024-10-02 00:00:00+00:00</th>\n",
       "      <td>108.195298</td>\n",
       "      <td>107.479264</td>\n",
       "    </tr>\n",
       "    <tr>\n",
       "      <th>2024-10-04 00:00:00+00:00</th>\n",
       "      <td>108.693798</td>\n",
       "      <td>107.968764</td>\n",
       "    </tr>\n",
       "  </tbody>\n",
       "</table>\n",
       "<p>184 rows × 2 columns</p>\n",
       "</div>"
      ],
      "text/plain": [
       "                            Kevin_lee  strategy_net\n",
       "2024-01-01 00:00:00+00:00  100.000000    100.000000\n",
       "2024-01-02 00:00:00+00:00  100.000000     99.729982\n",
       "2024-01-03 00:00:00+00:00   99.622666     99.348467\n",
       "2024-01-04 00:00:00+00:00   99.728756     99.448058\n",
       "2024-01-05 00:00:00+00:00   99.527045     99.246346\n",
       "...                               ...           ...\n",
       "2024-09-26 00:00:00+00:00  108.578898    107.867209\n",
       "2024-09-27 00:00:00+00:00  108.198798    107.487109\n",
       "2024-09-30 00:00:00+00:00  107.713298    107.001609\n",
       "2024-10-02 00:00:00+00:00  108.195298    107.479264\n",
       "2024-10-04 00:00:00+00:00  108.693798    107.968764\n",
       "\n",
       "[184 rows x 2 columns]"
      ]
     },
     "execution_count": 141,
     "metadata": {},
     "output_type": "execute_result"
    }
   ],
   "source": [
    "# 결과에 대한 평가\n",
    "result.prices #-> 시작시점:100\n"
   ]
  },
  {
   "cell_type": "code",
   "execution_count": 142,
   "metadata": {},
   "outputs": [
    {
     "data": {
      "text/html": [
       "<div>\n",
       "<style scoped>\n",
       "    .dataframe tbody tr th:only-of-type {\n",
       "        vertical-align: middle;\n",
       "    }\n",
       "\n",
       "    .dataframe tbody tr th {\n",
       "        vertical-align: top;\n",
       "    }\n",
       "\n",
       "    .dataframe thead th {\n",
       "        text-align: right;\n",
       "    }\n",
       "</style>\n",
       "<table border=\"1\" class=\"dataframe\">\n",
       "  <thead>\n",
       "    <tr style=\"text-align: right;\">\n",
       "      <th></th>\n",
       "      <th>Kevin_lee</th>\n",
       "      <th>strategy_net</th>\n",
       "    </tr>\n",
       "  </thead>\n",
       "  <tbody>\n",
       "    <tr>\n",
       "      <th>2024-01-01 00:00:00+00:00</th>\n",
       "      <td>NaN</td>\n",
       "      <td>NaN</td>\n",
       "    </tr>\n",
       "    <tr>\n",
       "      <th>2024-01-02 00:00:00+00:00</th>\n",
       "      <td>0.000000</td>\n",
       "      <td>-0.002700</td>\n",
       "    </tr>\n",
       "    <tr>\n",
       "      <th>2024-01-03 00:00:00+00:00</th>\n",
       "      <td>-0.003773</td>\n",
       "      <td>-0.003825</td>\n",
       "    </tr>\n",
       "    <tr>\n",
       "      <th>2024-01-04 00:00:00+00:00</th>\n",
       "      <td>0.001065</td>\n",
       "      <td>0.001002</td>\n",
       "    </tr>\n",
       "    <tr>\n",
       "      <th>2024-01-05 00:00:00+00:00</th>\n",
       "      <td>-0.002023</td>\n",
       "      <td>-0.002028</td>\n",
       "    </tr>\n",
       "    <tr>\n",
       "      <th>...</th>\n",
       "      <td>...</td>\n",
       "      <td>...</td>\n",
       "    </tr>\n",
       "    <tr>\n",
       "      <th>2024-09-26 00:00:00+00:00</th>\n",
       "      <td>-0.000817</td>\n",
       "      <td>-0.000884</td>\n",
       "    </tr>\n",
       "    <tr>\n",
       "      <th>2024-09-27 00:00:00+00:00</th>\n",
       "      <td>-0.003501</td>\n",
       "      <td>-0.003524</td>\n",
       "    </tr>\n",
       "    <tr>\n",
       "      <th>2024-09-30 00:00:00+00:00</th>\n",
       "      <td>-0.004487</td>\n",
       "      <td>-0.004517</td>\n",
       "    </tr>\n",
       "    <tr>\n",
       "      <th>2024-10-02 00:00:00+00:00</th>\n",
       "      <td>0.004475</td>\n",
       "      <td>0.004464</td>\n",
       "    </tr>\n",
       "    <tr>\n",
       "      <th>2024-10-04 00:00:00+00:00</th>\n",
       "      <td>0.004607</td>\n",
       "      <td>0.004554</td>\n",
       "    </tr>\n",
       "  </tbody>\n",
       "</table>\n",
       "<p>184 rows × 2 columns</p>\n",
       "</div>"
      ],
      "text/plain": [
       "                           Kevin_lee  strategy_net\n",
       "2024-01-01 00:00:00+00:00        NaN           NaN\n",
       "2024-01-02 00:00:00+00:00   0.000000     -0.002700\n",
       "2024-01-03 00:00:00+00:00  -0.003773     -0.003825\n",
       "2024-01-04 00:00:00+00:00   0.001065      0.001002\n",
       "2024-01-05 00:00:00+00:00  -0.002023     -0.002028\n",
       "...                              ...           ...\n",
       "2024-09-26 00:00:00+00:00  -0.000817     -0.000884\n",
       "2024-09-27 00:00:00+00:00  -0.003501     -0.003524\n",
       "2024-09-30 00:00:00+00:00  -0.004487     -0.004517\n",
       "2024-10-02 00:00:00+00:00   0.004475      0.004464\n",
       "2024-10-04 00:00:00+00:00   0.004607      0.004554\n",
       "\n",
       "[184 rows x 2 columns]"
      ]
     },
     "execution_count": 142,
     "metadata": {},
     "output_type": "execute_result"
    }
   ],
   "source": [
    "# 결과에 대한 평가\n",
    "result.prices.to_returns() #-> 수익률 환산"
   ]
  },
  {
   "cell_type": "code",
   "execution_count": 143,
   "metadata": {},
   "outputs": [
    {
     "data": {
      "text/plain": [
       "<Axes: title={'center': 'Equity Progression'}>"
      ]
     },
     "execution_count": 143,
     "metadata": {},
     "output_type": "execute_result"
    },
    {
     "data": {
      "image/png": "[encoded data removed]",
      "text/plain": [
       "<Figure size 1500x500 with 1 Axes>"
      ]
     },
     "metadata": {},
     "output_type": "display_data"
    }
   ],
   "source": [
    "result.plot()"
   ]
  },
  {
   "cell_type": "code",
   "execution_count": 144,
   "metadata": {},
   "outputs": [
    {
     "data": {
      "text/html": [
       "<div>\n",
       "<style scoped>\n",
       "    .dataframe tbody tr th:only-of-type {\n",
       "        vertical-align: middle;\n",
       "    }\n",
       "\n",
       "    .dataframe tbody tr th {\n",
       "        vertical-align: top;\n",
       "    }\n",
       "\n",
       "    .dataframe thead th {\n",
       "        text-align: right;\n",
       "    }\n",
       "</style>\n",
       "<table border=\"1\" class=\"dataframe\">\n",
       "  <thead>\n",
       "    <tr style=\"text-align: right;\">\n",
       "      <th></th>\n",
       "      <th>005930.KS</th>\n",
       "      <th>132030.KS</th>\n",
       "      <th>138230.KS</th>\n",
       "      <th>138910.KS</th>\n",
       "      <th>261220.KS</th>\n",
       "      <th>271060.KS</th>\n",
       "      <th>292560.KS</th>\n",
       "      <th>294400.KS</th>\n",
       "      <th>305080.KS</th>\n",
       "      <th>360200.KS</th>\n",
       "      <th>367380.KS</th>\n",
       "      <th>453850.KS</th>\n",
       "    </tr>\n",
       "  </thead>\n",
       "  <tbody>\n",
       "    <tr>\n",
       "      <th>2024-01-01 00:00:00+00:00</th>\n",
       "      <td>0.0</td>\n",
       "      <td>0.000000</td>\n",
       "      <td>0.000</td>\n",
       "      <td>0.0000</td>\n",
       "      <td>0.00000</td>\n",
       "      <td>0.00000</td>\n",
       "      <td>0.00000</td>\n",
       "      <td>0.00000</td>\n",
       "      <td>0.00000</td>\n",
       "      <td>0.000000</td>\n",
       "      <td>0.000000</td>\n",
       "      <td>0.000000</td>\n",
       "    </tr>\n",
       "    <tr>\n",
       "      <th>2024-01-02 00:00:00+00:00</th>\n",
       "      <td>0.0</td>\n",
       "      <td>0.144265</td>\n",
       "      <td>0.139</td>\n",
       "      <td>0.0339</td>\n",
       "      <td>0.02752</td>\n",
       "      <td>0.02122</td>\n",
       "      <td>0.03526</td>\n",
       "      <td>0.04538</td>\n",
       "      <td>0.26473</td>\n",
       "      <td>0.093304</td>\n",
       "      <td>0.033449</td>\n",
       "      <td>0.062032</td>\n",
       "    </tr>\n",
       "  </tbody>\n",
       "</table>\n",
       "</div>"
      ],
      "text/plain": [
       "                           005930.KS  132030.KS  138230.KS  138910.KS  \\\n",
       "2024-01-01 00:00:00+00:00        0.0   0.000000      0.000     0.0000   \n",
       "2024-01-02 00:00:00+00:00        0.0   0.144265      0.139     0.0339   \n",
       "\n",
       "                           261220.KS  271060.KS  292560.KS  294400.KS  \\\n",
       "2024-01-01 00:00:00+00:00    0.00000    0.00000    0.00000    0.00000   \n",
       "2024-01-02 00:00:00+00:00    0.02752    0.02122    0.03526    0.04538   \n",
       "\n",
       "                           305080.KS  360200.KS  367380.KS  453850.KS  \n",
       "2024-01-01 00:00:00+00:00    0.00000   0.000000   0.000000   0.000000  \n",
       "2024-01-02 00:00:00+00:00    0.26473   0.093304   0.033449   0.062032  "
      ]
     },
     "execution_count": 144,
     "metadata": {},
     "output_type": "execute_result"
    }
   ],
   "source": [
    "wt = result.get_security_weights() # 비중변화 시각화\n",
    "wt.head(2)"
   ]
  },
  {
   "cell_type": "code",
   "execution_count": 145,
   "metadata": {},
   "outputs": [
    {
     "data": {
      "text/plain": [
       "<Axes: >"
      ]
     },
     "execution_count": 145,
     "metadata": {},
     "output_type": "execute_result"
    },
    {
     "data": {
      "image/png": "[encoded data removed]",
      "text/plain": [
       "<Figure size 640x480 with 1 Axes>"
      ]
     },
     "metadata": {},
     "output_type": "display_data"
    }
   ],
   "source": [
    "wt.plot.area()"
   ]
  },
  {
   "cell_type": "code",
   "execution_count": 147,
   "metadata": {},
   "outputs": [
    {
     "ename": "AttributeError",
     "evalue": "'Result' object has no attribute 'to_drawdown_series'",
     "output_type": "error",
     "traceback": [
      "\u001b[0;31m---------------------------------------------------------------------------\u001b[0m",
      "\u001b[0;31mAttributeError\u001b[0m                            Traceback (most recent call last)",
      "Cell \u001b[0;32mIn[147], line 1\u001b[0m\n\u001b[0;32m----> 1\u001b[0m result\u001b[38;5;241m.\u001b[39mto_drawdown_series()\n",
      "\u001b[0;31mAttributeError\u001b[0m: 'Result' object has no attribute 'to_drawdown_series'"
     ]
    }
   ],
   "source": [
    "result.to_drawdown_series()"
   ]
  },
  {
   "cell_type": "code",
   "execution_count": null,
   "metadata": {},
   "outputs": [],
   "source": [
    "\n"
   ]
  },
  {
   "cell_type": "code",
   "execution_count": null,
   "metadata": {},
   "outputs": [],
   "source": []
  },
  {
   "cell_type": "code",
   "execution_count": 132,
   "metadata": {},
   "outputs": [
    {
     "name": "stdout",
     "output_type": "stream",
     "text": [
      "Stat                 Kevin_lee\n",
      "-------------------  -----------\n",
      "Start                2024-01-01\n",
      "End                  2024-10-04\n",
      "Risk-free rate       0.00%\n",
      "\n",
      "Total Return         8.69%\n",
      "Daily Sharpe         2.63\n",
      "Daily Sortino        4.56\n",
      "CAGR                 11.62%\n",
      "Max Drawdown         -2.04%\n",
      "Calmar Ratio         5.69\n",
      "\n",
      "MTD                  0.91%\n",
      "3m                   1.24%\n",
      "6m                   4.30%\n",
      "YTD                  8.69%\n",
      "1Y                   -\n",
      "3Y (ann.)            -\n",
      "5Y (ann.)            -\n",
      "10Y (ann.)           -\n",
      "Since Incep. (ann.)  11.62%\n",
      "\n",
      "Daily Sharpe         2.63\n",
      "Daily Sortino        4.56\n",
      "Daily Mean (ann.)    11.58%\n",
      "Daily Vol (ann.)     4.40%\n",
      "Daily Skew           -0.30\n",
      "Daily Kurt           0.35\n",
      "Best Day             0.79%\n",
      "Worst Day            -0.68%\n",
      "\n",
      "Monthly Sharpe       2.70\n",
      "Monthly Sortino      28.47\n",
      "Monthly Mean (ann.)  10.00%\n",
      "Monthly Vol (ann.)   3.70%\n",
      "Monthly Skew         1.98\n",
      "Monthly Kurt         5.12\n",
      "Best Month           3.42%\n",
      "Worst Month          -0.31%\n",
      "\n",
      "Yearly Sharpe        -\n",
      "Yearly Sortino       -\n",
      "Yearly Mean          -\n",
      "Yearly Vol           -\n",
      "Yearly Skew          -\n",
      "Yearly Kurt          -\n",
      "Best Year            -\n",
      "Worst Year           -\n",
      "\n",
      "Avg. Drawdown        -0.54%\n",
      "Avg. Drawdown Days   12.00\n",
      "Avg. Up Month        1.12%\n",
      "Avg. Down Month      -0.16%\n",
      "Win Year %           -\n",
      "Win 12m %            -\n"
     ]
    }
   ],
   "source": [
    "result.display()"
   ]
  },
  {
   "cell_type": "code",
   "execution_count": null,
   "metadata": {},
   "outputs": [],
   "source": []
  },
  {
   "cell_type": "code",
   "execution_count": null,
   "metadata": {},
   "outputs": [],
   "source": []
  },
  {
   "cell_type": "code",
   "execution_count": null,
   "metadata": {},
   "outputs": [],
   "source": []
  },
  {
   "cell_type": "code",
   "execution_count": null,
   "metadata": {},
   "outputs": [],
   "source": []
  },
  {
   "cell_type": "code",
   "execution_count": null,
   "metadata": {},
   "outputs": [],
   "source": []
  },
  {
   "cell_type": "code",
   "execution_count": null,
   "metadata": {},
   "outputs": [],
   "source": []
  },
  {
   "cell_type": "code",
   "execution_count": null,
   "metadata": {},
   "outputs": [],
   "source": []
  },
  {
   "cell_type": "code",
   "execution_count": null,
   "metadata": {},
   "outputs": [],
   "source": []
  },
  {
   "cell_type": "code",
   "execution_count": null,
   "metadata": {},
   "outputs": [],
   "source": []
  },
  {
   "cell_type": "code",
   "execution_count": null,
   "metadata": {},
   "outputs": [],
   "source": []
  },
  {
   "cell_type": "code",
   "execution_count": null,
   "metadata": {},
   "outputs": [],
   "source": []
  },
  {
   "cell_type": "code",
   "execution_count": null,
   "metadata": {},
   "outputs": [],
   "source": []
  },
  {
   "cell_type": "code",
   "execution_count": null,
   "metadata": {},
   "outputs": [],
   "source": []
  },
  {
   "cell_type": "code",
   "execution_count": null,
   "metadata": {},
   "outputs": [],
   "source": []
  },
  {
   "cell_type": "code",
   "execution_count": null,
   "metadata": {},
   "outputs": [],
   "source": []
  },
  {
   "cell_type": "code",
   "execution_count": null,
   "metadata": {},
   "outputs": [],
   "source": []
  },
  {
   "cell_type": "code",
   "execution_count": null,
   "metadata": {},
   "outputs": [],
   "source": []
  },
  {
   "cell_type": "code",
   "execution_count": null,
   "metadata": {},
   "outputs": [],
   "source": []
  },
  {
   "cell_type": "code",
   "execution_count": null,
   "metadata": {},
   "outputs": [],
   "source": []
  },
  {
   "cell_type": "code",
   "execution_count": null,
   "metadata": {},
   "outputs": [],
   "source": []
  },
  {
   "cell_type": "code",
   "execution_count": null,
   "metadata": {},
   "outputs": [],
   "source": []
  },
  {
   "cell_type": "code",
   "execution_count": null,
   "metadata": {},
   "outputs": [],
   "source": []
  },
  {
   "cell_type": "code",
   "execution_count": null,
   "metadata": {},
   "outputs": [],
   "source": []
  },
  {
   "cell_type": "code",
   "execution_count": null,
   "metadata": {},
   "outputs": [],
   "source": []
  }
 ],
 "metadata": {
  "kernelspec": {
   "display_name": "base",
   "language": "python",
   "name": "python3"
  },
  "language_info": {
   "codemirror_mode": {
    "name": "ipython",
    "version": 3
   },
   "file_extension": ".py",
   "mimetype": "text/x-python",
   "name": "python",
   "nbconvert_exporter": "python",
   "pygments_lexer": "ipython3",
   "version": "3.12.4"
  }
 },
 "nbformat": 4,
 "nbformat_minor": 2
}
