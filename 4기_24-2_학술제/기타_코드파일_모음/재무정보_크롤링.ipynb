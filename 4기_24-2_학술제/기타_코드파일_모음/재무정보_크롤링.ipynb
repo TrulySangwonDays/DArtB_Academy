{
 "cells": [
  {
   "cell_type": "code",
   "execution_count": 9,
   "metadata": {},
   "outputs": [
    {
     "ename": "NoSuchElementException",
     "evalue": "Message: no such element: Unable to locate element: {\"method\":\"css selector\",\"selector\":\"[id=\"tboxisuCd_finder_stkisu_3\"]\"}\n  (Session info: chrome=131.0.6778.71); For documentation on this error, please visit: https://www.selenium.dev/documentation/webdriver/troubleshooting/errors#no-such-element-exception\nStacktrace:\n0   chromedriver                        0x0000000102b415dc cxxbridge1$str$ptr + 3653648\n1   chromedriver                        0x0000000102b39e3c cxxbridge1$str$ptr + 3623024\n2   chromedriver                        0x00000001025a4100 cxxbridge1$string$len + 88404\n3   chromedriver                        0x00000001025e641c cxxbridge1$string$len + 359536\n4   chromedriver                        0x000000010261fba8 cxxbridge1$string$len + 594940\n5   chromedriver                        0x00000001025db0fc cxxbridge1$string$len + 313680\n6   chromedriver                        0x00000001025dbd4c cxxbridge1$string$len + 316832\n7   chromedriver                        0x0000000102b0c64c cxxbridge1$str$ptr + 3436672\n8   chromedriver                        0x0000000102b0f988 cxxbridge1$str$ptr + 3449788\n9   chromedriver                        0x0000000102af3a5c cxxbridge1$str$ptr + 3335312\n10  chromedriver                        0x0000000102b1024c cxxbridge1$str$ptr + 3452032\n11  chromedriver                        0x0000000102ae4ce8 cxxbridge1$str$ptr + 3274524\n12  chromedriver                        0x0000000102b2a9dc cxxbridge1$str$ptr + 3560464\n13  chromedriver                        0x0000000102b2ab58 cxxbridge1$str$ptr + 3560844\n14  chromedriver                        0x0000000102b39ad4 cxxbridge1$str$ptr + 3622152\n15  libsystem_pthread.dylib             0x00000001875932e4 _pthread_start + 136\n16  libsystem_pthread.dylib             0x000000018758e0fc thread_start + 8\n",
     "output_type": "error",
     "traceback": [
      "\u001b[0;31m---------------------------------------------------------------------------\u001b[0m",
      "\u001b[0;31mNoSuchElementException\u001b[0m                    Traceback (most recent call last)",
      "Cell \u001b[0;32mIn[9], line 27\u001b[0m\n\u001b[1;32m     25\u001b[0m \u001b[38;5;66;03m# 종목 검색\u001b[39;00m\n\u001b[1;32m     26\u001b[0m stock_code \u001b[38;5;241m=\u001b[39m \u001b[38;5;124m\"\u001b[39m\u001b[38;5;124m005930\u001b[39m\u001b[38;5;124m\"\u001b[39m  \u001b[38;5;66;03m# 삼성전자 종목 코드\u001b[39;00m\n\u001b[0;32m---> 27\u001b[0m search_input \u001b[38;5;241m=\u001b[39m driver\u001b[38;5;241m.\u001b[39mfind_element(By\u001b[38;5;241m.\u001b[39mID, \u001b[38;5;124m\"\u001b[39m\u001b[38;5;124mtboxisuCd_finder_stkisu_3\u001b[39m\u001b[38;5;124m\"\u001b[39m)  \u001b[38;5;66;03m# 검색창 ID\u001b[39;00m\n\u001b[1;32m     28\u001b[0m search_input\u001b[38;5;241m.\u001b[39mclear()  \u001b[38;5;66;03m# 기존 텍스트 삭제\u001b[39;00m\n\u001b[1;32m     29\u001b[0m search_input\u001b[38;5;241m.\u001b[39msend_keys(stock_code)  \u001b[38;5;66;03m# 종목 코드 입력\u001b[39;00m\n",
      "File \u001b[0;32m/opt/anaconda3/lib/python3.12/site-packages/selenium/webdriver/remote/webdriver.py:766\u001b[0m, in \u001b[0;36mWebDriver.find_element\u001b[0;34m(self, by, value)\u001b[0m\n\u001b[1;32m    763\u001b[0m         \u001b[38;5;28;01mraise\u001b[39;00m NoSuchElementException(\u001b[38;5;124mf\u001b[39m\u001b[38;5;124m\"\u001b[39m\u001b[38;5;124mCannot locate relative element with: \u001b[39m\u001b[38;5;132;01m{\u001b[39;00mby\u001b[38;5;241m.\u001b[39mroot\u001b[38;5;132;01m}\u001b[39;00m\u001b[38;5;124m\"\u001b[39m)\n\u001b[1;32m    764\u001b[0m     \u001b[38;5;28;01mreturn\u001b[39;00m elements[\u001b[38;5;241m0\u001b[39m]\n\u001b[0;32m--> 766\u001b[0m \u001b[38;5;28;01mreturn\u001b[39;00m \u001b[38;5;28mself\u001b[39m\u001b[38;5;241m.\u001b[39mexecute(Command\u001b[38;5;241m.\u001b[39mFIND_ELEMENT, {\u001b[38;5;124m\"\u001b[39m\u001b[38;5;124musing\u001b[39m\u001b[38;5;124m\"\u001b[39m: by, \u001b[38;5;124m\"\u001b[39m\u001b[38;5;124mvalue\u001b[39m\u001b[38;5;124m\"\u001b[39m: value})[\u001b[38;5;124m\"\u001b[39m\u001b[38;5;124mvalue\u001b[39m\u001b[38;5;124m\"\u001b[39m]\n",
      "File \u001b[0;32m/opt/anaconda3/lib/python3.12/site-packages/selenium/webdriver/remote/webdriver.py:380\u001b[0m, in \u001b[0;36mWebDriver.execute\u001b[0;34m(self, driver_command, params)\u001b[0m\n\u001b[1;32m    378\u001b[0m response \u001b[38;5;241m=\u001b[39m \u001b[38;5;28mself\u001b[39m\u001b[38;5;241m.\u001b[39mcommand_executor\u001b[38;5;241m.\u001b[39mexecute(driver_command, params)\n\u001b[1;32m    379\u001b[0m \u001b[38;5;28;01mif\u001b[39;00m response:\n\u001b[0;32m--> 380\u001b[0m     \u001b[38;5;28mself\u001b[39m\u001b[38;5;241m.\u001b[39merror_handler\u001b[38;5;241m.\u001b[39mcheck_response(response)\n\u001b[1;32m    381\u001b[0m     response[\u001b[38;5;124m\"\u001b[39m\u001b[38;5;124mvalue\u001b[39m\u001b[38;5;124m\"\u001b[39m] \u001b[38;5;241m=\u001b[39m \u001b[38;5;28mself\u001b[39m\u001b[38;5;241m.\u001b[39m_unwrap_value(response\u001b[38;5;241m.\u001b[39mget(\u001b[38;5;124m\"\u001b[39m\u001b[38;5;124mvalue\u001b[39m\u001b[38;5;124m\"\u001b[39m, \u001b[38;5;28;01mNone\u001b[39;00m))\n\u001b[1;32m    382\u001b[0m     \u001b[38;5;28;01mreturn\u001b[39;00m response\n",
      "File \u001b[0;32m/opt/anaconda3/lib/python3.12/site-packages/selenium/webdriver/remote/errorhandler.py:229\u001b[0m, in \u001b[0;36mErrorHandler.check_response\u001b[0;34m(self, response)\u001b[0m\n\u001b[1;32m    227\u001b[0m         alert_text \u001b[38;5;241m=\u001b[39m value[\u001b[38;5;124m\"\u001b[39m\u001b[38;5;124malert\u001b[39m\u001b[38;5;124m\"\u001b[39m]\u001b[38;5;241m.\u001b[39mget(\u001b[38;5;124m\"\u001b[39m\u001b[38;5;124mtext\u001b[39m\u001b[38;5;124m\"\u001b[39m)\n\u001b[1;32m    228\u001b[0m     \u001b[38;5;28;01mraise\u001b[39;00m exception_class(message, screen, stacktrace, alert_text)  \u001b[38;5;66;03m# type: ignore[call-arg]  # mypy is not smart enough here\u001b[39;00m\n\u001b[0;32m--> 229\u001b[0m \u001b[38;5;28;01mraise\u001b[39;00m exception_class(message, screen, stacktrace)\n",
      "\u001b[0;31mNoSuchElementException\u001b[0m: Message: no such element: Unable to locate element: {\"method\":\"css selector\",\"selector\":\"[id=\"tboxisuCd_finder_stkisu_3\"]\"}\n  (Session info: chrome=131.0.6778.71); For documentation on this error, please visit: https://www.selenium.dev/documentation/webdriver/troubleshooting/errors#no-such-element-exception\nStacktrace:\n0   chromedriver                        0x0000000102b415dc cxxbridge1$str$ptr + 3653648\n1   chromedriver                        0x0000000102b39e3c cxxbridge1$str$ptr + 3623024\n2   chromedriver                        0x00000001025a4100 cxxbridge1$string$len + 88404\n3   chromedriver                        0x00000001025e641c cxxbridge1$string$len + 359536\n4   chromedriver                        0x000000010261fba8 cxxbridge1$string$len + 594940\n5   chromedriver                        0x00000001025db0fc cxxbridge1$string$len + 313680\n6   chromedriver                        0x00000001025dbd4c cxxbridge1$string$len + 316832\n7   chromedriver                        0x0000000102b0c64c cxxbridge1$str$ptr + 3436672\n8   chromedriver                        0x0000000102b0f988 cxxbridge1$str$ptr + 3449788\n9   chromedriver                        0x0000000102af3a5c cxxbridge1$str$ptr + 3335312\n10  chromedriver                        0x0000000102b1024c cxxbridge1$str$ptr + 3452032\n11  chromedriver                        0x0000000102ae4ce8 cxxbridge1$str$ptr + 3274524\n12  chromedriver                        0x0000000102b2a9dc cxxbridge1$str$ptr + 3560464\n13  chromedriver                        0x0000000102b2ab58 cxxbridge1$str$ptr + 3560844\n14  chromedriver                        0x0000000102b39ad4 cxxbridge1$str$ptr + 3622152\n15  libsystem_pthread.dylib             0x00000001875932e4 _pthread_start + 136\n16  libsystem_pthread.dylib             0x000000018758e0fc thread_start + 8\n"
     ]
    }
   ],
   "source": [
    "from selenium import webdriver\n",
    "from selenium.webdriver.chrome.service import Service\n",
    "from selenium.webdriver.common.by import By\n",
    "from selenium.webdriver.common.keys import Keys\n",
    "from bs4 import BeautifulSoup\n",
    "import time\n",
    "\n",
    "# ChromeDriver 경로 설정\n",
    "driver_path = \"/Users/leesangwon/Desktop/chromedriver-mac-arm64/chromedriver\"\n",
    "service = Service(driver_path)\n",
    "\n",
    "# 웹드라이버 초기화\n",
    "options = webdriver.ChromeOptions()\n",
    "options.add_argument(\"--disable-gpu\")\n",
    "options.add_argument(\"--window-size=1920x1080\")\n",
    "driver = webdriver.Chrome(service=service, options=options)\n",
    "\n",
    "# URL 접속\n",
    "url = \"http://data.krx.co.kr/contents/MDC/MDI/mdiLoader/index.cmd?menuId=MDC0201020101\"\n",
    "driver.get(url)\n",
    "\n",
    "# 페이지 로드 대기\n",
    "time.sleep(3)  # 페이지 로드 완료 대기\n",
    "\n",
    "# 종목 검색\n",
    "stock_code = \"005930\"  # 삼성전자 종목 코드\n",
    "search_input = driver.find_element(By.ID, \"tboxisuCd_finder_stkisu_3\")  # 검색창 ID\n",
    "search_input.clear()  # 기존 텍스트 삭제\n",
    "search_input.send_keys(stock_code)  # 종목 코드 입력\n",
    "time.sleep(1)  # 입력 후 대기\n",
    "search_button = driver.find_element(By.ID, \"jsSearchButton\")  # 검색 버튼 ID\n",
    "search_button.click()  # 검색 버튼 클릭\n",
    "\n",
    "# 검색 후 페이지 로드 대기\n",
    "time.sleep(3)\n",
    "\n",
    "# 페이지 소스 가져오기\n",
    "html = driver.page_source\n",
    "soup = BeautifulSoup(html, \"html.parser\")\n",
    "\n",
    "# 데이터 추출\n",
    "data = {}\n",
    "\n",
    "try:\n",
    "    # 자산총계\n",
    "    asset_total_elem = soup.find(\"span\", {\"data-bind\": \"ASST_TOTAMT\"})\n",
    "    data[\"자산총계\"] = asset_total_elem.text.strip() if asset_total_elem else \"데이터 없음\"\n",
    "\n",
    "    # 매출액\n",
    "    sales_elem = soup.find(\"span\", {\"data-bind\": \"SALES_TOTAMT\"})\n",
    "    data[\"매출액\"] = sales_elem.text.strip() if sales_elem else \"데이터 없음\"\n",
    "\n",
    "    # 부채총계\n",
    "    debt_total_elem = soup.find(\"span\", {\"data-bind\": \"DEBT_TOTAMT\"})\n",
    "    data[\"부채총계\"] = debt_total_elem.text.strip() if debt_total_elem else \"데이터 없음\"\n",
    "\n",
    "    # 영업이익\n",
    "    operating_income_elem = soup.find(\"span\", {\"data-bind\": \"OPERPROFIT_AMT\"})\n",
    "    data[\"영업이익\"] = operating_income_elem.text.strip() if operating_income_elem else \"데이터 없음\"\n",
    "\n",
    "    # 자본금\n",
    "    capital_elem = soup.find(\"span\", {\"data-bind\": \"CAP_GRNDTOT\"})\n",
    "    data[\"자본금\"] = capital_elem.text.strip() if capital_elem else \"데이터 없음\"\n",
    "\n",
    "    # 당기순이익\n",
    "    net_income_elem = soup.find(\"span\", {\"data-bind\": \"NETINC_AMT\"})\n",
    "    data[\"당기순이익\"] = net_income_elem.text.strip() if net_income_elem else \"데이터 없음\"\n",
    "\n",
    "    # 자본총계\n",
    "    total_cap_elem = soup.find(\"span\", {\"data-bind\": \"CAP_GRNDTOT\"})\n",
    "    data[\"자본총계\"] = total_cap_elem.text.strip() if total_cap_elem else \"데이터 없음\"\n",
    "\n",
    "except Exception as e:\n",
    "    print(\"데이터 추출 중 오류 발생:\", e)\n",
    "\n",
    "# 출력\n",
    "print(data)\n",
    "\n",
    "# 드라이버 종료\n",
    "driver.quit()"
   ]
  },
  {
   "cell_type": "code",
   "execution_count": 7,
   "metadata": {},
   "outputs": [
    {
     "data": {
      "text/plain": [
       "{'자산총계': '데이터 없음',\n",
       " '매출액': '데이터 없음',\n",
       " '부채총계': '데이터 없음',\n",
       " '영업이익': '데이터 없음',\n",
       " '자본금': '데이터 없음',\n",
       " '당기순이익': '데이터 없음',\n",
       " '자본총계': '데이터 없음'}"
      ]
     },
     "execution_count": 7,
     "metadata": {},
     "output_type": "execute_result"
    }
   ],
   "source": [
    "data"
   ]
  },
  {
   "cell_type": "code",
   "execution_count": null,
   "metadata": {},
   "outputs": [],
   "source": []
  },
  {
   "cell_type": "code",
   "execution_count": null,
   "metadata": {},
   "outputs": [],
   "source": []
  },
  {
   "cell_type": "code",
   "execution_count": 10,
   "metadata": {},
   "outputs": [],
   "source": [
    "driver.quit()"
   ]
  },
  {
   "cell_type": "code",
   "execution_count": null,
   "metadata": {},
   "outputs": [],
   "source": []
  }
 ],
 "metadata": {
  "kernelspec": {
   "display_name": "base",
   "language": "python",
   "name": "python3"
  },
  "language_info": {
   "codemirror_mode": {
    "name": "ipython",
    "version": 3
   },
   "file_extension": ".py",
   "mimetype": "text/x-python",
   "name": "python",
   "nbconvert_exporter": "python",
   "pygments_lexer": "ipython3",
   "version": "3.12.4"
  }
 },
 "nbformat": 4,
 "nbformat_minor": 2
}
