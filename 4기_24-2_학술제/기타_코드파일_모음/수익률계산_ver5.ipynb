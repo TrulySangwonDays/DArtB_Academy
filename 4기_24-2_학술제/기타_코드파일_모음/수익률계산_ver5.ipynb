{
 "cells": [
  {
   "cell_type": "markdown",
   "metadata": {},
   "source": [
    "# 개요"
   ]
  },
  {
   "cell_type": "markdown",
   "metadata": {},
   "source": [
    "- 한강 수상발표 직전인 10월 10일 대비 10월 11일 주가 수익률 확인\n",
    "- 코스피\n",
    "- 코스닥\n",
    "- 개별주식들의 수익률 구해서 내림차순"
   ]
  },
  {
   "cell_type": "markdown",
   "metadata": {},
   "source": [
    "# 코스피 개별주식 수익률"
   ]
  },
  {
   "cell_type": "code",
   "execution_count": null,
   "metadata": {},
   "outputs": [
    {
     "name": "stderr",
     "output_type": "stream",
     "text": [
      "[*********************100%***********************]  840 of 840 completed\n",
      "\n",
      "3 Failed downloads:\n",
      "['005850.KS', '085310.KS', '462520.KS']: JSONDecodeError('Expecting value: line 1 column 1 (char 0)')\n"
     ]
    },
    {
     "name": "stdout",
     "output_type": "stream",
     "text": [
      "CSV로 저장 완료\n"
     ]
    }
   ],
   "source": [
    "import pandas as pd\n",
    "import yfinance as yf\n",
    "\n",
    "start = '2024-10-10'\n",
    "end = '2024-10-12'\n",
    "\n",
    "# 티커 데이터 불러오기\n",
    "tickers = pd.read_csv(f'/Users/leesangwon/Downloads/코스피_티커_241010.csv', encoding=\"utf-8\")\n",
    "tickers_list = tickers['티커'].tolist() if '티커' in tickers.columns else tickers.iloc[:, 0].tolist()\n",
    "symbol = tickers_list\n",
    "\n",
    "# 주가 데이터와 거래량 데이터 다운로드\n",
    "stock = yf.download(symbol, start, end)\n",
    "stock_adj_close = stock['Adj Close']\n",
    "stock_volume = stock['Volume']\n",
    "\n",
    "# 인덱스를 datetime 형식으로 변환\n",
    "stock_adj_close.index = pd.to_datetime(stock_adj_close.index)\n",
    "\n",
    "# 특정 날짜의 주가 데이터 선택\n",
    "before = stock_adj_close.loc[\"2024-10-10\"]\n",
    "after = stock_adj_close.loc[\"2024-10-11\"]\n",
    "\n",
    "# 수익률 계산\n",
    "returns = round((after - before) / before * 100, 3)\n",
    "\n",
    "# 수익률 데이터를 데이터프레임으로 변환\n",
    "returns_df = pd.DataFrame(returns, columns=[\"Return\"])\n",
    "\n",
    "# 거래량 변화율 계산\n",
    "volume_before = stock_volume.loc[\"2024-10-10\"]\n",
    "volume_after = stock_volume.loc[\"2024-10-11\"]\n",
    "volume_change_rate = round((volume_after - volume_before) / volume_before * 100, 3)\n",
    "returns_df['Volume Change Rate'] = volume_change_rate\n",
    "\n",
    "# 인덱스를 칼럼으로 변환하여 \"Ticker\"라는 새 칼럼 생성\n",
    "returns_df.reset_index(inplace=True)\n",
    "returns_df.rename(columns={\"index\": \"Ticker\"}, inplace=True)\n",
    "\n",
    "# 티커와 종목명 간의 매핑 딕셔너리 생성\n",
    "ticker_to_name = dict(zip(tickers['티커'], tickers['종목명']))\n",
    "\n",
    "# 티커를 종목명으로 대치\n",
    "returns_df[\"Ticker\"] = returns_df[\"Ticker\"].map(ticker_to_name)\n",
    "\n",
    "# 티커 칼럼 추가\n",
    "returns_df[\"Original Ticker\"] = returns_df[\"Ticker\"].map(lambda name: tickers[tickers['종목명'] == name]['티커'].values[0])\n",
    "\n",
    "# 수익률 내림차순\n",
    "returns_df.sort_values(by=\"Return\", ascending=False, inplace=True)\n",
    "\n",
    "# CSV 저장\n",
    "returns_df.to_csv('/Users/leesangwon/Downloads/1010_1011_kospi_returns_volumechg.csv', index=False)\n",
    "\n",
    "print(\"CSV로 저장 완료\")"
   ]
  },
  {
   "cell_type": "markdown",
   "metadata": {},
   "source": [
    "# 코스닥 개별주식 수익률"
   ]
  },
  {
   "cell_type": "code",
   "execution_count": null,
   "metadata": {},
   "outputs": [
    {
     "name": "stderr",
     "output_type": "stream",
     "text": [
      "[**********************67%*******                ]  1156 of 1731 completedFailed to get ticker '460940.KS' reason: Expecting value: line 1 column 1 (char 0)\n",
      "[*********************100%***********************]  1731 of 1731 completed\n",
      "\n",
      "42 Failed downloads:\n",
      "['199480.KS', '389650.KS', '351870.KS', '476080.KS', '481890.KS', '469750.KS', '482680.KS', '431190.KS', '482520.KS', '460940.KS', '464280.KS', '486630.KS', '464500.KS', '461300.KS', '473950.KS', '381620.KS', '460470.KS', '088340.KS', '478780.KS', '456070.KS']: YFTzMissingError('$%ticker%: possibly delisted; no timezone found')\n",
      "['111870.KS', '226360.KS', '174880.KS']: YFPricesMissingError('$%ticker%: possibly delisted; no price data found  (1d 2024-10-10 -> 2024-10-12)')\n",
      "['241520.KS', '054780.KS', '109080.KS', '477340.KS', '024950.KS', '089010.KS', '078020.KS', '179530.KS', '059100.KS', '060280.KS', '131090.KS', '376930.KS', '091440.KS', '173130.KS', '302550.KS', '026040.KS', '277810.KS', '244460.KS', '067770.KS']: JSONDecodeError('Expecting value: line 1 column 1 (char 0)')\n"
     ]
    },
    {
     "name": "stdout",
     "output_type": "stream",
     "text": [
      "CSV로 저장 완료\n"
     ]
    }
   ],
   "source": [
    "import pandas as pd\n",
    "import yfinance as yf\n",
    "\n",
    "start = '2024-10-10'\n",
    "end = '2024-10-12'\n",
    "\n",
    "# 티커 데이터 불러오기\n",
    "tickers = pd.read_csv(f'/Users/leesangwon/Downloads/코스닥_티커_241010.csv', encoding=\"utf-8\")\n",
    "tickers_list = tickers['티커'].tolist() if '티커' in tickers.columns else tickers.iloc[:, 0].tolist()\n",
    "symbol = tickers_list\n",
    "\n",
    "# 주가 데이터와 거래량 데이터 다운로드\n",
    "stock = yf.download(symbol, start, end)\n",
    "stock_adj_close = stock['Adj Close']\n",
    "stock_volume = stock['Volume']\n",
    "\n",
    "# 인덱스를 datetime 형식으로 변환\n",
    "stock_adj_close.index = pd.to_datetime(stock_adj_close.index)\n",
    "\n",
    "# 특정 날짜의 주가 데이터 선택\n",
    "before = stock_adj_close.loc[\"2024-10-10\"]\n",
    "after = stock_adj_close.loc[\"2024-10-11\"]\n",
    "\n",
    "# 수익률 계산\n",
    "returns = round((after - before) / before * 100, 3)\n",
    "\n",
    "# 수익률 데이터를 데이터프레임으로 변환\n",
    "returns_df = pd.DataFrame(returns, columns=[\"Return\"])\n",
    "\n",
    "# 거래량 변화율 계산\n",
    "volume_before = stock_volume.loc[\"2024-10-10\"]\n",
    "volume_after = stock_volume.loc[\"2024-10-11\"]\n",
    "volume_change_rate = round((volume_after - volume_before) / volume_before * 100, 3)\n",
    "returns_df['Volume Change Rate'] = volume_change_rate\n",
    "\n",
    "# 인덱스를 칼럼으로 변환하여 \"Ticker\"라는 새 칼럼 생성\n",
    "returns_df.reset_index(inplace=True)\n",
    "returns_df.rename(columns={\"index\": \"Ticker\"}, inplace=True)\n",
    "\n",
    "# 티커와 종목명 간의 매핑 딕셔너리 생성\n",
    "ticker_to_name = dict(zip(tickers['티커'], tickers['종목명']))\n",
    "\n",
    "# 티커를 종목명으로 대치\n",
    "returns_df[\"Ticker\"] = returns_df[\"Ticker\"].map(ticker_to_name)\n",
    "\n",
    "# 티커 칼럼 추가\n",
    "returns_df[\"Original Ticker\"] = returns_df[\"Ticker\"].map(lambda name: tickers[tickers['종목명'] == name]['티커'].values[0])\n",
    "\n",
    "# 수익률 내림차순\n",
    "returns_df.sort_values(by=\"Return\", ascending=False, inplace=True)\n",
    "\n",
    "# CSV 저장\n",
    "returns_df.to_csv('/Users/leesangwon/Downloads/1010_1011_kosdaq_returns_volumechg.csv', index=False)\n",
    "\n",
    "print(\"CSV로 저장 완료\")"
   ]
  },
  {
   "cell_type": "code",
   "execution_count": null,
   "metadata": {},
   "outputs": [],
   "source": []
  },
  {
   "cell_type": "code",
   "execution_count": null,
   "metadata": {},
   "outputs": [],
   "source": []
  },
  {
   "cell_type": "code",
   "execution_count": null,
   "metadata": {},
   "outputs": [],
   "source": []
  },
  {
   "cell_type": "code",
   "execution_count": null,
   "metadata": {},
   "outputs": [],
   "source": []
  },
  {
   "cell_type": "code",
   "execution_count": null,
   "metadata": {},
   "outputs": [],
   "source": []
  },
  {
   "cell_type": "code",
   "execution_count": null,
   "metadata": {},
   "outputs": [],
   "source": []
  },
  {
   "cell_type": "code",
   "execution_count": null,
   "metadata": {},
   "outputs": [],
   "source": []
  }
 ],
 "metadata": {
  "kernelspec": {
   "display_name": "base",
   "language": "python",
   "name": "python3"
  },
  "language_info": {
   "codemirror_mode": {
    "name": "ipython",
    "version": 3
   },
   "file_extension": ".py",
   "mimetype": "text/x-python",
   "name": "python",
   "nbconvert_exporter": "python",
   "pygments_lexer": "ipython3",
   "version": "3.12.4"
  }
 },
 "nbformat": 4,
 "nbformat_minor": 2
}
