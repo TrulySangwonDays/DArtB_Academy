{
 "cells": [
  {
   "cell_type": "markdown",
   "metadata": {},
   "source": [
    "# 연습"
   ]
  },
  {
   "cell_type": "code",
   "execution_count": 2,
   "metadata": {},
   "outputs": [
    {
     "name": "stderr",
     "output_type": "stream",
     "text": [
      "[*********************100%***********************]  840 of 840 completed\n"
     ]
    }
   ],
   "source": [
    "import pandas as pd\n",
    "import yfinance as yf\n",
    "\n",
    "start = '2024-10-10'\n",
    "end = '2024-10-15'\n",
    "\n",
    "tickers = pd.read_csv(f'/Users/leesangwon/Downloads/코스피_티커_241010.csv', encoding=\"utf-8\")\n",
    "# 티커 칼럼 리스트화\n",
    "tickers_list = tickers['티커'].tolist() if '티커' in tickers.columns else tickers.iloc[:, 0].tolist()\n",
    "symbol = tickers_list\n",
    "\n",
    "stock = yf.download(symbol, start, end)\n",
    "stock = stock['Adj Close']\n",
    "\n",
    "# stock 테이블을 CSV로 저장\n",
    "stock.to_csv('/Users/leesangwon/Downloads/1010_1015_stock_data.csv')"
   ]
  },
  {
   "cell_type": "code",
   "execution_count": null,
   "metadata": {},
   "outputs": [],
   "source": [
    "# 인덱스를 datetime 형식으로 변환\n",
    "stock.index = pd.to_datetime(stock.index)\n",
    "\n",
    "before = stock.loc[\"2024-10-10\"]\n",
    "after = stock.loc[\"2024-10-11\"]\n",
    "\n",
    "# 수익률 계산\n",
    "returns = round((after - before) / before * 100, 3)\n",
    "\n",
    "# 수익률 데이터를 데이터프레임으로 변환\n",
    "returns_df = pd.DataFrame(returns, columns=[\"Return\"])\n",
    "\n",
    "# 인덱스를 칼럼으로 변환하여 \"Ticker\"라는 새 칼럼 생성\n",
    "returns_df.reset_index(inplace=True)\n",
    "returns_df.rename(columns={\"index\": \"Ticker\"}, inplace=True)\n",
    "\n",
    "# 티커와 종목명 간의 매핑 딕셔너리 생성\n",
    "ticker_to_name = dict(zip(tickers['티커'], tickers['종목명']))\n",
    "\n",
    "# 티커를 종목명으로 대치\n",
    "returns_df[\"Ticker\"] = returns_df[\"Ticker\"].map(ticker_to_name)\n",
    "\n",
    "# 수익률을 내림차순으로 정렬\n",
    "returns_df.sort_values(by=\"Return\", ascending=False, inplace=True)\n",
    "\n",
    "# 결과 출력\n",
    "returns_df\n",
    "returns_df.to_csv('/Users/leesangwon/Downloads/1010_1011_stock_returns.csv')"
   ]
  },
  {
   "cell_type": "markdown",
   "metadata": {},
   "source": [
    "# 최종 수익률 계산코드"
   ]
  },
  {
   "cell_type": "code",
   "execution_count": 7,
   "metadata": {},
   "outputs": [
    {
     "name": "stderr",
     "output_type": "stream",
     "text": [
      "[*********************100%***********************]  840 of 840 completed\n"
     ]
    },
    {
     "name": "stdout",
     "output_type": "stream",
     "text": [
      "CSV로 저장 완료\n"
     ]
    }
   ],
   "source": [
    "import pandas as pd\n",
    "import yfinance as yf\n",
    "\n",
    "start = '2024-10-10'\n",
    "end = '2024-10-15'\n",
    "\n",
    "# 티커 데이터 불러오기\n",
    "tickers = pd.read_csv(f'/Users/leesangwon/Downloads/코스피_티커_241010.csv', encoding=\"utf-8\")\n",
    "tickers_list = tickers['티커'].tolist() if '티커' in tickers.columns else tickers.iloc[:, 0].tolist()\n",
    "symbol = tickers_list\n",
    "\n",
    "# 주가 데이터 다운로드\n",
    "stock = yf.download(symbol, start, end)\n",
    "stock = stock['Adj Close']\n",
    "\n",
    "# 인덱스를 datetime 형식으로 변환\n",
    "stock.index = pd.to_datetime(stock.index)\n",
    "\n",
    "# 특정 날짜의 주가 데이터 선택\n",
    "before = stock.loc[\"2024-10-10\"]\n",
    "after = stock.loc[\"2024-10-11\"]\n",
    "\n",
    "# 수익률 계산\n",
    "returns = round((after - before) / before * 100, 3)\n",
    "\n",
    "# 수익률 데이터를 데이터프레임으로 변환\n",
    "returns_df = pd.DataFrame(returns, columns=[\"Return\"])\n",
    "\n",
    "# 인덱스를 칼럼으로 변환하여 \"Ticker\"라는 새 칼럼 생성\n",
    "returns_df.reset_index(inplace=True)\n",
    "returns_df.rename(columns={\"index\": \"Ticker\"}, inplace=True)\n",
    "\n",
    "# 티커와 종목명 간의 매핑 딕셔너리 생성\n",
    "ticker_to_name = dict(zip(tickers['티커'], tickers['종목명']))\n",
    "\n",
    "# 티커를 종목명으로 대치\n",
    "returns_df[\"Ticker\"] = returns_df[\"Ticker\"].map(ticker_to_name)\n",
    "\n",
    "# 티커 칼럼 추가: 원래 티커 정보도 추가하고 싶을 경우\n",
    "returns_df[\"Original Ticker\"] = returns_df[\"Ticker\"].map(lambda name: tickers[tickers['종목명'] == name]['티커'].values[0])\n",
    "\n",
    "# 수익률을 내림차순으로 정렬\n",
    "returns_df.sort_values(by=\"Return\", ascending=False, inplace=True)\n",
    "\n",
    "# 결과 출력 및 CSV로 저장\n",
    "returns_df.to_csv('/Users/leesangwon/Downloads/1010_1011_stock_returns.csv', index=False)\n",
    "\n",
    "print(\"CSV로 저장 완료\")"
   ]
  },
  {
   "cell_type": "markdown",
   "metadata": {},
   "source": [
    "# 코스닥도 시도?"
   ]
  },
  {
   "cell_type": "code",
   "execution_count": null,
   "metadata": {},
   "outputs": [],
   "source": [
    "import pandas as pd\n",
    "import yfinance as yf\n",
    "\n",
    "start = '2024-10-10'\n",
    "end = '2024-10-15'\n",
    "\n",
    "# 티커 데이터 불러오기\n",
    "tickers = pd.read_csv(f'/Users/leesangwon/Downloads/코스닥_티커_241010.csv', encoding=\"utf-8\")\n",
    "tickers_list = tickers['티커'].tolist() if '티커' in tickers.columns else tickers.iloc[:, 0].tolist()\n",
    "symbol = tickers_list\n",
    "\n",
    "# 주가 데이터 다운로드\n",
    "stock = yf.download(symbol, start, end)\n",
    "stock = stock['Adj Close']\n",
    "\n",
    "# 인덱스를 datetime 형식으로 변환\n",
    "stock.index = pd.to_datetime(stock.index)\n",
    "\n",
    "# 특정 날짜의 주가 데이터 선택\n",
    "before = stock.loc[\"2024-10-10\"]\n",
    "after = stock.loc[\"2024-10-11\"]\n",
    "\n",
    "# 수익률 계산\n",
    "returns = round((after - before) / before * 100, 3)\n",
    "\n",
    "# 수익률 데이터를 데이터프레임으로 변환\n",
    "returns_df = pd.DataFrame(returns, columns=[\"Return\"])\n",
    "\n",
    "# 인덱스를 칼럼으로 변환하여 \"Ticker\"라는 새 칼럼 생성\n",
    "returns_df.reset_index(inplace=True)\n",
    "returns_df.rename(columns={\"index\": \"Ticker\"}, inplace=True)\n",
    "\n",
    "# 티커와 종목명 간의 매핑 딕셔너리 생성\n",
    "ticker_to_name = dict(zip(tickers['티커'], tickers['종목명']))\n",
    "\n",
    "# 티커를 종목명으로 대치\n",
    "returns_df[\"Ticker\"] = returns_df[\"Ticker\"].map(ticker_to_name)\n",
    "\n",
    "# 티커 칼럼 추가: 원래 티커 정보도 추가하고 싶을 경우\n",
    "returns_df[\"Original Ticker\"] = returns_df[\"Ticker\"].map(lambda name: tickers[tickers['종목명'] == name]['티커'].values[0])\n",
    "\n",
    "# 수익률을 내림차순으로 정렬\n",
    "returns_df.sort_values(by=\"Return\", ascending=False, inplace=True)\n",
    "\n",
    "# 결과 출력 및 CSV로 저장\n",
    "returns_df.to_csv('/Users/leesangwon/Downloads/1010_1011_kosdaq_returns.csv', index=False)\n",
    "\n",
    "print(\"CSV로 저장 완료\")"
   ]
  },
  {
   "cell_type": "code",
   "execution_count": null,
   "metadata": {},
   "outputs": [],
   "source": []
  },
  {
   "cell_type": "code",
   "execution_count": null,
   "metadata": {},
   "outputs": [],
   "source": []
  },
  {
   "cell_type": "code",
   "execution_count": null,
   "metadata": {},
   "outputs": [],
   "source": []
  },
  {
   "cell_type": "code",
   "execution_count": null,
   "metadata": {},
   "outputs": [],
   "source": []
  },
  {
   "cell_type": "code",
   "execution_count": null,
   "metadata": {},
   "outputs": [],
   "source": []
  },
  {
   "cell_type": "code",
   "execution_count": null,
   "metadata": {},
   "outputs": [],
   "source": []
  },
  {
   "cell_type": "code",
   "execution_count": null,
   "metadata": {},
   "outputs": [],
   "source": []
  },
  {
   "cell_type": "code",
   "execution_count": null,
   "metadata": {},
   "outputs": [],
   "source": []
  }
 ],
 "metadata": {
  "kernelspec": {
   "display_name": "base",
   "language": "python",
   "name": "python3"
  },
  "language_info": {
   "codemirror_mode": {
    "name": "ipython",
    "version": 3
   },
   "file_extension": ".py",
   "mimetype": "text/x-python",
   "name": "python",
   "nbconvert_exporter": "python",
   "pygments_lexer": "ipython3",
   "version": "3.12.4"
  }
 },
 "nbformat": 4,
 "nbformat_minor": 2
}
