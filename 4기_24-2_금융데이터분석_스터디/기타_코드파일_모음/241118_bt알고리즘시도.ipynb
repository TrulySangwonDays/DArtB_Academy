{
 "cells": [
  {
   "cell_type": "code",
   "execution_count": 1,
   "metadata": {},
   "outputs": [
    {
     "name": "stdout",
     "output_type": "stream",
     "text": [
      "Requirement already satisfied: koreanize-matplotlib in /opt/anaconda3/lib/python3.12/site-packages (0.1.1)\n",
      "Requirement already satisfied: matplotlib in /opt/anaconda3/lib/python3.12/site-packages (from koreanize-matplotlib) (3.8.4)\n",
      "Requirement already satisfied: contourpy>=1.0.1 in /opt/anaconda3/lib/python3.12/site-packages (from matplotlib->koreanize-matplotlib) (1.2.0)\n",
      "Requirement already satisfied: cycler>=0.10 in /opt/anaconda3/lib/python3.12/site-packages (from matplotlib->koreanize-matplotlib) (0.11.0)\n",
      "Requirement already satisfied: fonttools>=4.22.0 in /opt/anaconda3/lib/python3.12/site-packages (from matplotlib->koreanize-matplotlib) (4.51.0)\n",
      "Requirement already satisfied: kiwisolver>=1.3.1 in /opt/anaconda3/lib/python3.12/site-packages (from matplotlib->koreanize-matplotlib) (1.4.4)\n",
      "Requirement already satisfied: numpy>=1.21 in /opt/anaconda3/lib/python3.12/site-packages (from matplotlib->koreanize-matplotlib) (1.26.4)\n",
      "Requirement already satisfied: packaging>=20.0 in /opt/anaconda3/lib/python3.12/site-packages (from matplotlib->koreanize-matplotlib) (23.2)\n",
      "Requirement already satisfied: pillow>=8 in /opt/anaconda3/lib/python3.12/site-packages (from matplotlib->koreanize-matplotlib) (10.3.0)\n",
      "Requirement already satisfied: pyparsing>=2.3.1 in /opt/anaconda3/lib/python3.12/site-packages (from matplotlib->koreanize-matplotlib) (3.0.9)\n",
      "Requirement already satisfied: python-dateutil>=2.7 in /opt/anaconda3/lib/python3.12/site-packages (from matplotlib->koreanize-matplotlib) (2.9.0.post0)\n",
      "Requirement already satisfied: six>=1.5 in /opt/anaconda3/lib/python3.12/site-packages (from python-dateutil>=2.7->matplotlib->koreanize-matplotlib) (1.16.0)\n"
     ]
    }
   ],
   "source": [
    "!pip install koreanize-matplotlib\n",
    "import koreanize_matplotlib"
   ]
  },
  {
   "cell_type": "code",
   "execution_count": 1,
   "metadata": {},
   "outputs": [],
   "source": [
    "import bt #백테스팅\n",
    "import yfinance as yf #주가크롤링\n",
    "\n",
    "import pandas as pd"
   ]
  },
  {
   "cell_type": "markdown",
   "metadata": {},
   "source": [
    "### 주가 데이터 로드"
   ]
  },
  {
   "cell_type": "code",
   "execution_count": 2,
   "metadata": {},
   "outputs": [],
   "source": [
    "# 백테스팅 날짜 선정\n",
    "start = '2015-01-01'\n",
    "end = '2020-12-31'"
   ]
  },
  {
   "cell_type": "code",
   "execution_count": 3,
   "metadata": {},
   "outputs": [
    {
     "name": "stderr",
     "output_type": "stream",
     "text": [
      "[*********************100%***********************]  5 of 5 completed\n"
     ]
    },
    {
     "data": {
      "text/html": [
       "<div>\n",
       "<style scoped>\n",
       "    .dataframe tbody tr th:only-of-type {\n",
       "        vertical-align: middle;\n",
       "    }\n",
       "\n",
       "    .dataframe tbody tr th {\n",
       "        vertical-align: top;\n",
       "    }\n",
       "\n",
       "    .dataframe thead th {\n",
       "        text-align: right;\n",
       "    }\n",
       "</style>\n",
       "<table border=\"1\" class=\"dataframe\">\n",
       "  <thead>\n",
       "    <tr style=\"text-align: right;\">\n",
       "      <th>Ticker</th>\n",
       "      <th>XLF</th>\n",
       "      <th>XLK</th>\n",
       "      <th>XLP</th>\n",
       "      <th>XLV</th>\n",
       "      <th>XLY</th>\n",
       "    </tr>\n",
       "    <tr>\n",
       "      <th>Date</th>\n",
       "      <th></th>\n",
       "      <th></th>\n",
       "      <th></th>\n",
       "      <th></th>\n",
       "      <th></th>\n",
       "    </tr>\n",
       "  </thead>\n",
       "  <tbody>\n",
       "    <tr>\n",
       "      <th>2015-01-02 00:00:00+00:00</th>\n",
       "      <td>16.656864</td>\n",
       "      <td>36.498821</td>\n",
       "      <td>37.333603</td>\n",
       "      <td>58.564087</td>\n",
       "      <td>64.070145</td>\n",
       "    </tr>\n",
       "    <tr>\n",
       "      <th>2015-01-05 00:00:00+00:00</th>\n",
       "      <td>16.306618</td>\n",
       "      <td>35.941658</td>\n",
       "      <td>37.071060</td>\n",
       "      <td>58.265419</td>\n",
       "      <td>62.844730</td>\n",
       "    </tr>\n",
       "    <tr>\n",
       "      <th>2015-01-06 00:00:00+00:00</th>\n",
       "      <td>16.057400</td>\n",
       "      <td>35.508305</td>\n",
       "      <td>37.024738</td>\n",
       "      <td>58.069160</td>\n",
       "      <td>62.218582</td>\n",
       "    </tr>\n",
       "    <tr>\n",
       "      <th>2015-01-07 00:00:00+00:00</th>\n",
       "      <td>16.225796</td>\n",
       "      <td>35.809002</td>\n",
       "      <td>37.657898</td>\n",
       "      <td>59.434486</td>\n",
       "      <td>63.202515</td>\n",
       "    </tr>\n",
       "    <tr>\n",
       "      <th>2015-01-08 00:00:00+00:00</th>\n",
       "      <td>16.468273</td>\n",
       "      <td>36.596100</td>\n",
       "      <td>38.229286</td>\n",
       "      <td>60.449940</td>\n",
       "      <td>64.150642</td>\n",
       "    </tr>\n",
       "    <tr>\n",
       "      <th>...</th>\n",
       "      <td>...</td>\n",
       "      <td>...</td>\n",
       "      <td>...</td>\n",
       "      <td>...</td>\n",
       "      <td>...</td>\n",
       "    </tr>\n",
       "    <tr>\n",
       "      <th>2020-12-23 00:00:00+00:00</th>\n",
       "      <td>26.999994</td>\n",
       "      <td>124.272270</td>\n",
       "      <td>60.260098</td>\n",
       "      <td>104.894234</td>\n",
       "      <td>152.933319</td>\n",
       "    </tr>\n",
       "    <tr>\n",
       "      <th>2020-12-24 00:00:00+00:00</th>\n",
       "      <td>27.037354</td>\n",
       "      <td>125.096146</td>\n",
       "      <td>60.559628</td>\n",
       "      <td>105.196213</td>\n",
       "      <td>153.253662</td>\n",
       "    </tr>\n",
       "    <tr>\n",
       "      <th>2020-12-28 00:00:00+00:00</th>\n",
       "      <td>27.168110</td>\n",
       "      <td>126.511330</td>\n",
       "      <td>61.040699</td>\n",
       "      <td>105.460449</td>\n",
       "      <td>155.000916</td>\n",
       "    </tr>\n",
       "    <tr>\n",
       "      <th>2020-12-29 00:00:00+00:00</th>\n",
       "      <td>27.074711</td>\n",
       "      <td>125.910362</td>\n",
       "      <td>60.859165</td>\n",
       "      <td>105.960625</td>\n",
       "      <td>155.049408</td>\n",
       "    </tr>\n",
       "    <tr>\n",
       "      <th>2020-12-30 00:00:00+00:00</th>\n",
       "      <td>27.196125</td>\n",
       "      <td>125.842514</td>\n",
       "      <td>60.795624</td>\n",
       "      <td>105.941742</td>\n",
       "      <td>155.981293</td>\n",
       "    </tr>\n",
       "  </tbody>\n",
       "</table>\n",
       "<p>1510 rows × 5 columns</p>\n",
       "</div>"
      ],
      "text/plain": [
       "Ticker                           XLF         XLK        XLP         XLV  \\\n",
       "Date                                                                      \n",
       "2015-01-02 00:00:00+00:00  16.656864   36.498821  37.333603   58.564087   \n",
       "2015-01-05 00:00:00+00:00  16.306618   35.941658  37.071060   58.265419   \n",
       "2015-01-06 00:00:00+00:00  16.057400   35.508305  37.024738   58.069160   \n",
       "2015-01-07 00:00:00+00:00  16.225796   35.809002  37.657898   59.434486   \n",
       "2015-01-08 00:00:00+00:00  16.468273   36.596100  38.229286   60.449940   \n",
       "...                              ...         ...        ...         ...   \n",
       "2020-12-23 00:00:00+00:00  26.999994  124.272270  60.260098  104.894234   \n",
       "2020-12-24 00:00:00+00:00  27.037354  125.096146  60.559628  105.196213   \n",
       "2020-12-28 00:00:00+00:00  27.168110  126.511330  61.040699  105.460449   \n",
       "2020-12-29 00:00:00+00:00  27.074711  125.910362  60.859165  105.960625   \n",
       "2020-12-30 00:00:00+00:00  27.196125  125.842514  60.795624  105.941742   \n",
       "\n",
       "Ticker                            XLY  \n",
       "Date                                   \n",
       "2015-01-02 00:00:00+00:00   64.070145  \n",
       "2015-01-05 00:00:00+00:00   62.844730  \n",
       "2015-01-06 00:00:00+00:00   62.218582  \n",
       "2015-01-07 00:00:00+00:00   63.202515  \n",
       "2015-01-08 00:00:00+00:00   64.150642  \n",
       "...                               ...  \n",
       "2020-12-23 00:00:00+00:00  152.933319  \n",
       "2020-12-24 00:00:00+00:00  153.253662  \n",
       "2020-12-28 00:00:00+00:00  155.000916  \n",
       "2020-12-29 00:00:00+00:00  155.049408  \n",
       "2020-12-30 00:00:00+00:00  155.981293  \n",
       "\n",
       "[1510 rows x 5 columns]"
      ]
     },
     "execution_count": 3,
     "metadata": {},
     "output_type": "execute_result"
    }
   ],
   "source": [
    "symbol = ['XLF', 'XLY', 'XLP', 'XLK', 'XLV']\n",
    "# 금융, 임의소비재, 필수소비재, 정보기술, 헬스케어\n",
    "\n",
    "df = yf.download(symbol, start, end)\n",
    "df = df['Adj Close']\n",
    "df"
   ]
  },
  {
   "cell_type": "code",
   "execution_count": 4,
   "metadata": {},
   "outputs": [
    {
     "data": {
      "text/plain": [
       "<Axes: xlabel='Date'>"
      ]
     },
     "execution_count": 4,
     "metadata": {},
     "output_type": "execute_result"
    },
    {
     "data": {
      "image/png": "[encoded data removed]",
      "text/plain": [
       "<Figure size 640x480 with 1 Axes>"
      ]
     },
     "metadata": {},
     "output_type": "display_data"
    }
   ],
   "source": [
    "df.plot()"
   ]
  },
  {
   "cell_type": "code",
   "execution_count": null,
   "metadata": {},
   "outputs": [],
   "source": []
  },
  {
   "cell_type": "markdown",
   "metadata": {},
   "source": [
    "---"
   ]
  },
  {
   "cell_type": "code",
   "execution_count": 23,
   "metadata": {},
   "outputs": [
    {
     "name": "stderr",
     "output_type": "stream",
     "text": [
      "[*********************100%***********************]  3 of 3 completed\n",
      "  0%|          | 0/1 [00:00<?, ?it/s]\n"
     ]
    },
    {
     "ename": "KeyError",
     "evalue": "<function adjust_weights at 0x301191440>",
     "output_type": "error",
     "traceback": [
      "\u001b[0;31m---------------------------------------------------------------------------\u001b[0m",
      "\u001b[0;31mKeyError\u001b[0m                                  Traceback (most recent call last)",
      "Cell \u001b[0;32mIn[23], line 58\u001b[0m\n\u001b[1;32m     56\u001b[0m \u001b[38;5;66;03m# 5. 백테스팅 실행\u001b[39;00m\n\u001b[1;32m     57\u001b[0m portfolio \u001b[38;5;241m=\u001b[39m backtest_strategy()\n\u001b[0;32m---> 58\u001b[0m result \u001b[38;5;241m=\u001b[39m bt\u001b[38;5;241m.\u001b[39mrun(portfolio)\n\u001b[1;32m     60\u001b[0m \u001b[38;5;66;03m# 결과 출력\u001b[39;00m\n\u001b[1;32m     61\u001b[0m result\u001b[38;5;241m.\u001b[39mplot()\n",
      "File \u001b[0;32m/opt/anaconda3/lib/python3.12/site-packages/bt/backtest.py:30\u001b[0m, in \u001b[0;36mrun\u001b[0;34m(*backtests)\u001b[0m\n\u001b[1;32m     28\u001b[0m \u001b[38;5;66;03m# run each backtest\u001b[39;00m\n\u001b[1;32m     29\u001b[0m \u001b[38;5;28;01mfor\u001b[39;00m bkt \u001b[38;5;129;01min\u001b[39;00m tqdm(backtests):\n\u001b[0;32m---> 30\u001b[0m     bkt\u001b[38;5;241m.\u001b[39mrun()\n\u001b[1;32m     32\u001b[0m \u001b[38;5;28;01mreturn\u001b[39;00m Result(\u001b[38;5;241m*\u001b[39mbacktests)\n",
      "File \u001b[0;32m/opt/anaconda3/lib/python3.12/site-packages/bt/backtest.py:252\u001b[0m, in \u001b[0;36mBacktest.run\u001b[0;34m(self)\u001b[0m\n\u001b[1;32m    249\u001b[0m \u001b[38;5;28mself\u001b[39m\u001b[38;5;241m.\u001b[39mstrategy\u001b[38;5;241m.\u001b[39mupdate(dt)\n\u001b[1;32m    251\u001b[0m \u001b[38;5;28;01mif\u001b[39;00m \u001b[38;5;129;01mnot\u001b[39;00m \u001b[38;5;28mself\u001b[39m\u001b[38;5;241m.\u001b[39mstrategy\u001b[38;5;241m.\u001b[39mbankrupt:\n\u001b[0;32m--> 252\u001b[0m     \u001b[38;5;28mself\u001b[39m\u001b[38;5;241m.\u001b[39mstrategy\u001b[38;5;241m.\u001b[39mrun()\n\u001b[1;32m    253\u001b[0m     \u001b[38;5;66;03m# need update after to save weights, values and such\u001b[39;00m\n\u001b[1;32m    254\u001b[0m     \u001b[38;5;28mself\u001b[39m\u001b[38;5;241m.\u001b[39mstrategy\u001b[38;5;241m.\u001b[39mupdate(dt)\n",
      "File \u001b[0;32m/opt/anaconda3/lib/python3.12/site-packages/bt/core.py:2062\u001b[0m, in \u001b[0;36mbt.core.Strategy.run\u001b[0;34m()\u001b[0m\n",
      "File \u001b[0;32m/opt/anaconda3/lib/python3.12/site-packages/bt/core.py:2002\u001b[0m, in \u001b[0;36mbt.core.AlgoStack.__call__\u001b[0;34m()\u001b[0m\n",
      "File \u001b[0;32m/opt/anaconda3/lib/python3.12/site-packages/bt/algos.py:1078\u001b[0m, in \u001b[0;36mWeighTarget.__call__\u001b[0;34m(self, target)\u001b[0m\n\u001b[1;32m   1076\u001b[0m     weights \u001b[38;5;241m=\u001b[39m \u001b[38;5;28mself\u001b[39m\u001b[38;5;241m.\u001b[39mweights\n\u001b[1;32m   1077\u001b[0m \u001b[38;5;28;01melse\u001b[39;00m:\n\u001b[0;32m-> 1078\u001b[0m     weights \u001b[38;5;241m=\u001b[39m target\u001b[38;5;241m.\u001b[39mget_data(\u001b[38;5;28mself\u001b[39m\u001b[38;5;241m.\u001b[39mweights_name)\n\u001b[1;32m   1080\u001b[0m \u001b[38;5;28;01mif\u001b[39;00m target\u001b[38;5;241m.\u001b[39mnow \u001b[38;5;129;01min\u001b[39;00m weights\u001b[38;5;241m.\u001b[39mindex:\n\u001b[1;32m   1081\u001b[0m     w \u001b[38;5;241m=\u001b[39m weights\u001b[38;5;241m.\u001b[39mloc[target\u001b[38;5;241m.\u001b[39mnow]\n",
      "File \u001b[0;32m/opt/anaconda3/lib/python3.12/site-packages/bt/core.py:660\u001b[0m, in \u001b[0;36mbt.core.StrategyBase.get_data\u001b[0;34m()\u001b[0m\n",
      "\u001b[0;31mKeyError\u001b[0m: <function adjust_weights at 0x301191440>"
     ]
    }
   ],
   "source": [
    "import bt\n",
    "import yfinance as yf\n",
    "import pandas as pd\n",
    "import numpy as np\n",
    "\n",
    "# 1. 금리 데이터와 비중 데이터 로드\n",
    "interest_rate_df = pd.read_csv('/Users/leesangwon/Downloads/미국_금리.csv', parse_dates=['날짜'])\n",
    "weight_df = pd.read_csv('/Users/leesangwon/Downloads/비중_지표_예.csv')\n",
    "\n",
    "# 금리 데이터 날짜를 DateTime 형식으로 변환\n",
    "interest_rate_df['날짜'] = pd.to_datetime(interest_rate_df['날짜'], format='%Y.%m.%d')\n",
    "\n",
    "# 2. 야후파이낸스 데이터 다운로드 (예시: 주식, 채권, 원자재)\n",
    "tickers = ['SPY', 'TLT', 'DBC']  # SPY: S&P 500, TLT: 미국 장기채권, DBC: 원자재\n",
    "prices = yf.download(tickers, start='2010-01-01', end='2023-12-31')['Adj Close']\n",
    "\n",
    "# 3. 금리 변동 이벤트 감지 및 비중 조정\n",
    "def adjust_weights(target):\n",
    "    # 현재 날짜를 타겟 객체에서 직접 가져오기 (target.now는 pd.Timestamp 객체)\n",
    "    current_date = target.now.date()\n",
    "    \n",
    "    # 금리가 변동한 날짜를 찾고, 해당 날짜의 비중을 가져옴\n",
    "    rate_change = interest_rate_df[interest_rate_df['날짜'] == pd.to_datetime(current_date)]\n",
    "    \n",
    "    if not rate_change.empty:\n",
    "        # 금리 변동에 따라 비중을 조정 (예: 금리가 높으면 채권 비중 증가, 낮으면 주식 비중 증가)\n",
    "        weight_row = weight_df[weight_df['금리변동'] == rate_change['금리'].values[0]]\n",
    "        if not weight_row.empty:\n",
    "            weights = weight_row[['채권 비중', '주식 비중', '원자재 비중']].values[0]\n",
    "            # 비중을 pandas Series 형식으로 반환\n",
    "            target.temp['weights'] = pd.Series(weights, index=prices.columns)  # 임시 저장\n",
    "            return pd.Series(weights, index=prices.columns)\n",
    "    \n",
    "    # 금리가 변동하지 않으면 이전 비중을 그대로 유지\n",
    "    return target.temp['weights'] if 'weights' in target.temp else pd.Series([0.33, 0.33, 0.33], index=prices.columns)\n",
    "\n",
    "# 4. 전략 설정: 매일 실행되고 금리 변동이 있는 날에만 비중 조정\n",
    "def backtest_strategy():\n",
    "    # 전략의 초기 비중 설정 (기본적으로 균등 비중)\n",
    "    initial_weights = pd.Series([0.33, 0.33, 0.33], index=prices.columns)\n",
    "\n",
    "    # 전략 포트폴리오 생성\n",
    "    strategy = bt.Strategy('Dynamic Allocation with Rate Change',\n",
    "                           [\n",
    "                               bt.algos.RunDaily(),  # 매일 실행\n",
    "                               bt.algos.SelectAll(),\n",
    "                               bt.algos.WeighTarget(adjust_weights),  # 금리 변동에 따라 비중 조정\n",
    "                               bt.algos.Rebalance()\n",
    "                           ])\n",
    "\n",
    "    # 백테스팅 포트폴리오 생성\n",
    "    portfolio = bt.Backtest(strategy, prices)\n",
    "\n",
    "    return portfolio\n",
    "\n",
    "# 5. 백테스팅 실행\n",
    "portfolio = backtest_strategy()\n",
    "result = bt.run(portfolio)\n",
    "\n",
    "# 결과 출력\n",
    "result.plot()"
   ]
  },
  {
   "cell_type": "code",
   "execution_count": null,
   "metadata": {},
   "outputs": [],
   "source": []
  },
  {
   "cell_type": "code",
   "execution_count": null,
   "metadata": {},
   "outputs": [],
   "source": []
  },
  {
   "cell_type": "code",
   "execution_count": null,
   "metadata": {},
   "outputs": [],
   "source": []
  },
  {
   "cell_type": "code",
   "execution_count": null,
   "metadata": {},
   "outputs": [],
   "source": []
  },
  {
   "cell_type": "code",
   "execution_count": null,
   "metadata": {},
   "outputs": [],
   "source": []
  },
  {
   "cell_type": "code",
   "execution_count": null,
   "metadata": {},
   "outputs": [],
   "source": []
  },
  {
   "cell_type": "code",
   "execution_count": null,
   "metadata": {},
   "outputs": [],
   "source": []
  },
  {
   "cell_type": "code",
   "execution_count": null,
   "metadata": {},
   "outputs": [],
   "source": []
  },
  {
   "cell_type": "code",
   "execution_count": null,
   "metadata": {},
   "outputs": [],
   "source": []
  },
  {
   "cell_type": "code",
   "execution_count": null,
   "metadata": {},
   "outputs": [],
   "source": []
  },
  {
   "cell_type": "code",
   "execution_count": null,
   "metadata": {},
   "outputs": [],
   "source": []
  },
  {
   "cell_type": "code",
   "execution_count": null,
   "metadata": {},
   "outputs": [],
   "source": []
  },
  {
   "cell_type": "code",
   "execution_count": null,
   "metadata": {},
   "outputs": [],
   "source": []
  },
  {
   "cell_type": "code",
   "execution_count": null,
   "metadata": {},
   "outputs": [],
   "source": []
  }
 ],
 "metadata": {
  "kernelspec": {
   "display_name": "base",
   "language": "python",
   "name": "python3"
  },
  "language_info": {
   "codemirror_mode": {
    "name": "ipython",
    "version": 3
   },
   "file_extension": ".py",
   "mimetype": "text/x-python",
   "name": "python",
   "nbconvert_exporter": "python",
   "pygments_lexer": "ipython3",
   "version": "3.12.4"
  }
 },
 "nbformat": 4,
 "nbformat_minor": 2
}
