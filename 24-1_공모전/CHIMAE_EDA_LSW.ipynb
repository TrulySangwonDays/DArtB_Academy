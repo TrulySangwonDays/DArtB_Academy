{
 "cells": [
  {
   "cell_type": "code",
   "execution_count": 2,
   "id": "3bff3c93",
   "metadata": {},
   "outputs": [],
   "source": [
    "import pandas as pd"
   ]
  },
  {
   "cell_type": "code",
   "execution_count": 5,
   "metadata": {},
   "outputs": [],
   "source": [
    "train_walk = pd.read_csv('./128.치매 고위험군 라이프로그/01.데이터/1.Training/원천데이터/1.걸음걸이/train_activity.csv')\n",
    "train_sleep = pd.read_csv('./128.치매 고위험군 라이프로그/01.데이터/1.Training/원천데이터/2.수면/train_sleep.csv')\n",
    "train_mmse = pd.read_csv('./128.치매 고위험군 라이프로그/01.데이터/1.Training/원천데이터/3.인지기능/train_mmse.csv')\n",
    "\n",
    "train_walk_label = pd.read_csv('./128.치매 고위험군 라이프로그/01.데이터/1.Training/라벨링데이터/1.걸음걸이/training_label.csv')\n",
    "train_sleep_label = pd.read_csv('./128.치매 고위험군 라이프로그/01.데이터/1.Training/라벨링데이터/2.수면/training_label.csv')\n",
    "train_mmse_label = pd.read_csv('./128.치매 고위험군 라이프로그/01.데이터/1.Training/라벨링데이터/3.인지기능/training_label.csv')\n"
   ]
  },
  {
   "cell_type": "code",
   "execution_count": 16,
   "id": "fc4fcfc2",
   "metadata": {},
   "outputs": [
    {
     "name": "stdout",
     "output_type": "stream",
     "text": [
      "정수형 : ['activity_cal_active', 'activity_cal_total', 'activity_daily_movement', 'activity_high', 'activity_inactive', 'activity_inactivity_alerts', 'activity_low', 'activity_medium', 'activity_met_min_high', 'activity_met_min_inactive', 'activity_met_min_low', 'activity_met_min_medium', 'activity_non_wear', 'activity_rest', 'activity_score', 'activity_score_meet_daily_targets', 'activity_score_move_every_hour', 'activity_score_recovery_time', 'activity_score_stay_active', 'activity_score_training_frequency', 'activity_score_training_volume', 'activity_steps', 'activity_total']\n",
      "실수형 : ['activity_average_met']\n",
      "문자열 : ['EMAIL', 'activity_class_5min', 'activity_day_end', 'activity_day_start', 'activity_met_1min', 'CONVERT(activity_class_5min USING utf8)', 'CONVERT(activity_met_1min USING utf8)']\n",
      "\n",
      "정수형 : []\n",
      "실수형 : []\n",
      "문자열 : ['SAMPLE_EMAIL', 'DIAG_NM']\n",
      "\n"
     ]
    }
   ],
   "source": [
    "# 원천 데이터 칼럼\n",
    "data_types = train_walk.dtypes\n",
    "data_types\n",
    "\n",
    "int64 = data_types[data_types == 'int64'].index.tolist()\n",
    "float64 = data_types[data_types == 'float64'].index.tolist()\n",
    "_object = data_types[data_types == 'object'].index.tolist()\n",
    "\n",
    "print(f'정수형 : {int64}')\n",
    "print(f'실수형 : {float64}')\n",
    "print(f'문자열 : {_object}\\n')\n",
    "\n",
    "# 라벨링 데이터 칼럼\n",
    "data_types = train_walk_label.dtypes\n",
    "data_types\n",
    "\n",
    "int64 = data_types[data_types == 'int64'].index.tolist()\n",
    "float64 = data_types[data_types == 'float64'].index.tolist()\n",
    "_object = data_types[data_types == 'object'].index.tolist()\n",
    "\n",
    "print(f'정수형 : {int64}')\n",
    "print(f'실수형 : {float64}')\n",
    "print(f'문자열 : {_object}\\n')"
   ]
  },
  {
   "cell_type": "code",
   "execution_count": 14,
   "metadata": {},
   "outputs": [
    {
     "name": "stdout",
     "output_type": "stream",
     "text": [
      "EMAIL 칼럼 :  141명\n",
      "SAMPLE_EMAIL 칼럼 :  141명\n"
     ]
    }
   ],
   "source": [
    "Case = len(train_walk['EMAIL'].unique())\n",
    "print(f'EMAIL 칼럼 :  {Case}명')\n",
    "\n",
    "Case_1 = len(train_walk_label['SAMPLE_EMAIL'].unique())\n",
    "print(f'SAMPLE_EMAIL 칼럼 :  {Case_1}명')\n",
    "\n"
   ]
  },
  {
   "cell_type": "code",
   "execution_count": 15,
   "id": "0cc2de89-4480-4835-aba6-8fc3cd081bd6",
   "metadata": {},
   "outputs": [
    {
     "name": "stdout",
     "output_type": "stream",
     "text": [
      "              결측치 수  결측치 비율\n",
      "SAMPLE_EMAIL      0     0.0\n",
      "DIAG_NM           0     0.0\n"
     ]
    }
   ],
   "source": [
    "missing_count = train_walk_label.isnull().sum()\n",
    "missing_ratio = round(missing_count / len(train_walk_label), 3)\n",
    "\n",
    "missing_info = pd.concat([missing_count, missing_ratio], axis=1, keys=['결측치 수', '결측치 비율'])\n",
    "print(missing_info)"
   ]
  },
  {
   "cell_type": "code",
   "execution_count": null,
   "id": "b0fccd04-dd98-44f7-9d54-497e30f5e5ab",
   "metadata": {},
   "outputs": [],
   "source": []
  },
  {
   "cell_type": "code",
   "execution_count": null,
   "id": "ff5bf374-a35b-4832-b4c6-9c8bc95fd2c0",
   "metadata": {},
   "outputs": [],
   "source": []
  }
 ],
 "metadata": {
  "kernelspec": {
   "display_name": "Python 3 (ipykernel)",
   "language": "python",
   "name": "python3"
  },
  "language_info": {
   "codemirror_mode": {
    "name": "ipython",
    "version": 3
   },
   "file_extension": ".py",
   "mimetype": "text/x-python",
   "name": "python",
   "nbconvert_exporter": "python",
   "pygments_lexer": "ipython3",
   "version": "3.9.2"
  }
 },
 "nbformat": 4,
 "nbformat_minor": 5
}
